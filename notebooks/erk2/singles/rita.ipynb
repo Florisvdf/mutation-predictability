{
 "cells": [
  {
   "cell_type": "code",
   "execution_count": 1,
   "metadata": {
    "collapsed": true
   },
   "outputs": [],
   "source": [
    "import joblib\n",
    "\n",
    "import pandas as pd\n",
    "import numpy as np\n",
    "from scipy.stats import spearmanr\n",
    "\n",
    "from predictability.models import RITARegressor\n",
    "from predictability.utils import sel_kfold\n",
    "from predictability.constants import BINARY_RESIDUE_FEATURES, PROJECT_ROOT, DATA_ROOT"
   ]
  },
  {
   "cell_type": "code",
   "execution_count": 2,
   "outputs": [],
   "source": [
    "results_dir = PROJECT_ROOT / \"results/erk2/singles/rita\"\n",
    "results_dir.mkdir(exist_ok=True)"
   ],
   "metadata": {
    "collapsed": false
   }
  },
  {
   "cell_type": "markdown",
   "source": [
    "# Loading data"
   ],
   "metadata": {
    "collapsed": false
   }
  },
  {
   "cell_type": "code",
   "execution_count": 5,
   "outputs": [],
   "source": [
    "data = pd.read_csv(DATA_ROOT / \"erk2/singles.csv\")"
   ],
   "metadata": {
    "collapsed": false
   }
  },
  {
   "cell_type": "code",
   "execution_count": 7,
   "outputs": [
    {
     "name": "stderr",
     "output_type": "stream",
     "text": [
      "Explicitly passing a `revision` is encouraged when loading a configuration with custom code to ensure no malicious code has been contributed in a newer revision.\n",
      "Explicitly passing a `revision` is encouraged when loading a model with custom code to ensure no malicious code has been contributed in a newer revision.\n"
     ]
    }
   ],
   "source": [
    "rita_model = RITARegressor()"
   ],
   "metadata": {
    "collapsed": false
   }
  },
  {
   "cell_type": "code",
   "execution_count": 8,
   "outputs": [],
   "source": [
    "# Uncomment to generate embeddings\n",
    "embeddings = rita_model.embed(data)\n",
    "sequence_embeddings = {sequence: embedding for sequence, embedding in zip(data[\"sequence\"], embeddings)}\n",
    "joblib.dump(sequence_embeddings, DATA_ROOT / \"erk2/single_sequence_embeddings.joblib\")\n",
    "\n",
    "embeddings = joblib.load(DATA_ROOT / \"erk2/single_sequence_embeddings.joblib\")\n",
    "embeddings = np.vstack(embeddings.values())\n",
    "data[\"embedding_index\"] = np.arange(len(data))"
   ],
   "metadata": {
    "collapsed": false
   }
  },
  {
   "cell_type": "markdown",
   "source": [
    "# Running models"
   ],
   "metadata": {
    "collapsed": false
   }
  },
  {
   "cell_type": "code",
   "execution_count": 10,
   "outputs": [
    {
     "name": "stderr",
     "output_type": "stream",
     "text": [
      "2023-09-01 11:57:47.543 | INFO     | unpredictability.models:fit:197 - Fitting ridge\n"
     ]
    },
    {
     "name": "stdout",
     "output_type": "stream",
     "text": [
      "Feature: is_buried\n",
      "Belongs: no\n",
      "Total samples: 3358\n"
     ]
    },
    {
     "name": "stderr",
     "output_type": "stream",
     "text": [
      "2023-09-01 11:57:48.229 | INFO     | unpredictability.models:fit:197 - Fitting ridge\n",
      "2023-09-01 11:57:49.093 | INFO     | unpredictability.models:fit:197 - Fitting ridge\n",
      "2023-09-01 11:57:49.972 | INFO     | unpredictability.models:fit:197 - Fitting ridge\n",
      "2023-09-01 11:57:50.771 | INFO     | unpredictability.models:fit:197 - Fitting ridge\n",
      "2023-09-01 11:57:51.638 | INFO     | unpredictability.models:fit:197 - Fitting ridge\n",
      "2023-09-01 11:57:52.362 | INFO     | unpredictability.models:fit:197 - Fitting ridge\n",
      "2023-09-01 11:57:53.155 | INFO     | unpredictability.models:fit:197 - Fitting ridge\n",
      "2023-09-01 11:57:53.932 | INFO     | unpredictability.models:fit:197 - Fitting ridge\n",
      "2023-09-01 11:57:54.704 | INFO     | unpredictability.models:fit:197 - Fitting ridge\n",
      "2023-09-01 11:57:55.754 | INFO     | unpredictability.models:fit:197 - Fitting ridge\n"
     ]
    },
    {
     "name": "stdout",
     "output_type": "stream",
     "text": [
      "Belongs: yes\n",
      "Total samples: 3357\n"
     ]
    },
    {
     "name": "stderr",
     "output_type": "stream",
     "text": [
      "2023-09-01 11:57:56.533 | INFO     | unpredictability.models:fit:197 - Fitting ridge\n",
      "2023-09-01 11:57:57.264 | INFO     | unpredictability.models:fit:197 - Fitting ridge\n",
      "2023-09-01 11:57:57.992 | INFO     | unpredictability.models:fit:197 - Fitting ridge\n",
      "2023-09-01 11:57:58.727 | INFO     | unpredictability.models:fit:197 - Fitting ridge\n",
      "2023-09-01 11:57:59.456 | INFO     | unpredictability.models:fit:197 - Fitting ridge\n",
      "2023-09-01 11:58:00.172 | INFO     | unpredictability.models:fit:197 - Fitting ridge\n",
      "2023-09-01 11:58:00.957 | INFO     | unpredictability.models:fit:197 - Fitting ridge\n",
      "2023-09-01 11:58:01.692 | INFO     | unpredictability.models:fit:197 - Fitting ridge\n",
      "2023-09-01 11:58:02.394 | INFO     | unpredictability.models:fit:197 - Fitting ridge\n",
      "2023-09-01 11:58:03.227 | INFO     | unpredictability.models:fit:197 - Fitting ridge\n"
     ]
    },
    {
     "name": "stdout",
     "output_type": "stream",
     "text": [
      "Feature: is_connected\n",
      "Belongs: no\n",
      "Total samples: 3870\n"
     ]
    },
    {
     "name": "stderr",
     "output_type": "stream",
     "text": [
      "2023-09-01 11:58:04.144 | INFO     | unpredictability.models:fit:197 - Fitting ridge\n",
      "2023-09-01 11:58:05.167 | INFO     | unpredictability.models:fit:197 - Fitting ridge\n",
      "2023-09-01 11:58:06.206 | INFO     | unpredictability.models:fit:197 - Fitting ridge\n",
      "2023-09-01 11:58:07.132 | INFO     | unpredictability.models:fit:197 - Fitting ridge\n",
      "2023-09-01 11:58:08.059 | INFO     | unpredictability.models:fit:197 - Fitting ridge\n",
      "2023-09-01 11:58:08.835 | INFO     | unpredictability.models:fit:197 - Fitting ridge\n",
      "2023-09-01 11:58:09.728 | INFO     | unpredictability.models:fit:197 - Fitting ridge\n",
      "2023-09-01 11:58:10.772 | INFO     | unpredictability.models:fit:197 - Fitting ridge\n",
      "2023-09-01 11:58:11.584 | INFO     | unpredictability.models:fit:197 - Fitting ridge\n",
      "2023-09-01 11:58:12.650 | INFO     | unpredictability.models:fit:197 - Fitting ridge\n"
     ]
    },
    {
     "name": "stdout",
     "output_type": "stream",
     "text": [
      "Belongs: yes\n",
      "Total samples: 2845\n"
     ]
    },
    {
     "name": "stderr",
     "output_type": "stream",
     "text": [
      "2023-09-01 11:58:13.222 | INFO     | unpredictability.models:fit:197 - Fitting ridge\n",
      "2023-09-01 11:58:13.843 | INFO     | unpredictability.models:fit:197 - Fitting ridge\n",
      "2023-09-01 11:58:14.345 | INFO     | unpredictability.models:fit:197 - Fitting ridge\n",
      "2023-09-01 11:58:14.938 | INFO     | unpredictability.models:fit:197 - Fitting ridge\n",
      "2023-09-01 11:58:15.532 | INFO     | unpredictability.models:fit:197 - Fitting ridge\n",
      "2023-09-01 11:58:16.147 | INFO     | unpredictability.models:fit:197 - Fitting ridge\n",
      "2023-09-01 11:58:16.687 | INFO     | unpredictability.models:fit:197 - Fitting ridge\n",
      "2023-09-01 11:58:17.262 | INFO     | unpredictability.models:fit:197 - Fitting ridge\n",
      "2023-09-01 11:58:17.847 | INFO     | unpredictability.models:fit:197 - Fitting ridge\n",
      "2023-09-01 11:58:18.660 | INFO     | unpredictability.models:fit:197 - Fitting ridge\n"
     ]
    },
    {
     "name": "stdout",
     "output_type": "stream",
     "text": [
      "Feature: is_close_to_as\n",
      "Belongs: no\n",
      "Total samples: 3360\n"
     ]
    },
    {
     "name": "stderr",
     "output_type": "stream",
     "text": [
      "2023-09-01 11:58:19.628 | INFO     | unpredictability.models:fit:197 - Fitting ridge\n",
      "2023-09-01 11:58:20.442 | INFO     | unpredictability.models:fit:197 - Fitting ridge\n",
      "2023-09-01 11:58:21.188 | INFO     | unpredictability.models:fit:197 - Fitting ridge\n",
      "2023-09-01 11:58:21.893 | INFO     | unpredictability.models:fit:197 - Fitting ridge\n",
      "2023-09-01 11:58:22.624 | INFO     | unpredictability.models:fit:197 - Fitting ridge\n",
      "2023-09-01 11:58:23.325 | INFO     | unpredictability.models:fit:197 - Fitting ridge\n",
      "2023-09-01 11:58:24.068 | INFO     | unpredictability.models:fit:197 - Fitting ridge\n",
      "2023-09-01 11:58:24.763 | INFO     | unpredictability.models:fit:197 - Fitting ridge\n",
      "2023-09-01 11:58:25.507 | INFO     | unpredictability.models:fit:197 - Fitting ridge\n"
     ]
    },
    {
     "name": "stdout",
     "output_type": "stream",
     "text": [
      "Belongs: yes\n",
      "Total samples: 3355\n"
     ]
    },
    {
     "name": "stderr",
     "output_type": "stream",
     "text": [
      "2023-09-01 11:58:26.457 | INFO     | unpredictability.models:fit:197 - Fitting ridge\n",
      "2023-09-01 11:58:27.121 | INFO     | unpredictability.models:fit:197 - Fitting ridge\n",
      "2023-09-01 11:58:27.852 | INFO     | unpredictability.models:fit:197 - Fitting ridge\n",
      "2023-09-01 11:58:28.585 | INFO     | unpredictability.models:fit:197 - Fitting ridge\n",
      "2023-09-01 11:58:29.374 | INFO     | unpredictability.models:fit:197 - Fitting ridge\n",
      "2023-09-01 11:58:30.086 | INFO     | unpredictability.models:fit:197 - Fitting ridge\n",
      "2023-09-01 11:58:30.846 | INFO     | unpredictability.models:fit:197 - Fitting ridge\n",
      "2023-09-01 11:58:31.572 | INFO     | unpredictability.models:fit:197 - Fitting ridge\n",
      "2023-09-01 11:58:32.304 | INFO     | unpredictability.models:fit:197 - Fitting ridge\n",
      "2023-09-01 11:58:33.014 | INFO     | unpredictability.models:fit:197 - Fitting ridge\n",
      "2023-09-01 11:58:33.787 | INFO     | unpredictability.models:fit:197 - Fitting ridge\n"
     ]
    },
    {
     "name": "stdout",
     "output_type": "stream",
     "text": [
      "Feature: is_secondary\n",
      "Belongs: no\n",
      "Total samples: 2735\n"
     ]
    },
    {
     "name": "stderr",
     "output_type": "stream",
     "text": [
      "2023-09-01 11:58:34.301 | INFO     | unpredictability.models:fit:197 - Fitting ridge\n",
      "2023-09-01 11:58:34.867 | INFO     | unpredictability.models:fit:197 - Fitting ridge\n",
      "2023-09-01 11:58:35.463 | INFO     | unpredictability.models:fit:197 - Fitting ridge\n",
      "2023-09-01 11:58:35.988 | INFO     | unpredictability.models:fit:197 - Fitting ridge\n",
      "2023-09-01 11:58:36.533 | INFO     | unpredictability.models:fit:197 - Fitting ridge\n",
      "2023-09-01 11:58:37.074 | INFO     | unpredictability.models:fit:197 - Fitting ridge\n",
      "2023-09-01 11:58:37.611 | INFO     | unpredictability.models:fit:197 - Fitting ridge\n",
      "2023-09-01 11:58:38.158 | INFO     | unpredictability.models:fit:197 - Fitting ridge\n",
      "2023-09-01 11:58:38.676 | INFO     | unpredictability.models:fit:197 - Fitting ridge\n",
      "2023-09-01 11:58:39.471 | INFO     | unpredictability.models:fit:197 - Fitting ridge\n"
     ]
    },
    {
     "name": "stdout",
     "output_type": "stream",
     "text": [
      "Belongs: yes\n",
      "Total samples: 3980\n"
     ]
    },
    {
     "name": "stderr",
     "output_type": "stream",
     "text": [
      "2023-09-01 11:58:40.403 | INFO     | unpredictability.models:fit:197 - Fitting ridge\n",
      "2023-09-01 11:58:41.749 | INFO     | unpredictability.models:fit:197 - Fitting ridge\n",
      "2023-09-01 11:58:42.720 | INFO     | unpredictability.models:fit:197 - Fitting ridge\n",
      "2023-09-01 11:58:43.753 | INFO     | unpredictability.models:fit:197 - Fitting ridge\n",
      "2023-09-01 11:58:44.785 | INFO     | unpredictability.models:fit:197 - Fitting ridge\n",
      "2023-09-01 11:58:45.779 | INFO     | unpredictability.models:fit:197 - Fitting ridge\n",
      "2023-09-01 11:58:46.695 | INFO     | unpredictability.models:fit:197 - Fitting ridge\n",
      "2023-09-01 11:58:47.578 | INFO     | unpredictability.models:fit:197 - Fitting ridge\n",
      "2023-09-01 11:58:48.664 | INFO     | unpredictability.models:fit:197 - Fitting ridge\n"
     ]
    }
   ],
   "source": [
    "property = \"DMS_score\"\n",
    "experiment_results_dir = results_dir\n",
    "experiment_results_dir.mkdir(exist_ok=True, parents=True)\n",
    "experiment_results = {\n",
    "    \"fold\": [],\n",
    "    \"feature\": [],\n",
    "    \"belongs\": [],\n",
    "    \"spearman_val\": [],\n",
    "    \"model\": []\n",
    "}\n",
    "for feature in BINARY_RESIDUE_FEATURES:\n",
    "    print(f\"Feature: {feature}\")\n",
    "    for belongs in [0, 1]:\n",
    "        df = data[data[feature]==belongs].dropna(subset=property).reset_index()\n",
    "        # K-fold cross-val, reassign splits\n",
    "        print(\"Belongs:\", [\"no\", \"yes\"][belongs])\n",
    "        print(f\"Total samples: {len(df)}\")\n",
    "        for i, (train_inds, test_inds) in enumerate(sel_kfold(df, position_col=\"residue_number\", k=10)):\n",
    "            split_ids = np.empty(len(df), dtype=object)\n",
    "            split_ids[train_inds] = \"train\"\n",
    "            split_ids[test_inds] = \"valid\"\n",
    "            df[\"split\"] = split_ids\n",
    "            train_embeddings_indices = df[df[\"split\"] == \"train\"][\"embedding_index\"].values\n",
    "            fold_train_embeddings = embeddings[train_embeddings_indices]\n",
    "            valid_embeddings_indices = df[df[\"split\"] == \"valid\"][\"embedding_index\"].values\n",
    "            fold_valid_embeddings = embeddings[valid_embeddings_indices]\n",
    "            rita_model.fit(df[df[\"split\"] == \"train\"], property, embeddings=fold_train_embeddings)\n",
    "            predictions_val = rita_model.predict(df[df[\"split\"] == \"valid\"], embeddings=fold_valid_embeddings)\n",
    "            spearman_val = spearmanr(df[df[\"split\"] == \"valid\"][property].values, predictions_val)[0]\n",
    "            experiment_results[\"fold\"].append(i)\n",
    "            experiment_results[\"feature\"].append(feature)\n",
    "            experiment_results[\"belongs\"].append(belongs)\n",
    "            experiment_results[\"spearman_val\"].append(spearman_val)\n",
    "            experiment_results[\"model\"].append(\"RITARegressor\")"
   ],
   "metadata": {
    "collapsed": false
   }
  },
  {
   "cell_type": "code",
   "execution_count": null,
   "outputs": [],
   "source": [
    "results_df = pd.DataFrame(experiment_results)\n",
    "results_df.to_csv(experiment_results_dir / \"results.csv\")"
   ],
   "metadata": {
    "collapsed": false,
    "pycharm": {
     "is_executing": true
    }
   }
  }
 ],
 "metadata": {
  "kernelspec": {
   "display_name": "Python 3",
   "language": "python",
   "name": "python3"
  },
  "language_info": {
   "codemirror_mode": {
    "name": "ipython",
    "version": 2
   },
   "file_extension": ".py",
   "mimetype": "text/x-python",
   "name": "python",
   "nbconvert_exporter": "python",
   "pygments_lexer": "ipython2",
   "version": "2.7.6"
  }
 },
 "nbformat": 4,
 "nbformat_minor": 0
}
