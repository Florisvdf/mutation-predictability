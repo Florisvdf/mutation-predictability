{
 "cells": [
  {
   "cell_type": "code",
   "execution_count": 1,
   "metadata": {
    "collapsed": true
   },
   "outputs": [],
   "source": [
    "import pandas as pd\n",
    "import numpy as np\n",
    "from scipy.stats import spearmanr\n",
    "\n",
    "from predictability.models import PottsRegressor\n",
    "from predictability.constants import BINARY_RESIDUE_FEATURES, PROJECT_ROOT, DATA_ROOT\n",
    "from predictability.utils import update_environment_variables, sel_kfold"
   ]
  },
  {
   "cell_type": "code",
   "execution_count": 2,
   "outputs": [],
   "source": [
    "# Only run this when jupyter doesn't read EVs\n",
    "update_environment_variables(\"zsh\")"
   ],
   "metadata": {
    "collapsed": false
   }
  },
  {
   "cell_type": "code",
   "execution_count": 3,
   "outputs": [],
   "source": [
    "results_dir = PROJECT_ROOT / \"results/erk2/singles/potts\"\n",
    "results_dir.mkdir(exist_ok=True, parents=True)"
   ],
   "metadata": {
    "collapsed": false
   }
  },
  {
   "cell_type": "markdown",
   "source": [
    "# Loading data"
   ],
   "metadata": {
    "collapsed": false
   }
  },
  {
   "cell_type": "code",
   "execution_count": 6,
   "outputs": [],
   "source": [
    "data = pd.read_csv(DATA_ROOT / \"erk2/singles.csv\").dropna()"
   ],
   "metadata": {
    "collapsed": false
   }
  },
  {
   "cell_type": "code",
   "execution_count": 9,
   "outputs": [
    {
     "name": "stderr",
     "output_type": "stream",
     "text": [
      "2023-09-01 11:43:08.253 | INFO     | unpredictability.models:__init__:147 - Loading Potts model locally from: /Users/floris/work/phd/projects/protein-engineering-benchmark/notebooks/results/unpredictability/SEL/mk01_human/potts_regressor\n"
     ]
    }
   ],
   "source": [
    "potts_model = PottsRegressor(msa_path=str(DATA_ROOT / \"erk2/msa.a2m\"))"
   ],
   "metadata": {
    "collapsed": false
   }
  },
  {
   "cell_type": "code",
   "execution_count": 10,
   "outputs": [
    {
     "name": "stdout",
     "output_type": "stream",
     "text": [
      "is_buried\n",
      "Fold: 0\n",
      "Fold: 1\n",
      "Fold: 2\n",
      "Fold: 3\n",
      "Fold: 4\n",
      "Fold: 5\n",
      "Fold: 6\n",
      "Fold: 7\n",
      "Fold: 8\n",
      "Fold: 9\n",
      "is_buried\n",
      "Fold: 0\n",
      "Fold: 1\n",
      "Fold: 2\n",
      "Fold: 3\n",
      "Fold: 4\n",
      "Fold: 5\n",
      "Fold: 6\n",
      "Fold: 7\n",
      "Fold: 8\n",
      "Fold: 9\n",
      "is_connected\n",
      "Fold: 0\n",
      "Fold: 1\n",
      "Fold: 2\n",
      "Fold: 3\n",
      "Fold: 4\n",
      "Fold: 5\n",
      "Fold: 6\n",
      "Fold: 7\n",
      "Fold: 8\n",
      "Fold: 9\n",
      "is_connected\n",
      "Fold: 0\n",
      "Fold: 1\n",
      "Fold: 2\n",
      "Fold: 3\n",
      "Fold: 4\n",
      "Fold: 5\n",
      "Fold: 6\n",
      "Fold: 7\n",
      "Fold: 8\n",
      "Fold: 9\n",
      "is_close_to_as\n",
      "Fold: 0\n",
      "Fold: 1\n",
      "Fold: 2\n",
      "Fold: 3\n",
      "Fold: 4\n",
      "Fold: 5\n",
      "Fold: 6\n",
      "Fold: 7\n",
      "Fold: 8\n",
      "Fold: 9\n",
      "is_close_to_as\n",
      "Fold: 0\n",
      "Fold: 1\n",
      "Fold: 2\n",
      "Fold: 3\n",
      "Fold: 4\n",
      "Fold: 5\n",
      "Fold: 6\n",
      "Fold: 7\n",
      "Fold: 8\n",
      "Fold: 9\n",
      "is_secondary\n",
      "Fold: 0\n",
      "Fold: 1\n",
      "Fold: 2\n",
      "Fold: 3\n",
      "Fold: 4\n",
      "Fold: 5\n",
      "Fold: 6\n",
      "Fold: 7\n",
      "Fold: 8\n",
      "Fold: 9\n",
      "is_secondary\n",
      "Fold: 0\n",
      "Fold: 1\n",
      "Fold: 2\n",
      "Fold: 3\n",
      "Fold: 4\n",
      "Fold: 5\n",
      "Fold: 6\n",
      "Fold: 7\n",
      "Fold: 8\n",
      "Fold: 9\n"
     ]
    }
   ],
   "source": [
    "property = \"DMS_score\"\n",
    "experiment_results_dir = results_dir\n",
    "experiment_results_dir.mkdir(exist_ok=True, parents=True)\n",
    "experiment_results = {\n",
    "    \"fold\": [],\n",
    "    \"feature\": [],\n",
    "    \"belongs\": [],\n",
    "    \"spearman_val\": [],\n",
    "    \"model\": []\n",
    "}\n",
    "for feature in BINARY_RESIDUE_FEATURES:\n",
    "    for belongs in [0, 1]:\n",
    "        df = data[data[feature]==belongs].dropna(subset=property).reset_index()\n",
    "        print(feature)\n",
    "        for i, (train_inds, test_inds) in enumerate(sel_kfold(df, position_col=\"residue_number\", k=10)):\n",
    "            print(f\"Fold: {i}\")\n",
    "            split_ids = np.empty(len(df), dtype=object)\n",
    "            split_ids[train_inds] = \"train\"\n",
    "            split_ids[test_inds] = \"valid\"\n",
    "            df[\"split\"] = split_ids\n",
    "            potts_model.fit(df[df[\"split\"] == \"train\"], property)\n",
    "            predictions = potts_model.predict(df[df[\"split\"] == \"valid\"])\n",
    "            spearman = spearmanr(df[df[\"split\"] == \"valid\"][property].values, predictions)[0]\n",
    "            experiment_results[\"fold\"].append(i)\n",
    "            experiment_results[\"feature\"].append(feature)\n",
    "            experiment_results[\"belongs\"].append(belongs)\n",
    "            experiment_results[\"spearman_val\"].append(spearman)\n",
    "            experiment_results[\"model\"].append(\"PottsRegressor\")"
   ],
   "metadata": {
    "collapsed": false
   }
  },
  {
   "cell_type": "code",
   "execution_count": 13,
   "outputs": [],
   "source": [
    "results_df = pd.DataFrame(experiment_results)\n",
    "results_df.to_csv(experiment_results_dir / \"results.csv\")"
   ],
   "metadata": {
    "collapsed": false
   }
  }
 ],
 "metadata": {
  "kernelspec": {
   "display_name": "Python 3",
   "language": "python",
   "name": "python3"
  },
  "language_info": {
   "codemirror_mode": {
    "name": "ipython",
    "version": 2
   },
   "file_extension": ".py",
   "mimetype": "text/x-python",
   "name": "python",
   "nbconvert_exporter": "python",
   "pygments_lexer": "ipython2",
   "version": "2.7.6"
  }
 },
 "nbformat": 4,
 "nbformat_minor": 0
}
