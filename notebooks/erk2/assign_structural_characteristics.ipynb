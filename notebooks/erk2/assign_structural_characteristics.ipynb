{
 "cells": [
  {
   "cell_type": "code",
   "execution_count": 37,
   "metadata": {
    "collapsed": true
   },
   "outputs": [],
   "source": [
    "from dataclasses import dataclass\n",
    "\n",
    "import pandas as pd\n",
    "import numpy as np\n",
    "\n",
    "import prody\n",
    "from biopandas.pdb import PandasPdb\n",
    "from biotite.sequence import ProteinSequence\n",
    "\n",
    "\n",
    "from predictability.constants import DATA_ROOT\n",
    "from predictability.utils import (\n",
    "    read_fasta,\n",
    "    distance,\n",
    "    dist_to_active_site,\n",
    "    get_buriedness,\n",
    "    assign_mutations,\n",
    "    assign_classes,\n",
    ")"
   ]
  },
  {
   "cell_type": "code",
   "execution_count": 38,
   "outputs": [],
   "source": [
    "data_dir = DATA_ROOT / \"erk2\"\n",
    "data_dir.mkdir(exist_ok=True)\n",
    "pdb_id = \"3sa0\""
   ],
   "metadata": {
    "collapsed": false
   }
  },
  {
   "cell_type": "code",
   "execution_count": 39,
   "outputs": [],
   "source": [
    "filename = data_dir / f\"{pdb_id}.pdb\"\n",
    "structure = PandasPdb().read_pdb(str(data_dir / f\"{pdb_id}.pdb\")).df[\"ATOM\"].query('alt_loc == \"\" or alt_loc == \"A\"')\n",
    "residue_characteristics = (\n",
    "    structure[[\"residue_number\", \"residue_name\"]]\n",
    "    .drop_duplicates()\n",
    "    .assign(\n",
    "    residue_name=lambda d: d.residue_name.apply(ProteinSequence.convert_letter_3to1)\n",
    "))"
   ],
   "metadata": {
    "collapsed": false
   }
  },
  {
   "cell_type": "code",
   "execution_count": 40,
   "outputs": [],
   "source": [
    "reference_sequence = [value for _, value in read_fasta(data_dir / \"reference.fasta\").items()][0]"
   ],
   "metadata": {
    "collapsed": false
   }
  },
  {
   "cell_type": "markdown",
   "source": [
    "# Calculating buriedness"
   ],
   "metadata": {
    "collapsed": false
   }
  },
  {
   "cell_type": "code",
   "execution_count": 41,
   "outputs": [],
   "source": [
    "buriedness = get_buriedness(filename).loc[\n",
    "    lambda d: (d.chain_id == \"A\") & (~d.residue_name.isin([\"HOH\", \"ACI\", \"CA\"]))\n",
    "]\n",
    "\n",
    "residue_characteristics = residue_characteristics.merge(buriedness[[\"residue_number\", \"buriedness\"]], on=[\"residue_number\"])"
   ],
   "metadata": {
    "collapsed": false
   }
  },
  {
   "cell_type": "markdown",
   "source": [
    "# Calculating number of contacts"
   ],
   "metadata": {
    "collapsed": false
   }
  },
  {
   "cell_type": "code",
   "execution_count": 44,
   "outputs": [],
   "source": [
    "ca_atoms = (\n",
    "    structure.loc[lambda d: d.atom_name == \"CA\"] .copy()\n",
    "    .assign(contacts=np.nan)[\n",
    "            [\"residue_number\", \"contacts\", \"x_coord\", \"y_coord\", \"z_coord\"]\n",
    "        ].set_index(\"residue_number\")\n",
    ")\n",
    "for ca in ca_atoms.itertuples():\n",
    "    contacts = 0\n",
    "    for other in ca_atoms.itertuples():\n",
    "        if ca.Index != other.Index:\n",
    "            dist = distance(ca, other)\n",
    "            if dist < 7.3:\n",
    "                contacts += 1\n",
    "    ca_atoms.loc[ca.Index, \"contacts\"] = contacts\n",
    "residue_characteristics = residue_characteristics.merge(ca_atoms.reset_index()[[\"residue_number\", \"contacts\"]])"
   ],
   "metadata": {
    "collapsed": false
   }
  },
  {
   "cell_type": "markdown",
   "source": [
    "# Calculating distance to the active site"
   ],
   "metadata": {
    "collapsed": false
   }
  },
  {
   "cell_type": "code",
   "execution_count": 47,
   "outputs": [],
   "source": [
    "active_site_residues = [149]\n",
    "active_site = list(structure.loc[lambda d: (d.residue_number.isin(active_site_residues)) & (d.atom_name == \"CA\")].itertuples())\n",
    "as_distances = (\n",
    "    structure.loc[lambda d: d.atom_name == \"CA\"] .copy()\n",
    "    [\n",
    "        [\"residue_number\", \"x_coord\", \"y_coord\", \"z_coord\"]\n",
    "    ].set_index(\"residue_number\")\n",
    ")\n",
    "as_distances[\"distance_to_active_site\"] = [dist_to_active_site(ca, active_site) for ca in as_distances.itertuples()]\n",
    "residue_characteristics = residue_characteristics.merge(as_distances.reset_index()[[\"residue_number\", \"distance_to_active_site\"]])"
   ],
   "metadata": {
    "collapsed": false
   }
  },
  {
   "cell_type": "markdown",
   "source": [
    "# Determining secondary structure"
   ],
   "metadata": {
    "collapsed": false
   }
  },
  {
   "cell_type": "code",
   "execution_count": 49,
   "outputs": [
    {
     "name": "stderr",
     "output_type": "stream",
     "text": [
      "@> 6115 atoms and 1 coordinate set(s) were parsed in 0.04s.\n"
     ]
    }
   ],
   "source": [
    "_, header = prody.parsePDB(str(data_dir / f\"{pdb_id}.pdb\"), header=True)\n",
    "residues = structure.loc[lambda d: d.atom_name == \"CA\"].copy()[[\"residue_number\"]]\n",
    "\n",
    "@dataclass\n",
    "class Range:\n",
    "    start: int\n",
    "    stop: int\n",
    "\n",
    "    def __contains__(self, value):\n",
    "        return self.stop >= value >= self.start\n",
    "\n",
    "ranges = [Range(start, stop) for _, _, _, _, start, stop in header[\"helix_range\"] + header[\"sheet_range\"]]\n",
    "\n",
    "residues[\"is_secondary\"] = [any(v in r for r in ranges) for v in structure.residue_number.unique()]\n",
    "residue_characteristics = residue_characteristics.merge(residues)"
   ],
   "metadata": {
    "collapsed": false
   }
  },
  {
   "cell_type": "code",
   "execution_count": 50,
   "outputs": [],
   "source": [
    "# Binarize\n",
    "residue_characteristics[\"is_buried\"] = (residue_characteristics.buriedness > residue_characteristics.buriedness.quantile(1 - 1/2)).astype(bool)\n",
    "residue_characteristics[\"is_connected\"] = (residue_characteristics.contacts > residue_characteristics.contacts.quantile(1 - 1/2)).astype(bool)\n",
    "residue_characteristics[\"is_close_to_as\"] = (residue_characteristics.distance_to_active_site < residue_characteristics.distance_to_active_site.quantile(1 - 1/2)).astype(bool)"
   ],
   "metadata": {
    "collapsed": false
   }
  },
  {
   "cell_type": "code",
   "execution_count": 51,
   "outputs": [],
   "source": [
    "# Save\n",
    "residue_characteristics.to_csv(data_dir / \"structural_characteristics.csv\", index=False)"
   ],
   "metadata": {
    "collapsed": false
   }
  },
  {
   "cell_type": "code",
   "execution_count": 52,
   "outputs": [
    {
     "data": {
      "text/plain": "     residue_number residue_name  buriedness  contacts  \\\n0                 4            A    0.760690       4.0   \n1                 5            A    1.409164       7.0   \n2                 6            A    0.613822       5.0   \n3                 7            A    2.836883       7.0   \n4                 8            G    1.973472       9.0   \n..              ...          ...         ...       ...   \n349             356            P    7.513598       5.0   \n350             357            G    4.776345       4.0   \n351             358            Y    2.759526       4.0   \n352             359            R    4.090262       4.0   \n353             360            S    0.693268       2.0   \n\n     distance_to_active_site  is_secondary  is_buried  is_connected  \\\n0                  36.047513         False      False         False   \n1                  34.326936         False      False         False   \n2                  36.513661         False      False         False   \n3                  33.552993         False      False         False   \n4                  31.955743         False      False          True   \n..                       ...           ...        ...           ...   \n349                34.042062         False       True         False   \n350                35.077865         False      False         False   \n351                38.032683         False      False         False   \n352                40.058357         False      False         False   \n353                43.782721         False      False         False   \n\n     is_close_to_as  \n0             False  \n1             False  \n2             False  \n3             False  \n4             False  \n..              ...  \n349           False  \n350           False  \n351           False  \n352           False  \n353           False  \n\n[354 rows x 9 columns]",
      "text/html": "<div>\n<style scoped>\n    .dataframe tbody tr th:only-of-type {\n        vertical-align: middle;\n    }\n\n    .dataframe tbody tr th {\n        vertical-align: top;\n    }\n\n    .dataframe thead th {\n        text-align: right;\n    }\n</style>\n<table border=\"1\" class=\"dataframe\">\n  <thead>\n    <tr style=\"text-align: right;\">\n      <th></th>\n      <th>residue_number</th>\n      <th>residue_name</th>\n      <th>buriedness</th>\n      <th>contacts</th>\n      <th>distance_to_active_site</th>\n      <th>is_secondary</th>\n      <th>is_buried</th>\n      <th>is_connected</th>\n      <th>is_close_to_as</th>\n    </tr>\n  </thead>\n  <tbody>\n    <tr>\n      <th>0</th>\n      <td>4</td>\n      <td>A</td>\n      <td>0.760690</td>\n      <td>4.0</td>\n      <td>36.047513</td>\n      <td>False</td>\n      <td>False</td>\n      <td>False</td>\n      <td>False</td>\n    </tr>\n    <tr>\n      <th>1</th>\n      <td>5</td>\n      <td>A</td>\n      <td>1.409164</td>\n      <td>7.0</td>\n      <td>34.326936</td>\n      <td>False</td>\n      <td>False</td>\n      <td>False</td>\n      <td>False</td>\n    </tr>\n    <tr>\n      <th>2</th>\n      <td>6</td>\n      <td>A</td>\n      <td>0.613822</td>\n      <td>5.0</td>\n      <td>36.513661</td>\n      <td>False</td>\n      <td>False</td>\n      <td>False</td>\n      <td>False</td>\n    </tr>\n    <tr>\n      <th>3</th>\n      <td>7</td>\n      <td>A</td>\n      <td>2.836883</td>\n      <td>7.0</td>\n      <td>33.552993</td>\n      <td>False</td>\n      <td>False</td>\n      <td>False</td>\n      <td>False</td>\n    </tr>\n    <tr>\n      <th>4</th>\n      <td>8</td>\n      <td>G</td>\n      <td>1.973472</td>\n      <td>9.0</td>\n      <td>31.955743</td>\n      <td>False</td>\n      <td>False</td>\n      <td>True</td>\n      <td>False</td>\n    </tr>\n    <tr>\n      <th>...</th>\n      <td>...</td>\n      <td>...</td>\n      <td>...</td>\n      <td>...</td>\n      <td>...</td>\n      <td>...</td>\n      <td>...</td>\n      <td>...</td>\n      <td>...</td>\n    </tr>\n    <tr>\n      <th>349</th>\n      <td>356</td>\n      <td>P</td>\n      <td>7.513598</td>\n      <td>5.0</td>\n      <td>34.042062</td>\n      <td>False</td>\n      <td>True</td>\n      <td>False</td>\n      <td>False</td>\n    </tr>\n    <tr>\n      <th>350</th>\n      <td>357</td>\n      <td>G</td>\n      <td>4.776345</td>\n      <td>4.0</td>\n      <td>35.077865</td>\n      <td>False</td>\n      <td>False</td>\n      <td>False</td>\n      <td>False</td>\n    </tr>\n    <tr>\n      <th>351</th>\n      <td>358</td>\n      <td>Y</td>\n      <td>2.759526</td>\n      <td>4.0</td>\n      <td>38.032683</td>\n      <td>False</td>\n      <td>False</td>\n      <td>False</td>\n      <td>False</td>\n    </tr>\n    <tr>\n      <th>352</th>\n      <td>359</td>\n      <td>R</td>\n      <td>4.090262</td>\n      <td>4.0</td>\n      <td>40.058357</td>\n      <td>False</td>\n      <td>False</td>\n      <td>False</td>\n      <td>False</td>\n    </tr>\n    <tr>\n      <th>353</th>\n      <td>360</td>\n      <td>S</td>\n      <td>0.693268</td>\n      <td>2.0</td>\n      <td>43.782721</td>\n      <td>False</td>\n      <td>False</td>\n      <td>False</td>\n      <td>False</td>\n    </tr>\n  </tbody>\n</table>\n<p>354 rows × 9 columns</p>\n</div>"
     },
     "execution_count": 52,
     "metadata": {},
     "output_type": "execute_result"
    }
   ],
   "source": [
    "residue_characteristics"
   ],
   "metadata": {
    "collapsed": false
   }
  },
  {
   "cell_type": "markdown",
   "source": [
    "# Loading data"
   ],
   "metadata": {
    "collapsed": false
   }
  },
  {
   "cell_type": "code",
   "execution_count": 53,
   "outputs": [],
   "source": [
    "data = pd.read_csv(data_dir / \"data_from_protein_gym.csv\")\n",
    "data[\"sequence\"] = data[\"mutated_sequence\"]\n",
    "data = assign_mutations(data, str(reference_sequence))\n",
    "feature_table = pd.read_csv(data_dir / \"structural_characteristics.csv\")\n",
    "data = assign_classes(data, feature_table, mutation_col=\"mutations\", features=[\"is_buried\", \"is_connected\", \"is_close_to_as\", \"is_secondary\"])\n",
    "data.to_csv(data_dir / \"singles.csv\")"
   ],
   "metadata": {
    "collapsed": false
   }
  },
  {
   "cell_type": "code",
   "execution_count": 54,
   "outputs": [
    {
     "data": {
      "text/plain": "     mutant                                   mutated_sequence  DMS_score  \\\n0       A2D  MDAAAAAGAGPEMVRGQVFDVGPRYTNLSYIGEGAYGMVCSAYDNV...  -7.840212   \n1       A2Y  MYAAAAAGAGPEMVRGQVFDVGPRYTNLSYIGEGAYGMVCSAYDNV...  -7.178781   \n2       A2W  MWAAAAAGAGPEMVRGQVFDVGPRYTNLSYIGEGAYGMVCSAYDNV...  -5.469024   \n3       A2V  MVAAAAAGAGPEMVRGQVFDVGPRYTNLSYIGEGAYGMVCSAYDNV...  -6.268234   \n4       A2T  MTAAAAAGAGPEMVRGQVFDVGPRYTNLSYIGEGAYGMVCSAYDNV...  -9.346828   \n...     ...                                                ...        ...   \n6804  S360C  MAAAAAAGAGPEMVRGQVFDVGPRYTNLSYIGEGAYGMVCSAYDNV...  -7.836966   \n6805  S360A  MAAAAAAGAGPEMVRGQVFDVGPRYTNLSYIGEGAYGMVCSAYDNV...  -9.465173   \n6806  S360W  MAAAAAAGAGPEMVRGQVFDVGPRYTNLSYIGEGAYGMVCSAYDNV...  -7.744855   \n6807  S360H  MAAAAAAGAGPEMVRGQVFDVGPRYTNLSYIGEGAYGMVCSAYDNV...  -8.199658   \n6808  S360T  MAAAAAAGAGPEMVRGQVFDVGPRYTNLSYIGEGAYGMVCSAYDNV...  -8.167141   \n\n      DMS_score_bin                                           sequence  \\\n0                 1  MDAAAAAGAGPEMVRGQVFDVGPRYTNLSYIGEGAYGMVCSAYDNV...   \n1                 1  MYAAAAAGAGPEMVRGQVFDVGPRYTNLSYIGEGAYGMVCSAYDNV...   \n2                 1  MWAAAAAGAGPEMVRGQVFDVGPRYTNLSYIGEGAYGMVCSAYDNV...   \n3                 1  MVAAAAAGAGPEMVRGQVFDVGPRYTNLSYIGEGAYGMVCSAYDNV...   \n4                 0  MTAAAAAGAGPEMVRGQVFDVGPRYTNLSYIGEGAYGMVCSAYDNV...   \n...             ...                                                ...   \n6804              1  MAAAAAAGAGPEMVRGQVFDVGPRYTNLSYIGEGAYGMVCSAYDNV...   \n6805              0  MAAAAAAGAGPEMVRGQVFDVGPRYTNLSYIGEGAYGMVCSAYDNV...   \n6806              1  MAAAAAAGAGPEMVRGQVFDVGPRYTNLSYIGEGAYGMVCSAYDNV...   \n6807              0  MAAAAAAGAGPEMVRGQVFDVGPRYTNLSYIGEGAYGMVCSAYDNV...   \n6808              0  MAAAAAAGAGPEMVRGQVFDVGPRYTNLSYIGEGAYGMVCSAYDNV...   \n\n     mutations  residue_number is_buried is_connected is_close_to_as  \\\n0        A002D               2       NaN          NaN            NaN   \n1        A002Y               2       NaN          NaN            NaN   \n2        A002W               2       NaN          NaN            NaN   \n3        A002V               2       NaN          NaN            NaN   \n4        A002T               2       NaN          NaN            NaN   \n...        ...             ...       ...          ...            ...   \n6804     S360C             360     False        False          False   \n6805     S360A             360     False        False          False   \n6806     S360W             360     False        False          False   \n6807     S360H             360     False        False          False   \n6808     S360T             360     False        False          False   \n\n     is_secondary  \n0             NaN  \n1             NaN  \n2             NaN  \n3             NaN  \n4             NaN  \n...           ...  \n6804        False  \n6805        False  \n6806        False  \n6807        False  \n6808        False  \n\n[6809 rows x 11 columns]",
      "text/html": "<div>\n<style scoped>\n    .dataframe tbody tr th:only-of-type {\n        vertical-align: middle;\n    }\n\n    .dataframe tbody tr th {\n        vertical-align: top;\n    }\n\n    .dataframe thead th {\n        text-align: right;\n    }\n</style>\n<table border=\"1\" class=\"dataframe\">\n  <thead>\n    <tr style=\"text-align: right;\">\n      <th></th>\n      <th>mutant</th>\n      <th>mutated_sequence</th>\n      <th>DMS_score</th>\n      <th>DMS_score_bin</th>\n      <th>sequence</th>\n      <th>mutations</th>\n      <th>residue_number</th>\n      <th>is_buried</th>\n      <th>is_connected</th>\n      <th>is_close_to_as</th>\n      <th>is_secondary</th>\n    </tr>\n  </thead>\n  <tbody>\n    <tr>\n      <th>0</th>\n      <td>A2D</td>\n      <td>MDAAAAAGAGPEMVRGQVFDVGPRYTNLSYIGEGAYGMVCSAYDNV...</td>\n      <td>-7.840212</td>\n      <td>1</td>\n      <td>MDAAAAAGAGPEMVRGQVFDVGPRYTNLSYIGEGAYGMVCSAYDNV...</td>\n      <td>A002D</td>\n      <td>2</td>\n      <td>NaN</td>\n      <td>NaN</td>\n      <td>NaN</td>\n      <td>NaN</td>\n    </tr>\n    <tr>\n      <th>1</th>\n      <td>A2Y</td>\n      <td>MYAAAAAGAGPEMVRGQVFDVGPRYTNLSYIGEGAYGMVCSAYDNV...</td>\n      <td>-7.178781</td>\n      <td>1</td>\n      <td>MYAAAAAGAGPEMVRGQVFDVGPRYTNLSYIGEGAYGMVCSAYDNV...</td>\n      <td>A002Y</td>\n      <td>2</td>\n      <td>NaN</td>\n      <td>NaN</td>\n      <td>NaN</td>\n      <td>NaN</td>\n    </tr>\n    <tr>\n      <th>2</th>\n      <td>A2W</td>\n      <td>MWAAAAAGAGPEMVRGQVFDVGPRYTNLSYIGEGAYGMVCSAYDNV...</td>\n      <td>-5.469024</td>\n      <td>1</td>\n      <td>MWAAAAAGAGPEMVRGQVFDVGPRYTNLSYIGEGAYGMVCSAYDNV...</td>\n      <td>A002W</td>\n      <td>2</td>\n      <td>NaN</td>\n      <td>NaN</td>\n      <td>NaN</td>\n      <td>NaN</td>\n    </tr>\n    <tr>\n      <th>3</th>\n      <td>A2V</td>\n      <td>MVAAAAAGAGPEMVRGQVFDVGPRYTNLSYIGEGAYGMVCSAYDNV...</td>\n      <td>-6.268234</td>\n      <td>1</td>\n      <td>MVAAAAAGAGPEMVRGQVFDVGPRYTNLSYIGEGAYGMVCSAYDNV...</td>\n      <td>A002V</td>\n      <td>2</td>\n      <td>NaN</td>\n      <td>NaN</td>\n      <td>NaN</td>\n      <td>NaN</td>\n    </tr>\n    <tr>\n      <th>4</th>\n      <td>A2T</td>\n      <td>MTAAAAAGAGPEMVRGQVFDVGPRYTNLSYIGEGAYGMVCSAYDNV...</td>\n      <td>-9.346828</td>\n      <td>0</td>\n      <td>MTAAAAAGAGPEMVRGQVFDVGPRYTNLSYIGEGAYGMVCSAYDNV...</td>\n      <td>A002T</td>\n      <td>2</td>\n      <td>NaN</td>\n      <td>NaN</td>\n      <td>NaN</td>\n      <td>NaN</td>\n    </tr>\n    <tr>\n      <th>...</th>\n      <td>...</td>\n      <td>...</td>\n      <td>...</td>\n      <td>...</td>\n      <td>...</td>\n      <td>...</td>\n      <td>...</td>\n      <td>...</td>\n      <td>...</td>\n      <td>...</td>\n      <td>...</td>\n    </tr>\n    <tr>\n      <th>6804</th>\n      <td>S360C</td>\n      <td>MAAAAAAGAGPEMVRGQVFDVGPRYTNLSYIGEGAYGMVCSAYDNV...</td>\n      <td>-7.836966</td>\n      <td>1</td>\n      <td>MAAAAAAGAGPEMVRGQVFDVGPRYTNLSYIGEGAYGMVCSAYDNV...</td>\n      <td>S360C</td>\n      <td>360</td>\n      <td>False</td>\n      <td>False</td>\n      <td>False</td>\n      <td>False</td>\n    </tr>\n    <tr>\n      <th>6805</th>\n      <td>S360A</td>\n      <td>MAAAAAAGAGPEMVRGQVFDVGPRYTNLSYIGEGAYGMVCSAYDNV...</td>\n      <td>-9.465173</td>\n      <td>0</td>\n      <td>MAAAAAAGAGPEMVRGQVFDVGPRYTNLSYIGEGAYGMVCSAYDNV...</td>\n      <td>S360A</td>\n      <td>360</td>\n      <td>False</td>\n      <td>False</td>\n      <td>False</td>\n      <td>False</td>\n    </tr>\n    <tr>\n      <th>6806</th>\n      <td>S360W</td>\n      <td>MAAAAAAGAGPEMVRGQVFDVGPRYTNLSYIGEGAYGMVCSAYDNV...</td>\n      <td>-7.744855</td>\n      <td>1</td>\n      <td>MAAAAAAGAGPEMVRGQVFDVGPRYTNLSYIGEGAYGMVCSAYDNV...</td>\n      <td>S360W</td>\n      <td>360</td>\n      <td>False</td>\n      <td>False</td>\n      <td>False</td>\n      <td>False</td>\n    </tr>\n    <tr>\n      <th>6807</th>\n      <td>S360H</td>\n      <td>MAAAAAAGAGPEMVRGQVFDVGPRYTNLSYIGEGAYGMVCSAYDNV...</td>\n      <td>-8.199658</td>\n      <td>0</td>\n      <td>MAAAAAAGAGPEMVRGQVFDVGPRYTNLSYIGEGAYGMVCSAYDNV...</td>\n      <td>S360H</td>\n      <td>360</td>\n      <td>False</td>\n      <td>False</td>\n      <td>False</td>\n      <td>False</td>\n    </tr>\n    <tr>\n      <th>6808</th>\n      <td>S360T</td>\n      <td>MAAAAAAGAGPEMVRGQVFDVGPRYTNLSYIGEGAYGMVCSAYDNV...</td>\n      <td>-8.167141</td>\n      <td>0</td>\n      <td>MAAAAAAGAGPEMVRGQVFDVGPRYTNLSYIGEGAYGMVCSAYDNV...</td>\n      <td>S360T</td>\n      <td>360</td>\n      <td>False</td>\n      <td>False</td>\n      <td>False</td>\n      <td>False</td>\n    </tr>\n  </tbody>\n</table>\n<p>6809 rows × 11 columns</p>\n</div>"
     },
     "execution_count": 54,
     "metadata": {},
     "output_type": "execute_result"
    }
   ],
   "source": [
    "data"
   ],
   "metadata": {
    "collapsed": false
   }
  },
  {
   "cell_type": "markdown",
   "source": [],
   "metadata": {
    "collapsed": false
   }
  }
 ],
 "metadata": {
  "kernelspec": {
   "display_name": "Python 3",
   "language": "python",
   "name": "python3"
  },
  "language_info": {
   "codemirror_mode": {
    "name": "ipython",
    "version": 2
   },
   "file_extension": ".py",
   "mimetype": "text/x-python",
   "name": "python",
   "nbconvert_exporter": "python",
   "pygments_lexer": "ipython2",
   "version": "2.7.6"
  }
 },
 "nbformat": 4,
 "nbformat_minor": 0
}
