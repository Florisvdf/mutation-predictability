{
 "cells": [
  {
   "cell_type": "code",
   "execution_count": 1,
   "metadata": {},
   "outputs": [
    {
     "data": {
      "application/vnd.jupyter.widget-view+json": {
       "model_id": "68f218bce870490384902fd5e0418104",
       "version_major": 2,
       "version_minor": 0
      },
      "text/plain": []
     },
     "metadata": {},
     "output_type": "display_data"
    }
   ],
   "source": [
    "import os\n",
    "from pathlib import Path\n",
    "\n",
    "import pandas as pd\n",
    "\n",
    "from predictability.utils import ProteinGym, StructuralCharacterizer, update_environment_variables, download_pdb\n",
    "from predictability.plotting import show_structure, get_ngl_colorings\n",
    "from predictability.constants import BINARY_RESIDUE_FEATURES, DATA_ROOT"
   ]
  },
  {
   "cell_type": "code",
   "execution_count": 2,
   "metadata": {
    "collapsed": false,
    "jupyter": {
     "outputs_hidden": false
    }
   },
   "outputs": [],
   "source": [
    "update_environment_variables(\"zsh\")"
   ]
  },
  {
   "cell_type": "code",
   "execution_count": 3,
   "metadata": {
    "collapsed": false,
    "jupyter": {
     "outputs_hidden": false
    }
   },
   "outputs": [],
   "source": [
    "GLOBAL_DATA_ROOT = os.getenv(\"DATA_ROOT\")"
   ]
  },
  {
   "cell_type": "markdown",
   "metadata": {},
   "source": [
    "# Filtering ProteinGym for enzymatic assays"
   ]
  },
  {
   "cell_type": "code",
   "execution_count": 4,
   "metadata": {
    "collapsed": false,
    "jupyter": {
     "outputs_hidden": false
    }
   },
   "outputs": [
    {
     "name": "stderr",
     "output_type": "stream",
     "text": [
      "\u001b[32m2024-02-08 14:31:05.662\u001b[0m | \u001b[1mINFO    \u001b[0m | \u001b[36mpredictability.utils\u001b[0m:\u001b[36mupdate_reference_information\u001b[0m:\u001b[36m324\u001b[0m - \u001b[1mUpdating reference information with structure information.\u001b[0m\n"
     ]
    }
   ],
   "source": [
    "gym = ProteinGym(\n",
    "    proteingym_location=Path(GLOBAL_DATA_ROOT) / \"public/proteingym\",\n",
    "    meta_data_path=Path(GLOBAL_DATA_ROOT) / \"public/proteingym/substitutions_raw_DMS/DMS_substitutions.csv\"\n",
    ")\n",
    "gym.update_reference_information()"
   ]
  },
  {
   "cell_type": "code",
   "execution_count": 106,
   "metadata": {
    "collapsed": false,
    "jupyter": {
     "outputs_hidden": false
    }
   },
   "outputs": [
    {
     "data": {
      "text/html": [
       "<div>\n",
       "<style scoped>\n",
       "    .dataframe tbody tr th:only-of-type {\n",
       "        vertical-align: middle;\n",
       "    }\n",
       "\n",
       "    .dataframe tbody tr th {\n",
       "        vertical-align: top;\n",
       "    }\n",
       "\n",
       "    .dataframe thead th {\n",
       "        text-align: right;\n",
       "    }\n",
       "</style>\n",
       "<table border=\"1\" class=\"dataframe\">\n",
       "  <thead>\n",
       "    <tr style=\"text-align: right;\">\n",
       "      <th></th>\n",
       "      <th>DMS_id</th>\n",
       "      <th>DMS_filename</th>\n",
       "      <th>UniProt_ID</th>\n",
       "      <th>taxon</th>\n",
       "      <th>source_organism</th>\n",
       "      <th>target_seq</th>\n",
       "      <th>seq_len</th>\n",
       "      <th>includes_multiple_mutants</th>\n",
       "      <th>DMS_total_number_mutants</th>\n",
       "      <th>DMS_number_single_mutants</th>\n",
       "      <th>...</th>\n",
       "      <th>raw_DMS_mutant_column</th>\n",
       "      <th>weight_file_name</th>\n",
       "      <th>pdb_file</th>\n",
       "      <th>ProteinGym_version</th>\n",
       "      <th>raw_mut_offset</th>\n",
       "      <th>coarse_selection_type</th>\n",
       "      <th>has_pdb_structure</th>\n",
       "      <th>structure_covers_mutated_region</th>\n",
       "      <th>uniprot_sequence</th>\n",
       "      <th>active_site</th>\n",
       "    </tr>\n",
       "  </thead>\n",
       "  <tbody>\n",
       "    <tr>\n",
       "      <th>14</th>\n",
       "      <td>AMIE_PSEAE_Wrenbeck_2017</td>\n",
       "      <td>AMIE_PSEAE_Wrenbeck_2017.csv</td>\n",
       "      <td>AMIE_PSEAE</td>\n",
       "      <td>Prokaryote</td>\n",
       "      <td>Pseudomonas aeruginosa</td>\n",
       "      <td>MRHGDISSSNDTVGVAVVNYKMPRLHTAAEVLDNARKIAEMIVGMK...</td>\n",
       "      <td>346</td>\n",
       "      <td>False</td>\n",
       "      <td>6227</td>\n",
       "      <td>6227</td>\n",
       "      <td>...</td>\n",
       "      <td>mutant</td>\n",
       "      <td>AMIE_PSEAE_theta_0.2.npy</td>\n",
       "      <td>AMIE_PSEAE.pdb</td>\n",
       "      <td>0.1</td>\n",
       "      <td>NaN</td>\n",
       "      <td>Activity</td>\n",
       "      <td>True</td>\n",
       "      <td>True</td>\n",
       "      <td>MRHGDISSSNDTVGVAVVNYKMPRLHTAAEVLDNARKIAEMIVGMK...</td>\n",
       "      <td>59-134-166</td>\n",
       "    </tr>\n",
       "    <tr>\n",
       "      <th>20</th>\n",
       "      <td>BLAT_ECOLX_Deng_2012</td>\n",
       "      <td>BLAT_ECOLX_Deng_2012.csv</td>\n",
       "      <td>BLAT_ECOLX</td>\n",
       "      <td>Prokaryote</td>\n",
       "      <td>Escherichia coli</td>\n",
       "      <td>MSIQHFRVALIPFFAAFCLPVFAHPETLVKVKDAEDQLGARVGYIE...</td>\n",
       "      <td>286</td>\n",
       "      <td>False</td>\n",
       "      <td>4996</td>\n",
       "      <td>4996</td>\n",
       "      <td>...</td>\n",
       "      <td>mutant</td>\n",
       "      <td>BLAT_ECOLX_theta_0.2.npy</td>\n",
       "      <td>BLAT_ECOLX.pdb</td>\n",
       "      <td>0.1</td>\n",
       "      <td>NaN</td>\n",
       "      <td>OrganismalFitness</td>\n",
       "      <td>True</td>\n",
       "      <td>True</td>\n",
       "      <td>MSIQHFRVALIPFFAAFCLPVFAHPETLVKVKDAEDQLGARVGYIE...</td>\n",
       "      <td>68-166</td>\n",
       "    </tr>\n",
       "    <tr>\n",
       "      <th>21</th>\n",
       "      <td>BLAT_ECOLX_Firnberg_2014</td>\n",
       "      <td>BLAT_ECOLX_Firnberg_2014.csv</td>\n",
       "      <td>BLAT_ECOLX</td>\n",
       "      <td>Prokaryote</td>\n",
       "      <td>Escherichia coli</td>\n",
       "      <td>MSIQHFRVALIPFFAAFCLPVFAHPETLVKVKDAEDQLGARVGYIE...</td>\n",
       "      <td>286</td>\n",
       "      <td>False</td>\n",
       "      <td>4783</td>\n",
       "      <td>4783</td>\n",
       "      <td>...</td>\n",
       "      <td>mutant</td>\n",
       "      <td>BLAT_ECOLX_theta_0.2.npy</td>\n",
       "      <td>BLAT_ECOLX.pdb</td>\n",
       "      <td>0.1</td>\n",
       "      <td>NaN</td>\n",
       "      <td>OrganismalFitness</td>\n",
       "      <td>True</td>\n",
       "      <td>True</td>\n",
       "      <td>MSIQHFRVALIPFFAAFCLPVFAHPETLVKVKDAEDQLGARVGYIE...</td>\n",
       "      <td>68-166</td>\n",
       "    </tr>\n",
       "    <tr>\n",
       "      <th>23</th>\n",
       "      <td>BLAT_ECOLX_Stiffler_2015</td>\n",
       "      <td>BLAT_ECOLX_Stiffler_2015.csv</td>\n",
       "      <td>BLAT_ECOLX</td>\n",
       "      <td>Prokaryote</td>\n",
       "      <td>Escherichia coli</td>\n",
       "      <td>MSIQHFRVALIPFFAAFCLPVFAHPETLVKVKDAEDQLGARVGYIE...</td>\n",
       "      <td>286</td>\n",
       "      <td>False</td>\n",
       "      <td>4996</td>\n",
       "      <td>4996</td>\n",
       "      <td>...</td>\n",
       "      <td>mutant</td>\n",
       "      <td>BLAT_ECOLX_theta_0.2.npy</td>\n",
       "      <td>BLAT_ECOLX.pdb</td>\n",
       "      <td>0.1</td>\n",
       "      <td>NaN</td>\n",
       "      <td>OrganismalFitness</td>\n",
       "      <td>True</td>\n",
       "      <td>True</td>\n",
       "      <td>MSIQHFRVALIPFFAAFCLPVFAHPETLVKVKDAEDQLGARVGYIE...</td>\n",
       "      <td>68-166</td>\n",
       "    </tr>\n",
       "    <tr>\n",
       "      <th>32</th>\n",
       "      <td>CASP3_HUMAN_Roychowdhury_2020</td>\n",
       "      <td>CASP3_HUMAN_Roychowdhury_2020.csv</td>\n",
       "      <td>CASP3_HUMAN</td>\n",
       "      <td>Human</td>\n",
       "      <td>Homo sapiens</td>\n",
       "      <td>MSGISLDNSYKMDYPEMGLCIIINNKNFHKSTGMTSRSGTDVDAAN...</td>\n",
       "      <td>258</td>\n",
       "      <td>False</td>\n",
       "      <td>1567</td>\n",
       "      <td>1567</td>\n",
       "      <td>...</td>\n",
       "      <td>mutant</td>\n",
       "      <td>CASP3_HUMAN_theta0.2_2023-08-07_b01.npy</td>\n",
       "      <td>CASP3_HUMAN.pdb</td>\n",
       "      <td>1.0</td>\n",
       "      <td>NaN</td>\n",
       "      <td>Activity</td>\n",
       "      <td>True</td>\n",
       "      <td>True</td>\n",
       "      <td>MENTENSVDSKSIKNLEPKIIHGSESMDSGISLDNSYKMDYPEMGL...</td>\n",
       "      <td>121-163</td>\n",
       "    </tr>\n",
       "    <tr>\n",
       "      <th>95</th>\n",
       "      <td>MK01_HUMAN_Brenan_2016</td>\n",
       "      <td>MK01_HUMAN_Brenan_2016.csv</td>\n",
       "      <td>MK01_HUMAN</td>\n",
       "      <td>Human</td>\n",
       "      <td>Homo sapiens</td>\n",
       "      <td>MAAAAAAGAGPEMVRGQVFDVGPRYTNLSYIGEGAYGMVCSAYDNV...</td>\n",
       "      <td>360</td>\n",
       "      <td>False</td>\n",
       "      <td>6809</td>\n",
       "      <td>6809</td>\n",
       "      <td>...</td>\n",
       "      <td>mutant</td>\n",
       "      <td>MK01_HUMAN_theta_0.2.npy</td>\n",
       "      <td>MK01_HUMAN.pdb</td>\n",
       "      <td>0.1</td>\n",
       "      <td>NaN</td>\n",
       "      <td>OrganismalFitness</td>\n",
       "      <td>True</td>\n",
       "      <td>True</td>\n",
       "      <td>MAAAAAAGAGPEMVRGQVFDVGPRYTNLSYIGEGAYGMVCSAYDNV...</td>\n",
       "      <td>149</td>\n",
       "    </tr>\n",
       "    <tr>\n",
       "      <th>138</th>\n",
       "      <td>PTEN_HUMAN_Mighell_2018</td>\n",
       "      <td>PTEN_HUMAN_Mighell_2018.csv</td>\n",
       "      <td>PTEN_HUMAN</td>\n",
       "      <td>Human</td>\n",
       "      <td>Homo sapiens</td>\n",
       "      <td>MTAIIKEIVSRNKRRYQEDGFDLDLTYIYPNIIAMGFPAERLEGVY...</td>\n",
       "      <td>403</td>\n",
       "      <td>False</td>\n",
       "      <td>7260</td>\n",
       "      <td>7260</td>\n",
       "      <td>...</td>\n",
       "      <td>mutant</td>\n",
       "      <td>PTEN_HUMAN_theta_0.2.npy</td>\n",
       "      <td>PTEN_HUMAN.pdb</td>\n",
       "      <td>0.1</td>\n",
       "      <td>NaN</td>\n",
       "      <td>Activity</td>\n",
       "      <td>True</td>\n",
       "      <td>True</td>\n",
       "      <td>MTAIIKEIVSRNKRRYQEDGFDLDLTYIYPNIIAMGFPAERLEGVY...</td>\n",
       "      <td>124</td>\n",
       "    </tr>\n",
       "    <tr>\n",
       "      <th>190</th>\n",
       "      <td>SRC_HUMAN_Ahler_2019</td>\n",
       "      <td>SRC_HUMAN_Ahler_2019.csv</td>\n",
       "      <td>SRC_HUMAN</td>\n",
       "      <td>Human</td>\n",
       "      <td>Homo sapiens</td>\n",
       "      <td>MGSNKSKPKDASQRRRSLEPAENVHGAGGGAFPASQTPSKPASADG...</td>\n",
       "      <td>536</td>\n",
       "      <td>False</td>\n",
       "      <td>3372</td>\n",
       "      <td>3372</td>\n",
       "      <td>...</td>\n",
       "      <td>mutant_uniprot_1</td>\n",
       "      <td>SRC_HUMAN_theta_0.2.npy</td>\n",
       "      <td>SRC_HUMAN.pdb</td>\n",
       "      <td>0.1</td>\n",
       "      <td>NaN</td>\n",
       "      <td>Activity</td>\n",
       "      <td>True</td>\n",
       "      <td>True</td>\n",
       "      <td>MGSNKSKPKDASQRRRSLEPAENVHGAGGGAFPASQTPSKPASADG...</td>\n",
       "      <td>389</td>\n",
       "    </tr>\n",
       "    <tr>\n",
       "      <th>191</th>\n",
       "      <td>SRC_HUMAN_Chakraborty_2023_binding-DAS_25uM</td>\n",
       "      <td>SRC_HUMAN_Chakraborty_2023_binding-DAS_25uM.csv</td>\n",
       "      <td>SRC_HUMAN</td>\n",
       "      <td>Human</td>\n",
       "      <td>S. Cerevisiae</td>\n",
       "      <td>MGSNKSKPKDASQRRRSLEPAENVHGAGGGAFPASQTPSKPASADG...</td>\n",
       "      <td>536</td>\n",
       "      <td>False</td>\n",
       "      <td>3637</td>\n",
       "      <td>3637</td>\n",
       "      <td>...</td>\n",
       "      <td>mutant</td>\n",
       "      <td>SRC_HUMAN_theta0.2_2023-08-07_b06.npy</td>\n",
       "      <td>SRC_HUMAN.pdb</td>\n",
       "      <td>1.0</td>\n",
       "      <td>NaN</td>\n",
       "      <td>Activity</td>\n",
       "      <td>True</td>\n",
       "      <td>True</td>\n",
       "      <td>MGSNKSKPKDASQRRRSLEPAENVHGAGGGAFPASQTPSKPASADG...</td>\n",
       "      <td>389</td>\n",
       "    </tr>\n",
       "    <tr>\n",
       "      <th>192</th>\n",
       "      <td>SRC_HUMAN_Nguyen_2022</td>\n",
       "      <td>SRC_HUMAN_Nguyen_2022.csv</td>\n",
       "      <td>SRC_HUMAN</td>\n",
       "      <td>Human</td>\n",
       "      <td>Human</td>\n",
       "      <td>MGSNKSKPKDASQRRRSLEPAENVHGAGGGAFPASQTPSKPASADG...</td>\n",
       "      <td>536</td>\n",
       "      <td>False</td>\n",
       "      <td>3366</td>\n",
       "      <td>3366</td>\n",
       "      <td>...</td>\n",
       "      <td>mutant</td>\n",
       "      <td>SRC_HUMAN_theta0.2_2023-08-07_b06.npy</td>\n",
       "      <td>SRC_HUMAN.pdb</td>\n",
       "      <td>1.0</td>\n",
       "      <td>NaN</td>\n",
       "      <td>OrganismalFitness</td>\n",
       "      <td>True</td>\n",
       "      <td>True</td>\n",
       "      <td>MGSNKSKPKDASQRRRSLEPAENVHGAGGGAFPASQTPSKPASADG...</td>\n",
       "      <td>389</td>\n",
       "    </tr>\n",
       "    <tr>\n",
       "      <th>205</th>\n",
       "      <td>UBC9_HUMAN_Weile_2017</td>\n",
       "      <td>UBC9_HUMAN_Weile_2017.csv</td>\n",
       "      <td>UBC9_HUMAN</td>\n",
       "      <td>Human</td>\n",
       "      <td>Homo sapiens</td>\n",
       "      <td>MSGIALSRLAQERKAWRKDHPFGFVAVPTKNPDGTMNLMNWECAIP...</td>\n",
       "      <td>159</td>\n",
       "      <td>False</td>\n",
       "      <td>2563</td>\n",
       "      <td>2563</td>\n",
       "      <td>...</td>\n",
       "      <td>mutant</td>\n",
       "      <td>UBC9_HUMAN_theta_0.2.npy</td>\n",
       "      <td>UBC9_HUMAN.pdb</td>\n",
       "      <td>0.1</td>\n",
       "      <td>NaN</td>\n",
       "      <td>OrganismalFitness</td>\n",
       "      <td>True</td>\n",
       "      <td>True</td>\n",
       "      <td>MSGIALSRLAQERKAWRKDHPFGFVAVPTKNPDGTMNLMNWECAIP...</td>\n",
       "      <td>93</td>\n",
       "    </tr>\n",
       "  </tbody>\n",
       "</table>\n",
       "<p>11 rows × 48 columns</p>\n",
       "</div>"
      ],
      "text/plain": [
       "                                          DMS_id  \\\n",
       "14                      AMIE_PSEAE_Wrenbeck_2017   \n",
       "20                          BLAT_ECOLX_Deng_2012   \n",
       "21                      BLAT_ECOLX_Firnberg_2014   \n",
       "23                      BLAT_ECOLX_Stiffler_2015   \n",
       "32                 CASP3_HUMAN_Roychowdhury_2020   \n",
       "95                        MK01_HUMAN_Brenan_2016   \n",
       "138                      PTEN_HUMAN_Mighell_2018   \n",
       "190                         SRC_HUMAN_Ahler_2019   \n",
       "191  SRC_HUMAN_Chakraborty_2023_binding-DAS_25uM   \n",
       "192                        SRC_HUMAN_Nguyen_2022   \n",
       "205                        UBC9_HUMAN_Weile_2017   \n",
       "\n",
       "                                        DMS_filename   UniProt_ID       taxon  \\\n",
       "14                      AMIE_PSEAE_Wrenbeck_2017.csv   AMIE_PSEAE  Prokaryote   \n",
       "20                          BLAT_ECOLX_Deng_2012.csv   BLAT_ECOLX  Prokaryote   \n",
       "21                      BLAT_ECOLX_Firnberg_2014.csv   BLAT_ECOLX  Prokaryote   \n",
       "23                      BLAT_ECOLX_Stiffler_2015.csv   BLAT_ECOLX  Prokaryote   \n",
       "32                 CASP3_HUMAN_Roychowdhury_2020.csv  CASP3_HUMAN       Human   \n",
       "95                        MK01_HUMAN_Brenan_2016.csv   MK01_HUMAN       Human   \n",
       "138                      PTEN_HUMAN_Mighell_2018.csv   PTEN_HUMAN       Human   \n",
       "190                         SRC_HUMAN_Ahler_2019.csv    SRC_HUMAN       Human   \n",
       "191  SRC_HUMAN_Chakraborty_2023_binding-DAS_25uM.csv    SRC_HUMAN       Human   \n",
       "192                        SRC_HUMAN_Nguyen_2022.csv    SRC_HUMAN       Human   \n",
       "205                        UBC9_HUMAN_Weile_2017.csv   UBC9_HUMAN       Human   \n",
       "\n",
       "            source_organism  \\\n",
       "14   Pseudomonas aeruginosa   \n",
       "20         Escherichia coli   \n",
       "21         Escherichia coli   \n",
       "23         Escherichia coli   \n",
       "32             Homo sapiens   \n",
       "95             Homo sapiens   \n",
       "138            Homo sapiens   \n",
       "190            Homo sapiens   \n",
       "191           S. Cerevisiae   \n",
       "192                   Human   \n",
       "205            Homo sapiens   \n",
       "\n",
       "                                            target_seq  seq_len  \\\n",
       "14   MRHGDISSSNDTVGVAVVNYKMPRLHTAAEVLDNARKIAEMIVGMK...      346   \n",
       "20   MSIQHFRVALIPFFAAFCLPVFAHPETLVKVKDAEDQLGARVGYIE...      286   \n",
       "21   MSIQHFRVALIPFFAAFCLPVFAHPETLVKVKDAEDQLGARVGYIE...      286   \n",
       "23   MSIQHFRVALIPFFAAFCLPVFAHPETLVKVKDAEDQLGARVGYIE...      286   \n",
       "32   MSGISLDNSYKMDYPEMGLCIIINNKNFHKSTGMTSRSGTDVDAAN...      258   \n",
       "95   MAAAAAAGAGPEMVRGQVFDVGPRYTNLSYIGEGAYGMVCSAYDNV...      360   \n",
       "138  MTAIIKEIVSRNKRRYQEDGFDLDLTYIYPNIIAMGFPAERLEGVY...      403   \n",
       "190  MGSNKSKPKDASQRRRSLEPAENVHGAGGGAFPASQTPSKPASADG...      536   \n",
       "191  MGSNKSKPKDASQRRRSLEPAENVHGAGGGAFPASQTPSKPASADG...      536   \n",
       "192  MGSNKSKPKDASQRRRSLEPAENVHGAGGGAFPASQTPSKPASADG...      536   \n",
       "205  MSGIALSRLAQERKAWRKDHPFGFVAVPTKNPDGTMNLMNWECAIP...      159   \n",
       "\n",
       "     includes_multiple_mutants  DMS_total_number_mutants  \\\n",
       "14                       False                      6227   \n",
       "20                       False                      4996   \n",
       "21                       False                      4783   \n",
       "23                       False                      4996   \n",
       "32                       False                      1567   \n",
       "95                       False                      6809   \n",
       "138                      False                      7260   \n",
       "190                      False                      3372   \n",
       "191                      False                      3637   \n",
       "192                      False                      3366   \n",
       "205                      False                      2563   \n",
       "\n",
       "     DMS_number_single_mutants  ...  raw_DMS_mutant_column  \\\n",
       "14                        6227  ...                 mutant   \n",
       "20                        4996  ...                 mutant   \n",
       "21                        4783  ...                 mutant   \n",
       "23                        4996  ...                 mutant   \n",
       "32                        1567  ...                 mutant   \n",
       "95                        6809  ...                 mutant   \n",
       "138                       7260  ...                 mutant   \n",
       "190                       3372  ...       mutant_uniprot_1   \n",
       "191                       3637  ...                 mutant   \n",
       "192                       3366  ...                 mutant   \n",
       "205                       2563  ...                 mutant   \n",
       "\n",
       "                            weight_file_name         pdb_file  \\\n",
       "14                  AMIE_PSEAE_theta_0.2.npy   AMIE_PSEAE.pdb   \n",
       "20                  BLAT_ECOLX_theta_0.2.npy   BLAT_ECOLX.pdb   \n",
       "21                  BLAT_ECOLX_theta_0.2.npy   BLAT_ECOLX.pdb   \n",
       "23                  BLAT_ECOLX_theta_0.2.npy   BLAT_ECOLX.pdb   \n",
       "32   CASP3_HUMAN_theta0.2_2023-08-07_b01.npy  CASP3_HUMAN.pdb   \n",
       "95                  MK01_HUMAN_theta_0.2.npy   MK01_HUMAN.pdb   \n",
       "138                 PTEN_HUMAN_theta_0.2.npy   PTEN_HUMAN.pdb   \n",
       "190                  SRC_HUMAN_theta_0.2.npy    SRC_HUMAN.pdb   \n",
       "191    SRC_HUMAN_theta0.2_2023-08-07_b06.npy    SRC_HUMAN.pdb   \n",
       "192    SRC_HUMAN_theta0.2_2023-08-07_b06.npy    SRC_HUMAN.pdb   \n",
       "205                 UBC9_HUMAN_theta_0.2.npy   UBC9_HUMAN.pdb   \n",
       "\n",
       "    ProteinGym_version raw_mut_offset  coarse_selection_type  \\\n",
       "14                 0.1            NaN               Activity   \n",
       "20                 0.1            NaN      OrganismalFitness   \n",
       "21                 0.1            NaN      OrganismalFitness   \n",
       "23                 0.1            NaN      OrganismalFitness   \n",
       "32                 1.0            NaN               Activity   \n",
       "95                 0.1            NaN      OrganismalFitness   \n",
       "138                0.1            NaN               Activity   \n",
       "190                0.1            NaN               Activity   \n",
       "191                1.0            NaN               Activity   \n",
       "192                1.0            NaN      OrganismalFitness   \n",
       "205                0.1            NaN      OrganismalFitness   \n",
       "\n",
       "    has_pdb_structure structure_covers_mutated_region  \\\n",
       "14               True                            True   \n",
       "20               True                            True   \n",
       "21               True                            True   \n",
       "23               True                            True   \n",
       "32               True                            True   \n",
       "95               True                            True   \n",
       "138              True                            True   \n",
       "190              True                            True   \n",
       "191              True                            True   \n",
       "192              True                            True   \n",
       "205              True                            True   \n",
       "\n",
       "                                      uniprot_sequence active_site  \n",
       "14   MRHGDISSSNDTVGVAVVNYKMPRLHTAAEVLDNARKIAEMIVGMK...  59-134-166  \n",
       "20   MSIQHFRVALIPFFAAFCLPVFAHPETLVKVKDAEDQLGARVGYIE...      68-166  \n",
       "21   MSIQHFRVALIPFFAAFCLPVFAHPETLVKVKDAEDQLGARVGYIE...      68-166  \n",
       "23   MSIQHFRVALIPFFAAFCLPVFAHPETLVKVKDAEDQLGARVGYIE...      68-166  \n",
       "32   MENTENSVDSKSIKNLEPKIIHGSESMDSGISLDNSYKMDYPEMGL...     121-163  \n",
       "95   MAAAAAAGAGPEMVRGQVFDVGPRYTNLSYIGEGAYGMVCSAYDNV...         149  \n",
       "138  MTAIIKEIVSRNKRRYQEDGFDLDLTYIYPNIIAMGFPAERLEGVY...         124  \n",
       "190  MGSNKSKPKDASQRRRSLEPAENVHGAGGGAFPASQTPSKPASADG...         389  \n",
       "191  MGSNKSKPKDASQRRRSLEPAENVHGAGGGAFPASQTPSKPASADG...         389  \n",
       "192  MGSNKSKPKDASQRRRSLEPAENVHGAGGGAFPASQTPSKPASADG...         389  \n",
       "205  MSGIALSRLAQERKAWRKDHPFGFVAVPTKNPDGTMNLMNWECAIP...          93  \n",
       "\n",
       "[11 rows x 48 columns]"
      ]
     },
     "execution_count": 106,
     "metadata": {},
     "output_type": "execute_result"
    }
   ],
   "source": [
    "reference_info = gym.reference_information\n",
    "selection = reference_info[\n",
    "    (reference_info[\"seq_len\"] <= 600) &\n",
    "    (reference_info[\"DMS_number_single_mutants\"] > 1000) &\n",
    "    (reference_info[\"active_site\"] != \"\") &\n",
    "    (reference_info[\"structure_covers_mutated_region\"] == True) &\n",
    "    (reference_info[\"coarse_selection_type\"].map(lambda x: x in (\"OrganismalFitness\", \"Activity\")))\n",
    "]\n",
    "selection"
   ]
  },
  {
   "cell_type": "code",
   "execution_count": 107,
   "metadata": {
    "collapsed": false,
    "jupyter": {
     "outputs_hidden": false
    }
   },
   "outputs": [],
   "source": [
    "non_activity_dms_ids = [\"SRC_HUMAN_Chakraborty_2023_binding-DAS_25uM\", \"SRC_HUMAN_Nguyen_2022\"]"
   ]
  },
  {
   "cell_type": "code",
   "execution_count": 108,
   "metadata": {
    "collapsed": false,
    "jupyter": {
     "outputs_hidden": false
    }
   },
   "outputs": [
    {
     "data": {
      "text/html": [
       "<div>\n",
       "<style scoped>\n",
       "    .dataframe tbody tr th:only-of-type {\n",
       "        vertical-align: middle;\n",
       "    }\n",
       "\n",
       "    .dataframe tbody tr th {\n",
       "        vertical-align: top;\n",
       "    }\n",
       "\n",
       "    .dataframe thead th {\n",
       "        text-align: right;\n",
       "    }\n",
       "</style>\n",
       "<table border=\"1\" class=\"dataframe\">\n",
       "  <thead>\n",
       "    <tr style=\"text-align: right;\">\n",
       "      <th></th>\n",
       "      <th>DMS_id</th>\n",
       "      <th>DMS_filename</th>\n",
       "      <th>UniProt_ID</th>\n",
       "      <th>taxon</th>\n",
       "      <th>source_organism</th>\n",
       "      <th>target_seq</th>\n",
       "      <th>seq_len</th>\n",
       "      <th>includes_multiple_mutants</th>\n",
       "      <th>DMS_total_number_mutants</th>\n",
       "      <th>DMS_number_single_mutants</th>\n",
       "      <th>...</th>\n",
       "      <th>raw_DMS_mutant_column</th>\n",
       "      <th>weight_file_name</th>\n",
       "      <th>pdb_file</th>\n",
       "      <th>ProteinGym_version</th>\n",
       "      <th>raw_mut_offset</th>\n",
       "      <th>coarse_selection_type</th>\n",
       "      <th>has_pdb_structure</th>\n",
       "      <th>structure_covers_mutated_region</th>\n",
       "      <th>uniprot_sequence</th>\n",
       "      <th>active_site</th>\n",
       "    </tr>\n",
       "  </thead>\n",
       "  <tbody>\n",
       "    <tr>\n",
       "      <th>14</th>\n",
       "      <td>AMIE_PSEAE_Wrenbeck_2017</td>\n",
       "      <td>AMIE_PSEAE_Wrenbeck_2017.csv</td>\n",
       "      <td>AMIE_PSEAE</td>\n",
       "      <td>Prokaryote</td>\n",
       "      <td>Pseudomonas aeruginosa</td>\n",
       "      <td>MRHGDISSSNDTVGVAVVNYKMPRLHTAAEVLDNARKIAEMIVGMK...</td>\n",
       "      <td>346</td>\n",
       "      <td>False</td>\n",
       "      <td>6227</td>\n",
       "      <td>6227</td>\n",
       "      <td>...</td>\n",
       "      <td>mutant</td>\n",
       "      <td>AMIE_PSEAE_theta_0.2.npy</td>\n",
       "      <td>AMIE_PSEAE.pdb</td>\n",
       "      <td>0.1</td>\n",
       "      <td>NaN</td>\n",
       "      <td>Activity</td>\n",
       "      <td>True</td>\n",
       "      <td>True</td>\n",
       "      <td>MRHGDISSSNDTVGVAVVNYKMPRLHTAAEVLDNARKIAEMIVGMK...</td>\n",
       "      <td>59-134-166</td>\n",
       "    </tr>\n",
       "    <tr>\n",
       "      <th>20</th>\n",
       "      <td>BLAT_ECOLX_Deng_2012</td>\n",
       "      <td>BLAT_ECOLX_Deng_2012.csv</td>\n",
       "      <td>BLAT_ECOLX</td>\n",
       "      <td>Prokaryote</td>\n",
       "      <td>Escherichia coli</td>\n",
       "      <td>MSIQHFRVALIPFFAAFCLPVFAHPETLVKVKDAEDQLGARVGYIE...</td>\n",
       "      <td>286</td>\n",
       "      <td>False</td>\n",
       "      <td>4996</td>\n",
       "      <td>4996</td>\n",
       "      <td>...</td>\n",
       "      <td>mutant</td>\n",
       "      <td>BLAT_ECOLX_theta_0.2.npy</td>\n",
       "      <td>BLAT_ECOLX.pdb</td>\n",
       "      <td>0.1</td>\n",
       "      <td>NaN</td>\n",
       "      <td>OrganismalFitness</td>\n",
       "      <td>True</td>\n",
       "      <td>True</td>\n",
       "      <td>MSIQHFRVALIPFFAAFCLPVFAHPETLVKVKDAEDQLGARVGYIE...</td>\n",
       "      <td>68-166</td>\n",
       "    </tr>\n",
       "    <tr>\n",
       "      <th>21</th>\n",
       "      <td>BLAT_ECOLX_Firnberg_2014</td>\n",
       "      <td>BLAT_ECOLX_Firnberg_2014.csv</td>\n",
       "      <td>BLAT_ECOLX</td>\n",
       "      <td>Prokaryote</td>\n",
       "      <td>Escherichia coli</td>\n",
       "      <td>MSIQHFRVALIPFFAAFCLPVFAHPETLVKVKDAEDQLGARVGYIE...</td>\n",
       "      <td>286</td>\n",
       "      <td>False</td>\n",
       "      <td>4783</td>\n",
       "      <td>4783</td>\n",
       "      <td>...</td>\n",
       "      <td>mutant</td>\n",
       "      <td>BLAT_ECOLX_theta_0.2.npy</td>\n",
       "      <td>BLAT_ECOLX.pdb</td>\n",
       "      <td>0.1</td>\n",
       "      <td>NaN</td>\n",
       "      <td>OrganismalFitness</td>\n",
       "      <td>True</td>\n",
       "      <td>True</td>\n",
       "      <td>MSIQHFRVALIPFFAAFCLPVFAHPETLVKVKDAEDQLGARVGYIE...</td>\n",
       "      <td>68-166</td>\n",
       "    </tr>\n",
       "    <tr>\n",
       "      <th>23</th>\n",
       "      <td>BLAT_ECOLX_Stiffler_2015</td>\n",
       "      <td>BLAT_ECOLX_Stiffler_2015.csv</td>\n",
       "      <td>BLAT_ECOLX</td>\n",
       "      <td>Prokaryote</td>\n",
       "      <td>Escherichia coli</td>\n",
       "      <td>MSIQHFRVALIPFFAAFCLPVFAHPETLVKVKDAEDQLGARVGYIE...</td>\n",
       "      <td>286</td>\n",
       "      <td>False</td>\n",
       "      <td>4996</td>\n",
       "      <td>4996</td>\n",
       "      <td>...</td>\n",
       "      <td>mutant</td>\n",
       "      <td>BLAT_ECOLX_theta_0.2.npy</td>\n",
       "      <td>BLAT_ECOLX.pdb</td>\n",
       "      <td>0.1</td>\n",
       "      <td>NaN</td>\n",
       "      <td>OrganismalFitness</td>\n",
       "      <td>True</td>\n",
       "      <td>True</td>\n",
       "      <td>MSIQHFRVALIPFFAAFCLPVFAHPETLVKVKDAEDQLGARVGYIE...</td>\n",
       "      <td>68-166</td>\n",
       "    </tr>\n",
       "    <tr>\n",
       "      <th>32</th>\n",
       "      <td>CASP3_HUMAN_Roychowdhury_2020</td>\n",
       "      <td>CASP3_HUMAN_Roychowdhury_2020.csv</td>\n",
       "      <td>CASP3_HUMAN</td>\n",
       "      <td>Human</td>\n",
       "      <td>Homo sapiens</td>\n",
       "      <td>MSGISLDNSYKMDYPEMGLCIIINNKNFHKSTGMTSRSGTDVDAAN...</td>\n",
       "      <td>258</td>\n",
       "      <td>False</td>\n",
       "      <td>1567</td>\n",
       "      <td>1567</td>\n",
       "      <td>...</td>\n",
       "      <td>mutant</td>\n",
       "      <td>CASP3_HUMAN_theta0.2_2023-08-07_b01.npy</td>\n",
       "      <td>CASP3_HUMAN.pdb</td>\n",
       "      <td>1.0</td>\n",
       "      <td>NaN</td>\n",
       "      <td>Activity</td>\n",
       "      <td>True</td>\n",
       "      <td>True</td>\n",
       "      <td>MENTENSVDSKSIKNLEPKIIHGSESMDSGISLDNSYKMDYPEMGL...</td>\n",
       "      <td>121-163</td>\n",
       "    </tr>\n",
       "    <tr>\n",
       "      <th>95</th>\n",
       "      <td>MK01_HUMAN_Brenan_2016</td>\n",
       "      <td>MK01_HUMAN_Brenan_2016.csv</td>\n",
       "      <td>MK01_HUMAN</td>\n",
       "      <td>Human</td>\n",
       "      <td>Homo sapiens</td>\n",
       "      <td>MAAAAAAGAGPEMVRGQVFDVGPRYTNLSYIGEGAYGMVCSAYDNV...</td>\n",
       "      <td>360</td>\n",
       "      <td>False</td>\n",
       "      <td>6809</td>\n",
       "      <td>6809</td>\n",
       "      <td>...</td>\n",
       "      <td>mutant</td>\n",
       "      <td>MK01_HUMAN_theta_0.2.npy</td>\n",
       "      <td>MK01_HUMAN.pdb</td>\n",
       "      <td>0.1</td>\n",
       "      <td>NaN</td>\n",
       "      <td>OrganismalFitness</td>\n",
       "      <td>True</td>\n",
       "      <td>True</td>\n",
       "      <td>MAAAAAAGAGPEMVRGQVFDVGPRYTNLSYIGEGAYGMVCSAYDNV...</td>\n",
       "      <td>149</td>\n",
       "    </tr>\n",
       "    <tr>\n",
       "      <th>138</th>\n",
       "      <td>PTEN_HUMAN_Mighell_2018</td>\n",
       "      <td>PTEN_HUMAN_Mighell_2018.csv</td>\n",
       "      <td>PTEN_HUMAN</td>\n",
       "      <td>Human</td>\n",
       "      <td>Homo sapiens</td>\n",
       "      <td>MTAIIKEIVSRNKRRYQEDGFDLDLTYIYPNIIAMGFPAERLEGVY...</td>\n",
       "      <td>403</td>\n",
       "      <td>False</td>\n",
       "      <td>7260</td>\n",
       "      <td>7260</td>\n",
       "      <td>...</td>\n",
       "      <td>mutant</td>\n",
       "      <td>PTEN_HUMAN_theta_0.2.npy</td>\n",
       "      <td>PTEN_HUMAN.pdb</td>\n",
       "      <td>0.1</td>\n",
       "      <td>NaN</td>\n",
       "      <td>Activity</td>\n",
       "      <td>True</td>\n",
       "      <td>True</td>\n",
       "      <td>MTAIIKEIVSRNKRRYQEDGFDLDLTYIYPNIIAMGFPAERLEGVY...</td>\n",
       "      <td>124</td>\n",
       "    </tr>\n",
       "    <tr>\n",
       "      <th>190</th>\n",
       "      <td>SRC_HUMAN_Ahler_2019</td>\n",
       "      <td>SRC_HUMAN_Ahler_2019.csv</td>\n",
       "      <td>SRC_HUMAN</td>\n",
       "      <td>Human</td>\n",
       "      <td>Homo sapiens</td>\n",
       "      <td>MGSNKSKPKDASQRRRSLEPAENVHGAGGGAFPASQTPSKPASADG...</td>\n",
       "      <td>536</td>\n",
       "      <td>False</td>\n",
       "      <td>3372</td>\n",
       "      <td>3372</td>\n",
       "      <td>...</td>\n",
       "      <td>mutant_uniprot_1</td>\n",
       "      <td>SRC_HUMAN_theta_0.2.npy</td>\n",
       "      <td>SRC_HUMAN.pdb</td>\n",
       "      <td>0.1</td>\n",
       "      <td>NaN</td>\n",
       "      <td>Activity</td>\n",
       "      <td>True</td>\n",
       "      <td>True</td>\n",
       "      <td>MGSNKSKPKDASQRRRSLEPAENVHGAGGGAFPASQTPSKPASADG...</td>\n",
       "      <td>389</td>\n",
       "    </tr>\n",
       "    <tr>\n",
       "      <th>205</th>\n",
       "      <td>UBC9_HUMAN_Weile_2017</td>\n",
       "      <td>UBC9_HUMAN_Weile_2017.csv</td>\n",
       "      <td>UBC9_HUMAN</td>\n",
       "      <td>Human</td>\n",
       "      <td>Homo sapiens</td>\n",
       "      <td>MSGIALSRLAQERKAWRKDHPFGFVAVPTKNPDGTMNLMNWECAIP...</td>\n",
       "      <td>159</td>\n",
       "      <td>False</td>\n",
       "      <td>2563</td>\n",
       "      <td>2563</td>\n",
       "      <td>...</td>\n",
       "      <td>mutant</td>\n",
       "      <td>UBC9_HUMAN_theta_0.2.npy</td>\n",
       "      <td>UBC9_HUMAN.pdb</td>\n",
       "      <td>0.1</td>\n",
       "      <td>NaN</td>\n",
       "      <td>OrganismalFitness</td>\n",
       "      <td>True</td>\n",
       "      <td>True</td>\n",
       "      <td>MSGIALSRLAQERKAWRKDHPFGFVAVPTKNPDGTMNLMNWECAIP...</td>\n",
       "      <td>93</td>\n",
       "    </tr>\n",
       "  </tbody>\n",
       "</table>\n",
       "<p>9 rows × 48 columns</p>\n",
       "</div>"
      ],
      "text/plain": [
       "                            DMS_id                       DMS_filename  \\\n",
       "14        AMIE_PSEAE_Wrenbeck_2017       AMIE_PSEAE_Wrenbeck_2017.csv   \n",
       "20            BLAT_ECOLX_Deng_2012           BLAT_ECOLX_Deng_2012.csv   \n",
       "21        BLAT_ECOLX_Firnberg_2014       BLAT_ECOLX_Firnberg_2014.csv   \n",
       "23        BLAT_ECOLX_Stiffler_2015       BLAT_ECOLX_Stiffler_2015.csv   \n",
       "32   CASP3_HUMAN_Roychowdhury_2020  CASP3_HUMAN_Roychowdhury_2020.csv   \n",
       "95          MK01_HUMAN_Brenan_2016         MK01_HUMAN_Brenan_2016.csv   \n",
       "138        PTEN_HUMAN_Mighell_2018        PTEN_HUMAN_Mighell_2018.csv   \n",
       "190           SRC_HUMAN_Ahler_2019           SRC_HUMAN_Ahler_2019.csv   \n",
       "205          UBC9_HUMAN_Weile_2017          UBC9_HUMAN_Weile_2017.csv   \n",
       "\n",
       "      UniProt_ID       taxon         source_organism  \\\n",
       "14    AMIE_PSEAE  Prokaryote  Pseudomonas aeruginosa   \n",
       "20    BLAT_ECOLX  Prokaryote        Escherichia coli   \n",
       "21    BLAT_ECOLX  Prokaryote        Escherichia coli   \n",
       "23    BLAT_ECOLX  Prokaryote        Escherichia coli   \n",
       "32   CASP3_HUMAN       Human            Homo sapiens   \n",
       "95    MK01_HUMAN       Human            Homo sapiens   \n",
       "138   PTEN_HUMAN       Human            Homo sapiens   \n",
       "190    SRC_HUMAN       Human            Homo sapiens   \n",
       "205   UBC9_HUMAN       Human            Homo sapiens   \n",
       "\n",
       "                                            target_seq  seq_len  \\\n",
       "14   MRHGDISSSNDTVGVAVVNYKMPRLHTAAEVLDNARKIAEMIVGMK...      346   \n",
       "20   MSIQHFRVALIPFFAAFCLPVFAHPETLVKVKDAEDQLGARVGYIE...      286   \n",
       "21   MSIQHFRVALIPFFAAFCLPVFAHPETLVKVKDAEDQLGARVGYIE...      286   \n",
       "23   MSIQHFRVALIPFFAAFCLPVFAHPETLVKVKDAEDQLGARVGYIE...      286   \n",
       "32   MSGISLDNSYKMDYPEMGLCIIINNKNFHKSTGMTSRSGTDVDAAN...      258   \n",
       "95   MAAAAAAGAGPEMVRGQVFDVGPRYTNLSYIGEGAYGMVCSAYDNV...      360   \n",
       "138  MTAIIKEIVSRNKRRYQEDGFDLDLTYIYPNIIAMGFPAERLEGVY...      403   \n",
       "190  MGSNKSKPKDASQRRRSLEPAENVHGAGGGAFPASQTPSKPASADG...      536   \n",
       "205  MSGIALSRLAQERKAWRKDHPFGFVAVPTKNPDGTMNLMNWECAIP...      159   \n",
       "\n",
       "     includes_multiple_mutants  DMS_total_number_mutants  \\\n",
       "14                       False                      6227   \n",
       "20                       False                      4996   \n",
       "21                       False                      4783   \n",
       "23                       False                      4996   \n",
       "32                       False                      1567   \n",
       "95                       False                      6809   \n",
       "138                      False                      7260   \n",
       "190                      False                      3372   \n",
       "205                      False                      2563   \n",
       "\n",
       "     DMS_number_single_mutants  ...  raw_DMS_mutant_column  \\\n",
       "14                        6227  ...                 mutant   \n",
       "20                        4996  ...                 mutant   \n",
       "21                        4783  ...                 mutant   \n",
       "23                        4996  ...                 mutant   \n",
       "32                        1567  ...                 mutant   \n",
       "95                        6809  ...                 mutant   \n",
       "138                       7260  ...                 mutant   \n",
       "190                       3372  ...       mutant_uniprot_1   \n",
       "205                       2563  ...                 mutant   \n",
       "\n",
       "                            weight_file_name         pdb_file  \\\n",
       "14                  AMIE_PSEAE_theta_0.2.npy   AMIE_PSEAE.pdb   \n",
       "20                  BLAT_ECOLX_theta_0.2.npy   BLAT_ECOLX.pdb   \n",
       "21                  BLAT_ECOLX_theta_0.2.npy   BLAT_ECOLX.pdb   \n",
       "23                  BLAT_ECOLX_theta_0.2.npy   BLAT_ECOLX.pdb   \n",
       "32   CASP3_HUMAN_theta0.2_2023-08-07_b01.npy  CASP3_HUMAN.pdb   \n",
       "95                  MK01_HUMAN_theta_0.2.npy   MK01_HUMAN.pdb   \n",
       "138                 PTEN_HUMAN_theta_0.2.npy   PTEN_HUMAN.pdb   \n",
       "190                  SRC_HUMAN_theta_0.2.npy    SRC_HUMAN.pdb   \n",
       "205                 UBC9_HUMAN_theta_0.2.npy   UBC9_HUMAN.pdb   \n",
       "\n",
       "    ProteinGym_version raw_mut_offset  coarse_selection_type  \\\n",
       "14                 0.1            NaN               Activity   \n",
       "20                 0.1            NaN      OrganismalFitness   \n",
       "21                 0.1            NaN      OrganismalFitness   \n",
       "23                 0.1            NaN      OrganismalFitness   \n",
       "32                 1.0            NaN               Activity   \n",
       "95                 0.1            NaN      OrganismalFitness   \n",
       "138                0.1            NaN               Activity   \n",
       "190                0.1            NaN               Activity   \n",
       "205                0.1            NaN      OrganismalFitness   \n",
       "\n",
       "    has_pdb_structure structure_covers_mutated_region  \\\n",
       "14               True                            True   \n",
       "20               True                            True   \n",
       "21               True                            True   \n",
       "23               True                            True   \n",
       "32               True                            True   \n",
       "95               True                            True   \n",
       "138              True                            True   \n",
       "190              True                            True   \n",
       "205              True                            True   \n",
       "\n",
       "                                      uniprot_sequence active_site  \n",
       "14   MRHGDISSSNDTVGVAVVNYKMPRLHTAAEVLDNARKIAEMIVGMK...  59-134-166  \n",
       "20   MSIQHFRVALIPFFAAFCLPVFAHPETLVKVKDAEDQLGARVGYIE...      68-166  \n",
       "21   MSIQHFRVALIPFFAAFCLPVFAHPETLVKVKDAEDQLGARVGYIE...      68-166  \n",
       "23   MSIQHFRVALIPFFAAFCLPVFAHPETLVKVKDAEDQLGARVGYIE...      68-166  \n",
       "32   MENTENSVDSKSIKNLEPKIIHGSESMDSGISLDNSYKMDYPEMGL...     121-163  \n",
       "95   MAAAAAAGAGPEMVRGQVFDVGPRYTNLSYIGEGAYGMVCSAYDNV...         149  \n",
       "138  MTAIIKEIVSRNKRRYQEDGFDLDLTYIYPNIIAMGFPAERLEGVY...         124  \n",
       "190  MGSNKSKPKDASQRRRSLEPAENVHGAGGGAFPASQTPSKPASADG...         389  \n",
       "205  MSGIALSRLAQERKAWRKDHPFGFVAVPTKNPDGTMNLMNWECAIP...          93  \n",
       "\n",
       "[9 rows x 48 columns]"
      ]
     },
     "execution_count": 108,
     "metadata": {},
     "output_type": "execute_result"
    }
   ],
   "source": [
    "final_selection = selection[selection[\"DMS_id\"].map(lambda x: x not in non_activity_dms_ids)]\n",
    "final_selection"
   ]
  },
  {
   "cell_type": "markdown",
   "metadata": {
    "collapsed": false,
    "jupyter": {
     "outputs_hidden": false
    }
   },
   "source": [
    "# Assigning structural characteristics and exporting as .csv files "
   ]
  },
  {
   "cell_type": "code",
   "execution_count": 8,
   "metadata": {
    "collapsed": false,
    "jupyter": {
     "outputs_hidden": false
    }
   },
   "outputs": [],
   "source": [
    "color_map = {\n",
    "    0: \"white\",\n",
    "    1: \"firebrick\"\n",
    "}"
   ]
  },
  {
   "cell_type": "markdown",
   "metadata": {},
   "source": [
    "# AMIE_PSEAE_Wrenbeck_2017"
   ]
  },
  {
   "cell_type": "code",
   "execution_count": 46,
   "metadata": {},
   "outputs": [
    {
     "data": {
      "text/plain": [
       "['DR   PDB; 2UXY; X-ray; 1.25 A; A=1-341.']"
      ]
     },
     "execution_count": 46,
     "metadata": {},
     "output_type": "execute_result"
    }
   ],
   "source": [
    "dms_id = \"AMIE_PSEAE_Wrenbeck_2017\"\n",
    "uniprot_id = gym.reference_information.loc[gym.reference_information[\"DMS_id\"] == dms_id, \"UniProt_ID\"].values[0]\n",
    "active_site = gym.reference_information.loc[\n",
    "    gym.reference_information[\"DMS_id\"] == dms_id, \"active_site\"\n",
    "].map(lambda x: [int(pos) for pos in x.split(\"-\")]).values[0]\n",
    "data_dir = DATA_ROOT / f\"{dms_id}\"\n",
    "data_dir.mkdir(parents=True, exist_ok=True)\n",
    "data = gym.prepare_dataset(dms_id)\n",
    "data.to_csv(data_dir / \"data.csv\")\n",
    "gym.available_pdbs[uniprot_id]"
   ]
  },
  {
   "cell_type": "code",
   "execution_count": 47,
   "metadata": {},
   "outputs": [
    {
     "name": "stderr",
     "output_type": "stream",
     "text": [
      "@> 2971 atoms and 1 coordinate set(s) were parsed in 0.02s.\n"
     ]
    }
   ],
   "source": [
    "pdb_id = \"2UXY\"\n",
    "pdb_file_path = data_dir / f\"{pdb_id}.pdb\"\n",
    "download_pdb(pdb_id, data_dir)\n",
    "sc = StructuralCharacterizer(str(pdb_file_path), active_site_residues=active_site)\n",
    "sc.residue_characteristics.to_csv(data_dir / \"structural_characteristics.csv\")\n",
    "colorings = get_ngl_colorings(sc.residue_characteristics, color_map)"
   ]
  },
  {
   "cell_type": "code",
   "execution_count": 48,
   "metadata": {},
   "outputs": [
    {
     "data": {
      "application/vnd.jupyter.widget-view+json": {
       "model_id": "ff4b0675e2c745e18dba3ca4848533c3",
       "version_major": 2,
       "version_minor": 0
      },
      "text/plain": [
       "NGLWidget()"
      ]
     },
     "metadata": {},
     "output_type": "display_data"
    }
   ],
   "source": [
    "view = show_structure(pdb_file_path, colorings[\"is_buried\"])\n",
    "view"
   ]
  },
  {
   "cell_type": "code",
   "execution_count": 49,
   "metadata": {},
   "outputs": [
    {
     "data": {
      "application/vnd.jupyter.widget-view+json": {
       "model_id": "50f934425b4a46c0be7ab16a3a69c227",
       "version_major": 2,
       "version_minor": 0
      },
      "text/plain": [
       "NGLWidget()"
      ]
     },
     "metadata": {},
     "output_type": "display_data"
    }
   ],
   "source": [
    "view = show_structure(pdb_file_path, colorings[\"is_connected\"])\n",
    "view"
   ]
  },
  {
   "cell_type": "code",
   "execution_count": 50,
   "metadata": {},
   "outputs": [
    {
     "data": {
      "application/vnd.jupyter.widget-view+json": {
       "model_id": "a7218084271c4ae482f07e115889073f",
       "version_major": 2,
       "version_minor": 0
      },
      "text/plain": [
       "NGLWidget()"
      ]
     },
     "metadata": {},
     "output_type": "display_data"
    }
   ],
   "source": [
    "view = show_structure(pdb_file_path, colorings[\"is_close_to_as\"])\n",
    "view"
   ]
  },
  {
   "cell_type": "code",
   "execution_count": 51,
   "metadata": {},
   "outputs": [
    {
     "data": {
      "application/vnd.jupyter.widget-view+json": {
       "model_id": "fbc1ac68f0e1462094e43356f2099172",
       "version_major": 2,
       "version_minor": 0
      },
      "text/plain": [
       "NGLWidget()"
      ]
     },
     "metadata": {},
     "output_type": "display_data"
    }
   ],
   "source": [
    "view = show_structure(pdb_file_path, colorings[\"is_secondary\"])\n",
    "view"
   ]
  },
  {
   "cell_type": "markdown",
   "metadata": {},
   "source": [
    "# BLAT_ECOLX_Deng_2012"
   ]
  },
  {
   "cell_type": "code",
   "execution_count": 52,
   "metadata": {},
   "outputs": [
    {
     "data": {
      "text/plain": [
       "['DR   PDB; 1AXB; X-ray; 2.00 A; A=24-286.',\n",
       " 'DR   PDB; 1BT5; X-ray; 1.80 A; A=24-286.',\n",
       " 'DR   PDB; 1BTL; X-ray; 1.80 A; A=24-286.',\n",
       " 'DR   PDB; 1CK3; X-ray; 2.28 A; A=24-284.',\n",
       " 'DR   PDB; 1ERM; X-ray; 1.70 A; A=24-286.',\n",
       " 'DR   PDB; 1ERO; X-ray; 2.10 A; A=24-286.',\n",
       " 'DR   PDB; 1ERQ; X-ray; 1.90 A; A=24-286.',\n",
       " 'DR   PDB; 1ESU; X-ray; 2.00 A; A=24-284.',\n",
       " 'DR   PDB; 1FQG; X-ray; 1.70 A; A=24-286.',\n",
       " 'DR   PDB; 1JTD; X-ray; 2.30 A; A=24-286.',\n",
       " 'DR   PDB; 1JTG; X-ray; 1.73 A; A/C=24-286.',\n",
       " 'DR   PDB; 1JVJ; X-ray; 1.73 A; A=24-286.',\n",
       " 'DR   PDB; 1JWP; X-ray; 1.75 A; A=24-286.',\n",
       " 'DR   PDB; 1JWV; X-ray; 1.85 A; A=24-286.',\n",
       " 'DR   PDB; 1JWZ; X-ray; 1.80 A; A=24-286.',\n",
       " 'DR   PDB; 1LHY; X-ray; 2.00 A; A=24-284.',\n",
       " 'DR   PDB; 1LI0; X-ray; 1.61 A; A=24-284.',\n",
       " 'DR   PDB; 1LI9; X-ray; 1.52 A; A=24-284.',\n",
       " 'DR   PDB; 1M40; X-ray; 0.85 A; A=24-286.',\n",
       " 'DR   PDB; 1NXY; X-ray; 1.60 A; A=24-286.',\n",
       " 'DR   PDB; 1NY0; X-ray; 1.75 A; A=24-286.',\n",
       " 'DR   PDB; 1NYM; X-ray; 1.20 A; A=24-286.',\n",
       " 'DR   PDB; 1NYY; X-ray; 1.90 A; A=24-286.',\n",
       " 'DR   PDB; 1PZO; X-ray; 1.90 A; A=24-284.',\n",
       " 'DR   PDB; 1PZP; X-ray; 1.45 A; A=24-284.',\n",
       " 'DR   PDB; 1S0W; X-ray; 2.30 A; A/B=24-286.',\n",
       " 'DR   PDB; 1TEM; X-ray; 1.95 A; A=24-286.',\n",
       " 'DR   PDB; 1XPB; X-ray; 1.90 A; A=24-286.',\n",
       " 'DR   PDB; 1XXM; X-ray; 1.90 A; A/B=24-286.',\n",
       " 'DR   PDB; 1YT4; X-ray; 1.40 A; A=24-284.',\n",
       " 'DR   PDB; 1ZG4; X-ray; 1.55 A; A=1-284.',\n",
       " 'DR   PDB; 1ZG6; X-ray; 2.10 A; A=1-284.',\n",
       " 'DR   PDB; 2B5R; X-ray; 1.65 A; A/B=24-286.',\n",
       " 'DR   PDB; 2V1Z; X-ray; 1.60 A; A=25-38, A=41-286.',\n",
       " 'DR   PDB; 2V20; X-ray; 1.67 A; A=25-38, A=41-286.',\n",
       " 'DR   PDB; 3C7U; X-ray; 2.20 A; A/C=24-286.',\n",
       " 'DR   PDB; 3C7V; X-ray; 2.07 A; A/C=24-286.',\n",
       " 'DR   PDB; 3CMZ; X-ray; 1.92 A; A=24-286.',\n",
       " 'DR   PDB; 3DTM; X-ray; 2.00 A; A=24-286.',\n",
       " 'DR   PDB; 3JYI; X-ray; 2.70 A; A/B/C/D/E/F=24-286.',\n",
       " 'DR   PDB; 3TOI; X-ray; 1.90 A; A/B=39-283.',\n",
       " 'DR   PDB; 4DXB; X-ray; 2.29 A; A/B=24-226.',\n",
       " 'DR   PDB; 4DXC; X-ray; 2.30 A; A=24-226.',\n",
       " 'DR   PDB; 4GKU; X-ray; 1.92 A; A=24-286.',\n",
       " 'DR   PDB; 4IBR; X-ray; 2.20 A; A=24-286.',\n",
       " 'DR   PDB; 4IBX; X-ray; 2.68 A; A/B/C/D/E=24-286.',\n",
       " 'DR   PDB; 4ID4; X-ray; 1.05 A; A=24-147, A=189-286.',\n",
       " 'DR   PDB; 4MEZ; X-ray; 2.05 A; A/B=24-286.',\n",
       " 'DR   PDB; 4QY5; X-ray; 1.50 A; A=24-147, A=189-286.',\n",
       " 'DR   PDB; 4QY6; X-ray; 1.15 A; A=24-147, A=189-286.',\n",
       " 'DR   PDB; 4R4R; X-ray; 1.20 A; A=24-147, A=189-286.',\n",
       " 'DR   PDB; 4R4S; X-ray; 1.10 A; A=24-149, A=189-286.',\n",
       " 'DR   PDB; 4RVA; X-ray; 1.44 A; A=24-286.',\n",
       " 'DR   PDB; 4RX2; X-ray; 2.31 A; A/B/C/D/E/F/G/H=24-286.',\n",
       " 'DR   PDB; 4RX3; X-ray; 1.39 A; A=24-286.',\n",
       " 'DR   PDB; 4ZJ1; X-ray; 1.54 A; A=1-286.',\n",
       " 'DR   PDB; 4ZJ2; X-ray; 1.80 A; A=1-286.',\n",
       " 'DR   PDB; 4ZJ3; X-ray; 1.70 A; A=1-286.',\n",
       " 'DR   PDB; 5HVI; X-ray; 1.64 A; A/B/C/D=24-286.',\n",
       " 'DR   PDB; 5HW1; X-ray; 1.70 A; A/B/C/D=24-286.',\n",
       " 'DR   PDB; 5HW5; X-ray; 1.41 A; A/B/C/D=24-286.',\n",
       " 'DR   PDB; 5I52; X-ray; 1.75 A; A/B/C/D=24-286.',\n",
       " 'DR   PDB; 5I63; X-ray; 1.95 A; A/B/C/D=24-286.',\n",
       " 'DR   PDB; 5IQ8; X-ray; 2.06 A; A/B/C/D=24-286.',\n",
       " 'DR   PDB; 5KKF; X-ray; 1.82 A; A/B/C/D=24-286.',\n",
       " 'DR   PDB; 5KPU; X-ray; 1.50 A; A/B/C/D=24-286.',\n",
       " 'DR   PDB; 5NPO; X-ray; 1.95 A; A=24-286.',\n",
       " 'DR   PDB; 6APA; X-ray; 1.86 A; A/B/C/D=24-286.',\n",
       " 'DR   PDB; 6AYK; X-ray; 1.44 A; A/B/C/D=24-286.',\n",
       " 'DR   PDB; 6B2N; X-ray; 2.00 A; A/B/C/D=24-286.',\n",
       " 'DR   PDB; 7QLP; X-ray; 2.30 A; A/B/C/D/E/F=24-286.',\n",
       " 'DR   PDB; 7QNK; X-ray; 2.50 A; A/B/C/D/E/F=24-286.',\n",
       " 'DR   PDB; 7QOR; X-ray; 2.00 A; AAA/BBB/CCC/DDD/EEE/FFF=24-286.',\n",
       " 'DR   PDB; 8DDZ; X-ray; 1.45 A; A/B/C/D=24-286.',\n",
       " 'DR   PDB; 8DE0; X-ray; 1.72 A; A/B/C/D=24-286.',\n",
       " 'DR   PDB; 8DE1; X-ray; 1.56 A; A/B/C/D=24-286.',\n",
       " 'DR   PDB; 8DE2; X-ray; 2.45 A; A/B/C/D=24-286.']"
      ]
     },
     "execution_count": 52,
     "metadata": {},
     "output_type": "execute_result"
    }
   ],
   "source": [
    "dms_id = \"BLAT_ECOLX_Deng_2012\"\n",
    "uniprot_id = gym.reference_information.loc[gym.reference_information[\"DMS_id\"] == dms_id, \"UniProt_ID\"].values[0]\n",
    "active_site = gym.reference_information.loc[\n",
    "    gym.reference_information[\"DMS_id\"] == dms_id, \"active_site\"\n",
    "].map(lambda x: [int(pos) for pos in x.split(\"-\")]).values[0]\n",
    "data_dir = DATA_ROOT / f\"{dms_id}\"\n",
    "data_dir.mkdir(parents=True, exist_ok=True)\n",
    "data = gym.prepare_dataset(dms_id)\n",
    "data.to_csv(data_dir / \"data.csv\")\n",
    "gym.available_pdbs[uniprot_id]"
   ]
  },
  {
   "cell_type": "code",
   "execution_count": 53,
   "metadata": {},
   "outputs": [
    {
     "name": "stderr",
     "output_type": "stream",
     "text": [
      "@> 2224 atoms and 1 coordinate set(s) were parsed in 0.01s.\n"
     ]
    }
   ],
   "source": [
    "pdb_id = \"1ZG4\"\n",
    "pdb_file_path = data_dir / f\"{pdb_id}.pdb\"\n",
    "download_pdb(pdb_id, data_dir)\n",
    "sc = StructuralCharacterizer(str(pdb_file_path), active_site_residues=active_site)\n",
    "sc.residue_characteristics.to_csv(data_dir / \"structural_characteristics.csv\")\n",
    "colorings = get_ngl_colorings(sc.residue_characteristics, color_map)"
   ]
  },
  {
   "cell_type": "code",
   "execution_count": 55,
   "metadata": {},
   "outputs": [
    {
     "data": {
      "application/vnd.jupyter.widget-view+json": {
       "model_id": "90cc288a8e5f4bddb2e62f8ead0f4408",
       "version_major": 2,
       "version_minor": 0
      },
      "text/plain": [
       "NGLWidget()"
      ]
     },
     "metadata": {},
     "output_type": "display_data"
    }
   ],
   "source": [
    "view = show_structure(pdb_file_path, colorings[\"is_buried\"])\n",
    "view"
   ]
  },
  {
   "cell_type": "code",
   "execution_count": 56,
   "metadata": {},
   "outputs": [
    {
     "data": {
      "application/vnd.jupyter.widget-view+json": {
       "model_id": "d19c2a92e1894fb38bd8d863673b7c95",
       "version_major": 2,
       "version_minor": 0
      },
      "text/plain": [
       "NGLWidget()"
      ]
     },
     "metadata": {},
     "output_type": "display_data"
    }
   ],
   "source": [
    "view = show_structure(pdb_file_path, colorings[\"is_connected\"])\n",
    "view"
   ]
  },
  {
   "cell_type": "code",
   "execution_count": 57,
   "metadata": {},
   "outputs": [
    {
     "data": {
      "application/vnd.jupyter.widget-view+json": {
       "model_id": "60cf47ce48fe409eb1661f98b2b78835",
       "version_major": 2,
       "version_minor": 0
      },
      "text/plain": [
       "NGLWidget()"
      ]
     },
     "metadata": {},
     "output_type": "display_data"
    }
   ],
   "source": [
    "view = show_structure(pdb_file_path, colorings[\"is_close_to_as\"])\n",
    "view"
   ]
  },
  {
   "cell_type": "code",
   "execution_count": 58,
   "metadata": {},
   "outputs": [
    {
     "data": {
      "application/vnd.jupyter.widget-view+json": {
       "model_id": "e07ecc292fd14806a6ef75cb46b0eb6f",
       "version_major": 2,
       "version_minor": 0
      },
      "text/plain": [
       "NGLWidget()"
      ]
     },
     "metadata": {},
     "output_type": "display_data"
    }
   ],
   "source": [
    "view = show_structure(pdb_file_path, colorings[\"is_secondary\"])\n",
    "view"
   ]
  },
  {
   "cell_type": "markdown",
   "metadata": {},
   "source": [
    "# BLAT_ECOLX_Firnberg_2014"
   ]
  },
  {
   "cell_type": "code",
   "execution_count": 59,
   "metadata": {},
   "outputs": [],
   "source": [
    "dms_id = \"BLAT_ECOLX_Firnberg_2014\"\n",
    "uniprot_id = gym.reference_information.loc[gym.reference_information[\"DMS_id\"] == dms_id, \"UniProt_ID\"].values[0]\n",
    "active_site = gym.reference_information.loc[\n",
    "    gym.reference_information[\"DMS_id\"] == dms_id, \"active_site\"\n",
    "].map(lambda x: [int(pos) for pos in x.split(\"-\")]).values[0]\n",
    "data_dir = DATA_ROOT / f\"{dms_id}\"\n",
    "data_dir.mkdir(parents=True, exist_ok=True)\n",
    "data = gym.prepare_dataset(dms_id)\n",
    "data.to_csv(data_dir / \"data.csv\")"
   ]
  },
  {
   "cell_type": "code",
   "execution_count": 60,
   "metadata": {},
   "outputs": [
    {
     "name": "stderr",
     "output_type": "stream",
     "text": [
      "@> 2224 atoms and 1 coordinate set(s) were parsed in 0.01s.\n"
     ]
    }
   ],
   "source": [
    "pdb_id = \"1ZG4\"\n",
    "pdb_file_path = data_dir / f\"{pdb_id}.pdb\"\n",
    "download_pdb(pdb_id, data_dir)\n",
    "sc = StructuralCharacterizer(str(pdb_file_path), active_site_residues=active_site)\n",
    "sc.residue_characteristics.to_csv(data_dir / \"structural_characteristics.csv\")"
   ]
  },
  {
   "cell_type": "markdown",
   "metadata": {},
   "source": [
    "# BLAT_ECOLX_Stiffler_2015"
   ]
  },
  {
   "cell_type": "code",
   "execution_count": 61,
   "metadata": {},
   "outputs": [],
   "source": [
    "dms_id = \"BLAT_ECOLX_Stiffler_2015\"\n",
    "uniprot_id = gym.reference_information.loc[gym.reference_information[\"DMS_id\"] == dms_id, \"UniProt_ID\"].values[0]\n",
    "active_site = gym.reference_information.loc[\n",
    "    gym.reference_information[\"DMS_id\"] == dms_id, \"active_site\"\n",
    "].map(lambda x: [int(pos) for pos in x.split(\"-\")]).values[0]\n",
    "data_dir = DATA_ROOT / f\"{dms_id}\"\n",
    "data_dir.mkdir(parents=True, exist_ok=True)\n",
    "data = gym.prepare_dataset(dms_id)\n",
    "data.to_csv(data_dir / \"data.csv\")"
   ]
  },
  {
   "cell_type": "code",
   "execution_count": 62,
   "metadata": {},
   "outputs": [
    {
     "name": "stderr",
     "output_type": "stream",
     "text": [
      "@> 2224 atoms and 1 coordinate set(s) were parsed in 0.01s.\n"
     ]
    }
   ],
   "source": [
    "pdb_id = \"1ZG4\"\n",
    "pdb_file_path = data_dir / f\"{pdb_id}.pdb\"\n",
    "download_pdb(pdb_id, data_dir)\n",
    "sc = StructuralCharacterizer(str(pdb_file_path), active_site_residues=active_site)\n",
    "sc.residue_characteristics.to_csv(data_dir / \"structural_characteristics.csv\")"
   ]
  },
  {
   "cell_type": "markdown",
   "metadata": {},
   "source": [
    "# CASP3_HUMAN_Roychowdhury_2020"
   ]
  },
  {
   "cell_type": "code",
   "execution_count": 64,
   "metadata": {},
   "outputs": [
    {
     "data": {
      "text/plain": [
       "['DR   PDB; 1CP3; X-ray; 2.30 A; A/B=1-277.',\n",
       " 'DR   PDB; 1GFW; X-ray; 2.80 A; A=29-175, B=181-277.',\n",
       " 'DR   PDB; 1I3O; X-ray; 2.70 A; A/C=1-175, B/D=176-277.',\n",
       " 'DR   PDB; 1NME; X-ray; 1.60 A; A=29-174, B=186-277.',\n",
       " 'DR   PDB; 1NMQ; X-ray; 2.40 A; A/B=29-277.',\n",
       " 'DR   PDB; 1NMS; X-ray; 1.70 A; A/B=29-277.',\n",
       " 'DR   PDB; 1PAU; X-ray; 2.50 A; A=29-175, B=176-277.',\n",
       " 'DR   PDB; 1QX3; X-ray; 1.90 A; A=29-277.',\n",
       " 'DR   PDB; 1RE1; X-ray; 2.50 A; A=29-175, B=176-277.',\n",
       " 'DR   PDB; 1RHJ; X-ray; 2.20 A; A/C=29-175, B/D=176-277.',\n",
       " 'DR   PDB; 1RHK; X-ray; 2.50 A; A=29-175, B=176-277.',\n",
       " 'DR   PDB; 1RHM; X-ray; 2.50 A; A/C=29-175, B/D=176-277.',\n",
       " 'DR   PDB; 1RHQ; X-ray; 3.00 A; A/D=29-175, B/E=176-277.',\n",
       " 'DR   PDB; 1RHR; X-ray; 3.00 A; A=29-175, B=176-277.',\n",
       " 'DR   PDB; 1RHU; X-ray; 2.51 A; A=29-175, B=176-277.',\n",
       " 'DR   PDB; 2C1E; X-ray; 1.77 A; A=29-175, B=176-277.',\n",
       " 'DR   PDB; 2C2K; X-ray; 1.87 A; A=29-175, B=176-277.',\n",
       " 'DR   PDB; 2C2M; X-ray; 1.94 A; A=29-175, B=176-277.',\n",
       " 'DR   PDB; 2C2O; X-ray; 2.45 A; A=29-175, B=176-277.',\n",
       " 'DR   PDB; 2CDR; X-ray; 1.70 A; A=29-175, B=176-277.',\n",
       " 'DR   PDB; 2CJX; X-ray; 1.70 A; A=29-175, B=176-277.',\n",
       " 'DR   PDB; 2CJY; X-ray; 1.67 A; A=29-175, B=176-277.',\n",
       " 'DR   PDB; 2CNK; X-ray; 1.75 A; A=29-175, B=176-277.',\n",
       " 'DR   PDB; 2CNL; X-ray; 1.67 A; A=29-175, B=176-277.',\n",
       " 'DR   PDB; 2CNN; X-ray; 1.70 A; A=29-175, B=176-277.',\n",
       " 'DR   PDB; 2CNO; X-ray; 1.95 A; A=29-175, B=176-277.',\n",
       " 'DR   PDB; 2DKO; X-ray; 1.06 A; A=29-174, B=175-277.',\n",
       " 'DR   PDB; 2H5I; X-ray; 1.69 A; A=29-174, B=184-277.',\n",
       " 'DR   PDB; 2H5J; X-ray; 2.00 A; A/C=29-174, B/D=184-277.',\n",
       " 'DR   PDB; 2H65; X-ray; 2.30 A; A/C=29-174, B/D=184-277.',\n",
       " 'DR   PDB; 2J30; X-ray; 1.40 A; A=29-277.',\n",
       " 'DR   PDB; 2J31; X-ray; 1.50 A; A=29-277.',\n",
       " 'DR   PDB; 2J32; X-ray; 1.30 A; A=29-277.',\n",
       " 'DR   PDB; 2J33; X-ray; 2.00 A; A=29-277.',\n",
       " 'DR   PDB; 2XYG; X-ray; 1.54 A; A=29-174, B=185-277.',\n",
       " 'DR   PDB; 2XYH; X-ray; 1.89 A; A=29-174, B=185-277.',\n",
       " 'DR   PDB; 2XYP; X-ray; 1.86 A; A=29-174, B=185-277.',\n",
       " 'DR   PDB; 2XZD; X-ray; 2.10 A; A/C=27-175, B/D=176-277.',\n",
       " 'DR   PDB; 2XZT; X-ray; 2.70 A; A/C=29-175, B/D=176-277.',\n",
       " 'DR   PDB; 2Y0B; X-ray; 2.10 A; A/C=29-175, B/D=176-277.',\n",
       " 'DR   PDB; 3DEH; X-ray; 2.50 A; A/B/C/D=29-277.',\n",
       " 'DR   PDB; 3DEI; X-ray; 2.80 A; A/B/C/D=29-277.',\n",
       " 'DR   PDB; 3DEJ; X-ray; 2.60 A; A/B/C/D=29-277.',\n",
       " 'DR   PDB; 3DEK; X-ray; 2.40 A; A/B/C/D=29-277.',\n",
       " 'DR   PDB; 3EDQ; X-ray; 1.61 A; A/C=29-175, B/D=176-277.',\n",
       " 'DR   PDB; 3GJQ; X-ray; 2.60 A; A/C=29-175, B/D=176-277.',\n",
       " 'DR   PDB; 3GJR; X-ray; 2.20 A; A/C=29-175, B/D=176-277.',\n",
       " 'DR   PDB; 3GJS; X-ray; 1.90 A; A/C=29-175, B/D=176-277.',\n",
       " 'DR   PDB; 3GJT; X-ray; 2.20 A; A/C=29-175, B/D=176-277.',\n",
       " 'DR   PDB; 3H0E; X-ray; 2.00 A; A/B=29-277.',\n",
       " 'DR   PDB; 3ITN; X-ray; 1.63 A; A=29-277.',\n",
       " 'DR   PDB; 3KJF; X-ray; 2.00 A; A=29-175, B=176-277.',\n",
       " 'DR   PDB; 3PCX; X-ray; 1.50 A; A=29-277.',\n",
       " 'DR   PDB; 3PD0; X-ray; 2.00 A; A=29-277.',\n",
       " 'DR   PDB; 3PD1; X-ray; 1.62 A; A=29-277.',\n",
       " 'DR   PDB; 4DCJ; X-ray; 1.70 A; A/D=29-175, B/E=176-277.',\n",
       " 'DR   PDB; 4DCO; X-ray; 1.70 A; A/D=29-175, B/E=176-277.',\n",
       " 'DR   PDB; 4DCP; X-ray; 1.70 A; A/D=29-175, B/E=176-277.',\n",
       " 'DR   PDB; 4EHA; X-ray; 1.70 A; A/C=1-277.',\n",
       " 'DR   PDB; 4EHD; X-ray; 1.58 A; A=1-277.',\n",
       " 'DR   PDB; 4EHF; X-ray; 1.66 A; A=1-277.',\n",
       " 'DR   PDB; 4EHH; X-ray; 1.78 A; A=1-277.',\n",
       " 'DR   PDB; 4EHK; X-ray; 1.67 A; A/C=1-277.',\n",
       " 'DR   PDB; 4EHL; X-ray; 1.80 A; A/C=1-277.',\n",
       " 'DR   PDB; 4EHN; X-ray; 1.69 A; A=1-277.',\n",
       " 'DR   PDB; 4JJE; X-ray; 1.48 A; A=29-277.',\n",
       " 'DR   PDB; 4JQY; X-ray; 2.50 A; A/B=34-277.',\n",
       " 'DR   PDB; 4JQZ; X-ray; 2.89 A; A/B=34-277.',\n",
       " 'DR   PDB; 4JR0; X-ray; 1.80 A; A/B=34-277.',\n",
       " 'DR   PDB; 4PRY; X-ray; 1.70 A; A=1-277.',\n",
       " 'DR   PDB; 4PS0; X-ray; 1.63 A; A/B=1-277.',\n",
       " 'DR   PDB; 4QTX; X-ray; 1.97 A; A=1-277.',\n",
       " 'DR   PDB; 4QTY; X-ray; 1.60 A; A=29-277.',\n",
       " 'DR   PDB; 4QU0; X-ray; 1.95 A; A=1-277.',\n",
       " 'DR   PDB; 4QU5; X-ray; 1.91 A; A=1-277.',\n",
       " 'DR   PDB; 4QU8; X-ray; 1.72 A; A=1-277.',\n",
       " 'DR   PDB; 4QU9; X-ray; 1.56 A; A=1-277.',\n",
       " 'DR   PDB; 4QUA; X-ray; 1.89 A; A=1-277.',\n",
       " 'DR   PDB; 4QUB; X-ray; 1.69 A; A=1-277.',\n",
       " 'DR   PDB; 4QUD; X-ray; 2.00 A; A/B=1-277.',\n",
       " 'DR   PDB; 4QUE; X-ray; 1.84 A; A/C=1-277.',\n",
       " 'DR   PDB; 4QUG; X-ray; 1.92 A; A/C=1-277.',\n",
       " 'DR   PDB; 4QUH; X-ray; 1.76 A; A/C=1-277.',\n",
       " 'DR   PDB; 4QUI; X-ray; 1.76 A; A/B=1-277.',\n",
       " 'DR   PDB; 4QUJ; X-ray; 1.50 A; A=1-277.',\n",
       " 'DR   PDB; 4QUL; X-ray; 1.90 A; A/C=1-277.',\n",
       " 'DR   PDB; 5I9B; X-ray; 1.80 A; A=1-277.',\n",
       " 'DR   PDB; 5I9T; X-ray; 1.95 A; A/C=1-277.',\n",
       " 'DR   PDB; 5IAB; X-ray; 1.79 A; A/C=1-277.',\n",
       " 'DR   PDB; 5IAE; X-ray; 1.55 A; A/C=1-277.',\n",
       " 'DR   PDB; 5IAG; X-ray; 1.98 A; A=1-277.',\n",
       " 'DR   PDB; 5IAJ; X-ray; 1.58 A; A=1-277.',\n",
       " 'DR   PDB; 5IAK; X-ray; 1.82 A; A=1-277.',\n",
       " 'DR   PDB; 5IAN; X-ray; 2.70 A; A=1-277.',\n",
       " 'DR   PDB; 5IAR; X-ray; 1.76 A; A=1-277.',\n",
       " 'DR   PDB; 5IAS; X-ray; 1.54 A; A=1-277.',\n",
       " 'DR   PDB; 5IBC; X-ray; 1.66 A; A=1-277.',\n",
       " 'DR   PDB; 5IBP; X-ray; 1.38 A; A=1-277.',\n",
       " 'DR   PDB; 5IBR; X-ray; 1.74 A; A/C=1-277.',\n",
       " 'DR   PDB; 5IC4; X-ray; 2.65 A; A/C/E/G=1-175, B/D/F/H=176-276.',\n",
       " 'DR   PDB; 7XN4; EM; 3.35 A; A/C=1-277.',\n",
       " 'DR   PDB; 7XN5; EM; 3.18 A; A/C=1-277.',\n",
       " 'DR   PDB; 7XN6; EM; 3.45 A; A/C=1-277.']"
      ]
     },
     "execution_count": 64,
     "metadata": {},
     "output_type": "execute_result"
    }
   ],
   "source": [
    "dms_id = \"CASP3_HUMAN_Roychowdhury_2020\"\n",
    "uniprot_id = gym.reference_information.loc[gym.reference_information[\"DMS_id\"] == dms_id, \"UniProt_ID\"].values[0]\n",
    "active_site = gym.reference_information.loc[\n",
    "    gym.reference_information[\"DMS_id\"] == dms_id, \"active_site\"\n",
    "].map(lambda x: [int(pos) for pos in x.split(\"-\")]).values[0]\n",
    "data_dir = DATA_ROOT / f\"{dms_id}\"\n",
    "data_dir.mkdir(parents=True, exist_ok=True)\n",
    "data = gym.prepare_dataset(dms_id)\n",
    "data.to_csv(data_dir / \"data.csv\")\n",
    "gym.available_pdbs[uniprot_id]"
   ]
  },
  {
   "cell_type": "code",
   "execution_count": 65,
   "metadata": {},
   "outputs": [
    {
     "name": "stderr",
     "output_type": "stream",
     "text": [
      "@> 2209 atoms and 1 coordinate set(s) were parsed in 0.01s.\n"
     ]
    }
   ],
   "source": [
    "pdb_id = \"4EHD\"\n",
    "pdb_file_path = data_dir / f\"{pdb_id}.pdb\"\n",
    "download_pdb(pdb_id, data_dir)\n",
    "sc = StructuralCharacterizer(str(pdb_file_path), active_site_residues=active_site)\n",
    "sc.residue_characteristics.to_csv(data_dir / \"structural_characteristics.csv\")\n",
    "colorings = get_ngl_colorings(sc.residue_characteristics, color_map)"
   ]
  },
  {
   "cell_type": "code",
   "execution_count": 67,
   "metadata": {},
   "outputs": [
    {
     "data": {
      "application/vnd.jupyter.widget-view+json": {
       "model_id": "302b38cdd4a744fbbea10047037dcc63",
       "version_major": 2,
       "version_minor": 0
      },
      "text/plain": [
       "NGLWidget()"
      ]
     },
     "metadata": {},
     "output_type": "display_data"
    }
   ],
   "source": [
    "view = show_structure(pdb_file_path, colorings[\"is_buried\"])\n",
    "view"
   ]
  },
  {
   "cell_type": "code",
   "execution_count": 68,
   "metadata": {},
   "outputs": [
    {
     "data": {
      "application/vnd.jupyter.widget-view+json": {
       "model_id": "f2b35ffceb7a45fcb01e2816a95e09f9",
       "version_major": 2,
       "version_minor": 0
      },
      "text/plain": [
       "NGLWidget()"
      ]
     },
     "metadata": {},
     "output_type": "display_data"
    }
   ],
   "source": [
    "view = show_structure(pdb_file_path, colorings[\"is_connected\"])\n",
    "view"
   ]
  },
  {
   "cell_type": "code",
   "execution_count": 69,
   "metadata": {},
   "outputs": [
    {
     "data": {
      "application/vnd.jupyter.widget-view+json": {
       "model_id": "b4884e020bb540f597d9100f8b26c73c",
       "version_major": 2,
       "version_minor": 0
      },
      "text/plain": [
       "NGLWidget()"
      ]
     },
     "metadata": {},
     "output_type": "display_data"
    }
   ],
   "source": [
    "view = show_structure(pdb_file_path, colorings[\"is_close_to_as\"])\n",
    "view"
   ]
  },
  {
   "cell_type": "code",
   "execution_count": 70,
   "metadata": {},
   "outputs": [
    {
     "data": {
      "application/vnd.jupyter.widget-view+json": {
       "model_id": "8b59ae3ad2b94e5cb47238c11a7944b3",
       "version_major": 2,
       "version_minor": 0
      },
      "text/plain": [
       "NGLWidget()"
      ]
     },
     "metadata": {},
     "output_type": "display_data"
    }
   ],
   "source": [
    "view = show_structure(pdb_file_path, colorings[\"is_secondary\"])\n",
    "view"
   ]
  },
  {
   "cell_type": "markdown",
   "metadata": {},
   "source": [
    "# MK01_HUMAN_Brenan_2016"
   ]
  },
  {
   "cell_type": "code",
   "execution_count": 71,
   "metadata": {},
   "outputs": [
    {
     "data": {
      "text/plain": [
       "['DR   PDB; 1PME; X-ray; 2.00 A; A=1-360.',\n",
       " 'DR   PDB; 1TVO; X-ray; 2.50 A; A=1-360.',\n",
       " 'DR   PDB; 1WZY; X-ray; 2.50 A; A=1-360.',\n",
       " 'DR   PDB; 2OJG; X-ray; 2.00 A; A=2-360.',\n",
       " 'DR   PDB; 2OJI; X-ray; 2.60 A; A=2-360.',\n",
       " 'DR   PDB; 2OJJ; X-ray; 2.40 A; A=2-360.',\n",
       " 'DR   PDB; 2Y9Q; X-ray; 1.55 A; A=1-360.',\n",
       " 'DR   PDB; 3D42; X-ray; 2.46 A; B=184-191.',\n",
       " 'DR   PDB; 3D44; X-ray; 1.90 A; B=184-191.',\n",
       " 'DR   PDB; 3I5Z; X-ray; 2.20 A; A=1-360.',\n",
       " 'DR   PDB; 3I60; X-ray; 2.50 A; A=1-360.',\n",
       " 'DR   PDB; 3SA0; X-ray; 1.59 A; A=1-360.',\n",
       " 'DR   PDB; 3TEI; X-ray; 2.40 A; A=1-360.',\n",
       " 'DR   PDB; 3W55; X-ray; 3.00 A; A=1-360.',\n",
       " 'DR   PDB; 4FMQ; X-ray; 2.10 A; A=1-360.',\n",
       " 'DR   PDB; 4FUX; X-ray; 2.20 A; A=1-360.',\n",
       " 'DR   PDB; 4FUY; X-ray; 2.00 A; A=1-360.',\n",
       " 'DR   PDB; 4FV0; X-ray; 2.10 A; A=1-360.',\n",
       " 'DR   PDB; 4FV1; X-ray; 1.99 A; A=1-360.',\n",
       " 'DR   PDB; 4FV2; X-ray; 2.00 A; A=1-360.',\n",
       " 'DR   PDB; 4FV3; X-ray; 2.20 A; A=1-360.',\n",
       " 'DR   PDB; 4FV4; X-ray; 2.50 A; A=1-360.',\n",
       " 'DR   PDB; 4FV5; X-ray; 2.40 A; A=1-360.',\n",
       " 'DR   PDB; 4FV6; X-ray; 2.50 A; A=1-360.',\n",
       " 'DR   PDB; 4FV7; X-ray; 1.90 A; A=1-360.',\n",
       " 'DR   PDB; 4FV8; X-ray; 2.00 A; A=1-360.',\n",
       " 'DR   PDB; 4FV9; X-ray; 2.11 A; A=1-360.',\n",
       " 'DR   PDB; 4G6N; X-ray; 2.00 A; A=1-360.',\n",
       " 'DR   PDB; 4G6O; X-ray; 2.20 A; A=1-360.',\n",
       " 'DR   PDB; 4H3P; X-ray; 2.30 A; A/D=1-360.',\n",
       " 'DR   PDB; 4H3Q; X-ray; 2.20 A; A=1-360.',\n",
       " 'DR   PDB; 4IZ5; X-ray; 3.19 A; A/B/C/D=8-360.',\n",
       " 'DR   PDB; 4IZ7; X-ray; 1.80 A; A/C=8-360.',\n",
       " 'DR   PDB; 4IZA; X-ray; 1.93 A; A/C=8-360.',\n",
       " 'DR   PDB; 4N0S; X-ray; 1.80 A; A=1-360.',\n",
       " 'DR   PDB; 4NIF; X-ray; 2.15 A; B/E=1-360.',\n",
       " 'DR   PDB; 4O6E; X-ray; 1.95 A; A=13-360.',\n",
       " 'DR   PDB; 4QP1; X-ray; 2.70 A; A/B=1-360.',\n",
       " 'DR   PDB; 4QP2; X-ray; 2.23 A; A/B=1-360.',\n",
       " 'DR   PDB; 4QP3; X-ray; 2.60 A; A/B=1-360.',\n",
       " 'DR   PDB; 4QP4; X-ray; 2.20 A; A/B=1-360.',\n",
       " 'DR   PDB; 4QP6; X-ray; 3.10 A; A/B=1-360.',\n",
       " 'DR   PDB; 4QP7; X-ray; 2.25 A; A/B=1-360.',\n",
       " 'DR   PDB; 4QP8; X-ray; 2.45 A; A/B=1-360.',\n",
       " 'DR   PDB; 4QP9; X-ray; 2.00 A; A=1-360.',\n",
       " 'DR   PDB; 4QPA; X-ray; 2.85 A; A/B=1-360.',\n",
       " 'DR   PDB; 4QTA; X-ray; 1.45 A; A=1-360.',\n",
       " 'DR   PDB; 4QTE; X-ray; 1.50 A; A=1-360.',\n",
       " 'DR   PDB; 4XJ0; X-ray; 2.58 A; A/B=12-360.',\n",
       " 'DR   PDB; 4ZXT; X-ray; 2.00 A; A=1-360.',\n",
       " 'DR   PDB; 4ZZM; X-ray; 1.89 A; A=11-360.',\n",
       " 'DR   PDB; 4ZZN; X-ray; 1.33 A; A=11-360.',\n",
       " 'DR   PDB; 4ZZO; X-ray; 1.63 A; A=11-360.',\n",
       " 'DR   PDB; 5AX3; X-ray; 2.98 A; A=1-360.',\n",
       " 'DR   PDB; 5BUE; X-ray; 2.40 A; A=2-360.',\n",
       " 'DR   PDB; 5BUI; X-ray; 2.12 A; A=2-360.',\n",
       " 'DR   PDB; 5BUJ; X-ray; 1.85 A; A=2-360.',\n",
       " 'DR   PDB; 5BVD; X-ray; 1.90 A; A=2-360.',\n",
       " 'DR   PDB; 5BVE; X-ray; 2.00 A; A=2-360.',\n",
       " 'DR   PDB; 5BVF; X-ray; 1.90 A; A=2-360.',\n",
       " 'DR   PDB; 5K4I; X-ray; 1.76 A; A=9-360.',\n",
       " 'DR   PDB; 5LCJ; X-ray; 1.78 A; A=1-360.',\n",
       " 'DR   PDB; 5LCK; X-ray; 1.89 A; A=1-360.',\n",
       " 'DR   PDB; 5NGU; X-ray; 2.74 A; A=1-360.',\n",
       " 'DR   PDB; 5NHF; X-ray; 2.14 A; A=1-360.',\n",
       " 'DR   PDB; 5NHH; X-ray; 1.94 A; A=1-360.',\n",
       " 'DR   PDB; 5NHJ; X-ray; 2.12 A; A=1-360.',\n",
       " 'DR   PDB; 5NHL; X-ray; 2.07 A; A=1-360.',\n",
       " 'DR   PDB; 5NHO; X-ray; 2.24 A; A=1-360.',\n",
       " 'DR   PDB; 5NHP; X-ray; 1.99 A; A=1-360.',\n",
       " 'DR   PDB; 5NHV; X-ray; 2.00 A; A=1-360.',\n",
       " 'DR   PDB; 5V60; X-ray; 2.18 A; A=8-360.',\n",
       " 'DR   PDB; 5V61; X-ray; 2.20 A; A=8-360.',\n",
       " 'DR   PDB; 5V62; X-ray; 1.90 A; A=10-360.',\n",
       " 'DR   PDB; 5WP1; X-ray; 1.40 A; A=4-360.',\n",
       " 'DR   PDB; 6D5Y; X-ray; 2.86 A; A=13-360.',\n",
       " 'DR   PDB; 6DMG; X-ray; 2.20 A; A=11-357.',\n",
       " 'DR   PDB; 6G54; X-ray; 2.05 A; A=1-360.',\n",
       " 'DR   PDB; 6G8X; X-ray; 1.76 A; A=1-360.',\n",
       " 'DR   PDB; 6G91; X-ray; 1.80 A; A=1-360.',\n",
       " 'DR   PDB; 6G92; X-ray; 1.99 A; A=1-360.',\n",
       " 'DR   PDB; 6G93; X-ray; 1.67 A; A=1-360.',\n",
       " 'DR   PDB; 6G97; X-ray; 1.90 A; A=1-360.',\n",
       " 'DR   PDB; 6G9A; X-ray; 1.91 A; A=1-360.',\n",
       " 'DR   PDB; 6G9D; X-ray; 1.80 A; A=1-360.',\n",
       " 'DR   PDB; 6G9H; X-ray; 1.73 A; A=1-360.',\n",
       " 'DR   PDB; 6G9J; X-ray; 1.98 A; A=1-360.',\n",
       " 'DR   PDB; 6G9K; X-ray; 1.94 A; A=1-360.',\n",
       " 'DR   PDB; 6G9M; X-ray; 1.86 A; A=1-360.',\n",
       " 'DR   PDB; 6G9N; X-ray; 1.76 A; A=1-360.',\n",
       " 'DR   PDB; 6GDM; X-ray; 1.91 A; A=1-360.',\n",
       " 'DR   PDB; 6GDQ; X-ray; 1.86 A; A=1-360.',\n",
       " 'DR   PDB; 6GE0; X-ray; 1.82 A; A=1-360.',\n",
       " 'DR   PDB; 6GJB; X-ray; 1.82 A; A=1-360.',\n",
       " 'DR   PDB; 6GJD; X-ray; 1.58 A; A=1-360.',\n",
       " 'DR   PDB; 6NBS; X-ray; 1.90 A; A=9-360.',\n",
       " 'DR   PDB; 6OPG; X-ray; 2.90 A; A=8-360.',\n",
       " 'DR   PDB; 6OPH; X-ray; 2.40 A; A=8-360.',\n",
       " 'DR   PDB; 6OPI; X-ray; 3.00 A; A=8-360.',\n",
       " 'DR   PDB; 6Q7K; X-ray; 1.84 A; A=1-360.',\n",
       " 'DR   PDB; 6Q7S; X-ray; 1.73 A; A=1-360.',\n",
       " 'DR   PDB; 6Q7T; X-ray; 1.60 A; A=1-360.',\n",
       " 'DR   PDB; 6QA1; X-ray; 1.58 A; A=1-360.',\n",
       " 'DR   PDB; 6QA3; X-ray; 1.57 A; A=1-360.',\n",
       " 'DR   PDB; 6QA4; X-ray; 1.60 A; A=1-360.',\n",
       " 'DR   PDB; 6QAG; X-ray; 2.07 A; A=1-360.',\n",
       " 'DR   PDB; 6QAH; X-ray; 1.58 A; A=1-360.',\n",
       " 'DR   PDB; 6QAL; X-ray; 1.57 A; A=1-360.',\n",
       " 'DR   PDB; 6QAQ; X-ray; 1.58 A; A=1-360.',\n",
       " 'DR   PDB; 6QAW; X-ray; 1.84 A; A=1-360.',\n",
       " 'DR   PDB; 6RQ4; X-ray; 1.96 A; A=1-360.',\n",
       " 'DR   PDB; 6SLG; X-ray; 1.33 A; A=1-360.',\n",
       " 'DR   PDB; 7AUV; X-ray; 1.76 A; A=1-360.',\n",
       " 'DR   PDB; 7E73; X-ray; 2.28 A; A=1-360.',\n",
       " 'DR   PDB; 7E75; X-ray; 2.48 A; A=1-360.',\n",
       " 'DR   PDB; 7NQQ; X-ray; 1.94 A; A=1-360.',\n",
       " 'DR   PDB; 7NQW; X-ray; 1.77 A; A=1-360.',\n",
       " 'DR   PDB; 7NR3; X-ray; 1.90 A; A=1-360.',\n",
       " 'DR   PDB; 7NR5; X-ray; 1.77 A; A=1-360.',\n",
       " 'DR   PDB; 7NR8; X-ray; 1.63 A; A=1-360.',\n",
       " 'DR   PDB; 7NR9; X-ray; 1.91 A; A=1-360.',\n",
       " 'DR   PDB; 7OPM; X-ray; 2.45 A; A=1-360.',\n",
       " 'DR   PDB; 7W5O; X-ray; 2.35 A; A/B=1-360.',\n",
       " 'DR   PDB; 7X4U; X-ray; 1.98 A; A=1-360.',\n",
       " 'DR   PDB; 7XC1; X-ray; 2.09 A; A/B=1-360.',\n",
       " 'DR   PDB; 8AO2; X-ray; 1.80 A; A=1-360.',\n",
       " 'DR   PDB; 8AO3; X-ray; 1.78 A; A=1-360.',\n",
       " 'DR   PDB; 8AO4; X-ray; 1.82 A; A=1-360.',\n",
       " 'DR   PDB; 8AO5; X-ray; 1.59 A; A=1-360.',\n",
       " 'DR   PDB; 8AO6; X-ray; 1.81 A; A=1-360.',\n",
       " 'DR   PDB; 8AO7; X-ray; 1.61 A; A=1-360.',\n",
       " 'DR   PDB; 8AO8; X-ray; 1.70 A; A=1-360.',\n",
       " 'DR   PDB; 8AO9; X-ray; 1.62 A; A=1-360.',\n",
       " 'DR   PDB; 8AOA; X-ray; 1.62 A; A=1-360.',\n",
       " 'DR   PDB; 8AOB; X-ray; 1.62 A; A=1-360.',\n",
       " 'DR   PDB; 8AOC; X-ray; 1.62 A; A=1-360.',\n",
       " 'DR   PDB; 8AOD; X-ray; 1.62 A; A=1-360.',\n",
       " 'DR   PDB; 8AOE; X-ray; 1.69 A; A=1-360.',\n",
       " 'DR   PDB; 8AOF; X-ray; 1.61 A; A=1-360.',\n",
       " 'DR   PDB; 8AOG; X-ray; 1.60 A; A=1-360.',\n",
       " 'DR   PDB; 8AOH; X-ray; 1.60 A; A=1-360.',\n",
       " 'DR   PDB; 8AOI; X-ray; 1.60 A; A=1-360.',\n",
       " 'DR   PDB; 8AOJ; X-ray; 1.12 A; A=1-360.']"
      ]
     },
     "execution_count": 71,
     "metadata": {},
     "output_type": "execute_result"
    }
   ],
   "source": [
    "dms_id = \"MK01_HUMAN_Brenan_2016\"\n",
    "uniprot_id = gym.reference_information.loc[gym.reference_information[\"DMS_id\"] == dms_id, \"UniProt_ID\"].values[0]\n",
    "active_site = gym.reference_information.loc[\n",
    "    gym.reference_information[\"DMS_id\"] == dms_id, \"active_site\"\n",
    "].map(lambda x: [int(pos) for pos in x.split(\"-\")]).values[0]\n",
    "data_dir = DATA_ROOT / f\"{dms_id}\"\n",
    "data_dir.mkdir(parents=True, exist_ok=True)\n",
    "data = gym.prepare_dataset(dms_id)\n",
    "data.to_csv(data_dir / \"data.csv\")\n",
    "gym.available_pdbs[uniprot_id]"
   ]
  },
  {
   "cell_type": "code",
   "execution_count": 72,
   "metadata": {},
   "outputs": [
    {
     "name": "stderr",
     "output_type": "stream",
     "text": [
      "@> 2973 atoms and 1 coordinate set(s) were parsed in 0.01s.\n"
     ]
    }
   ],
   "source": [
    "pdb_id = \"1PME\"\n",
    "pdb_file_path = data_dir / f\"{pdb_id}.pdb\"\n",
    "download_pdb(pdb_id, data_dir)\n",
    "sc = StructuralCharacterizer(str(pdb_file_path), active_site_residues=active_site)\n",
    "sc.residue_characteristics.to_csv(data_dir / \"structural_characteristics.csv\")\n",
    "colorings = get_ngl_colorings(sc.residue_characteristics, color_map)"
   ]
  },
  {
   "cell_type": "code",
   "execution_count": 73,
   "metadata": {},
   "outputs": [
    {
     "data": {
      "application/vnd.jupyter.widget-view+json": {
       "model_id": "f9eb600de9f24d50b5548d0cc2a3a53a",
       "version_major": 2,
       "version_minor": 0
      },
      "text/plain": [
       "NGLWidget()"
      ]
     },
     "metadata": {},
     "output_type": "display_data"
    }
   ],
   "source": [
    "view = show_structure(pdb_file_path, colorings[\"is_buried\"])\n",
    "view"
   ]
  },
  {
   "cell_type": "code",
   "execution_count": 74,
   "metadata": {},
   "outputs": [
    {
     "data": {
      "application/vnd.jupyter.widget-view+json": {
       "model_id": "df25e667b4a94ace9e774ba240c2b679",
       "version_major": 2,
       "version_minor": 0
      },
      "text/plain": [
       "NGLWidget()"
      ]
     },
     "metadata": {},
     "output_type": "display_data"
    }
   ],
   "source": [
    "view = show_structure(pdb_file_path, colorings[\"is_connected\"])\n",
    "view"
   ]
  },
  {
   "cell_type": "code",
   "execution_count": 75,
   "metadata": {},
   "outputs": [
    {
     "data": {
      "application/vnd.jupyter.widget-view+json": {
       "model_id": "6ece30c6a523498ea42fc52873a5fa0a",
       "version_major": 2,
       "version_minor": 0
      },
      "text/plain": [
       "NGLWidget()"
      ]
     },
     "metadata": {},
     "output_type": "display_data"
    }
   ],
   "source": [
    "view = show_structure(pdb_file_path, colorings[\"is_close_to_as\"])\n",
    "view"
   ]
  },
  {
   "cell_type": "code",
   "execution_count": 77,
   "metadata": {},
   "outputs": [
    {
     "data": {
      "application/vnd.jupyter.widget-view+json": {
       "model_id": "0622cac83a2d452a896f321753897167",
       "version_major": 2,
       "version_minor": 0
      },
      "text/plain": [
       "NGLWidget()"
      ]
     },
     "metadata": {},
     "output_type": "display_data"
    }
   ],
   "source": [
    "view = show_structure(pdb_file_path, colorings[\"is_secondary\"])\n",
    "view"
   ]
  },
  {
   "cell_type": "markdown",
   "metadata": {},
   "source": [
    "# PTEN_HUMAN_Mighell_2018"
   ]
  },
  {
   "cell_type": "code",
   "execution_count": 78,
   "metadata": {},
   "outputs": [
    {
     "data": {
      "text/plain": [
       "['DR   PDB; 1D5R; X-ray; 2.10 A; A=8-353.',\n",
       " 'DR   PDB; 2KYL; NMR; -; B=391-403.',\n",
       " 'DR   PDB; 4O1V; X-ray; 2.00 A; B=354-368.',\n",
       " 'DR   PDB; 5BUG; X-ray; 2.40 A; A/B/C/D=14-351.',\n",
       " 'DR   PDB; 5BZX; X-ray; 2.50 A; A/B/C/D=14-351.',\n",
       " 'DR   PDB; 5BZZ; X-ray; 2.20 A; A/B/C/D=14-351.',\n",
       " 'DR   PDB; 7JTX; X-ray; 3.23 A; A=7-395.',\n",
       " 'DR   PDB; 7JUK; X-ray; 3.15 A; A=7-353, A=378-390.',\n",
       " 'DR   PDB; 7JUL; X-ray; 2.53 A; A=7-353, A=378-390.',\n",
       " 'DR   PDB; 7JVX; X-ray; 3.20 A; A=1-403.',\n",
       " 'DR   PDB; 7PC7; X-ray; 2.10 A; E/F=394-403.']"
      ]
     },
     "execution_count": 78,
     "metadata": {},
     "output_type": "execute_result"
    }
   ],
   "source": [
    "dms_id = \"PTEN_HUMAN_Mighell_2018\"\n",
    "uniprot_id = gym.reference_information.loc[gym.reference_information[\"DMS_id\"] == dms_id, \"UniProt_ID\"].values[0]\n",
    "active_site = gym.reference_information.loc[\n",
    "    gym.reference_information[\"DMS_id\"] == dms_id, \"active_site\"\n",
    "].map(lambda x: [int(pos) for pos in x.split(\"-\")]).values[0]\n",
    "data_dir = DATA_ROOT / f\"{dms_id}\"\n",
    "data_dir.mkdir(parents=True, exist_ok=True)\n",
    "data = gym.prepare_dataset(dms_id)\n",
    "data.to_csv(data_dir / \"data.csv\")\n",
    "gym.available_pdbs[uniprot_id]"
   ]
  },
  {
   "cell_type": "code",
   "execution_count": 79,
   "metadata": {},
   "outputs": [
    {
     "name": "stderr",
     "output_type": "stream",
     "text": [
      "@> 2639 atoms and 1 coordinate set(s) were parsed in 0.01s.\n"
     ]
    }
   ],
   "source": [
    "pdb_id = \"7JVX\"\n",
    "pdb_file_path = data_dir / f\"{pdb_id}.pdb\"\n",
    "download_pdb(pdb_id, data_dir)\n",
    "sc = StructuralCharacterizer(str(pdb_file_path), active_site_residues=active_site)\n",
    "sc.residue_characteristics.to_csv(data_dir / \"structural_characteristics.csv\")\n",
    "colorings = get_ngl_colorings(sc.residue_characteristics, color_map)"
   ]
  },
  {
   "cell_type": "code",
   "execution_count": 81,
   "metadata": {},
   "outputs": [
    {
     "data": {
      "application/vnd.jupyter.widget-view+json": {
       "model_id": "41c7075df5d749b994cfa86c95e21a60",
       "version_major": 2,
       "version_minor": 0
      },
      "text/plain": [
       "NGLWidget()"
      ]
     },
     "metadata": {},
     "output_type": "display_data"
    }
   ],
   "source": [
    "view = show_structure(pdb_file_path, colorings[\"is_buried\"])\n",
    "view"
   ]
  },
  {
   "cell_type": "code",
   "execution_count": 82,
   "metadata": {},
   "outputs": [
    {
     "data": {
      "application/vnd.jupyter.widget-view+json": {
       "model_id": "e80484620aca4fa48354ed020e5e5d1c",
       "version_major": 2,
       "version_minor": 0
      },
      "text/plain": [
       "NGLWidget()"
      ]
     },
     "metadata": {},
     "output_type": "display_data"
    }
   ],
   "source": [
    "view = show_structure(pdb_file_path, colorings[\"is_connected\"])\n",
    "view"
   ]
  },
  {
   "cell_type": "code",
   "execution_count": 83,
   "metadata": {},
   "outputs": [
    {
     "data": {
      "application/vnd.jupyter.widget-view+json": {
       "model_id": "7576fb5fefe945da98c2611fe7f22cf0",
       "version_major": 2,
       "version_minor": 0
      },
      "text/plain": [
       "NGLWidget()"
      ]
     },
     "metadata": {},
     "output_type": "display_data"
    }
   ],
   "source": [
    "view = show_structure(pdb_file_path, colorings[\"is_close_to_as\"])\n",
    "view"
   ]
  },
  {
   "cell_type": "code",
   "execution_count": 84,
   "metadata": {},
   "outputs": [
    {
     "data": {
      "application/vnd.jupyter.widget-view+json": {
       "model_id": "12f03b3f6e6b452d8e1843c5ffd43d6d",
       "version_major": 2,
       "version_minor": 0
      },
      "text/plain": [
       "NGLWidget()"
      ]
     },
     "metadata": {},
     "output_type": "display_data"
    }
   ],
   "source": [
    "view = show_structure(pdb_file_path, colorings[\"is_secondary\"])\n",
    "view"
   ]
  },
  {
   "cell_type": "markdown",
   "metadata": {},
   "source": [
    "# SRC_HUMAN_Ahler_2019"
   ]
  },
  {
   "cell_type": "code",
   "execution_count": 85,
   "metadata": {},
   "outputs": [
    {
     "data": {
      "text/plain": [
       "['DR   PDB; 1A07; X-ray; 2.20 A; A/B=144-249.',\n",
       " 'DR   PDB; 1A08; X-ray; 2.20 A; A/B=144-249.',\n",
       " 'DR   PDB; 1A09; X-ray; 2.00 A; A/B=144-249.',\n",
       " 'DR   PDB; 1A1A; X-ray; 2.00 A; A/B=144-249.',\n",
       " 'DR   PDB; 1A1B; X-ray; 2.20 A; A/B=144-249.',\n",
       " 'DR   PDB; 1A1C; X-ray; 2.40 A; A/B=144-249.',\n",
       " 'DR   PDB; 1A1E; X-ray; 2.20 A; A/B=144-249.',\n",
       " 'DR   PDB; 1FMK; X-ray; 1.50 A; A=86-536.',\n",
       " 'DR   PDB; 1HCS; NMR; -; B=144-249.',\n",
       " 'DR   PDB; 1HCT; NMR; -; B=144-249.',\n",
       " 'DR   PDB; 1KSW; X-ray; 2.80 A; A=86-536.',\n",
       " 'DR   PDB; 1O41; X-ray; 1.70 A; A=145-252.',\n",
       " 'DR   PDB; 1O42; X-ray; 1.70 A; A=145-252.',\n",
       " 'DR   PDB; 1O43; X-ray; 1.50 A; A=145-252.',\n",
       " 'DR   PDB; 1O44; X-ray; 1.70 A; A=145-252.',\n",
       " 'DR   PDB; 1O45; X-ray; 1.80 A; A=145-252.',\n",
       " 'DR   PDB; 1O46; X-ray; 2.00 A; A=145-252.',\n",
       " 'DR   PDB; 1O47; X-ray; 1.80 A; A=145-252.',\n",
       " 'DR   PDB; 1O48; X-ray; 1.55 A; A=145-252.',\n",
       " 'DR   PDB; 1O49; X-ray; 1.70 A; A=145-252.',\n",
       " 'DR   PDB; 1O4A; X-ray; 1.50 A; A=145-252.',\n",
       " 'DR   PDB; 1O4B; X-ray; 1.85 A; A=145-252.',\n",
       " 'DR   PDB; 1O4C; X-ray; 1.80 A; A=145-252.',\n",
       " 'DR   PDB; 1O4D; X-ray; 1.85 A; A=145-252.',\n",
       " 'DR   PDB; 1O4E; X-ray; 2.00 A; A=145-252.',\n",
       " 'DR   PDB; 1O4F; X-ray; 2.00 A; A=145-252.',\n",
       " 'DR   PDB; 1O4G; X-ray; 1.55 A; A=145-252.',\n",
       " 'DR   PDB; 1O4H; X-ray; 2.25 A; A=145-252.',\n",
       " 'DR   PDB; 1O4I; X-ray; 1.75 A; A=145-252.',\n",
       " 'DR   PDB; 1O4J; X-ray; 1.70 A; A=145-252.',\n",
       " 'DR   PDB; 1O4K; X-ray; 1.57 A; A=145-252.',\n",
       " 'DR   PDB; 1O4L; X-ray; 1.65 A; A=145-252.',\n",
       " 'DR   PDB; 1O4M; X-ray; 1.60 A; A=145-252.',\n",
       " 'DR   PDB; 1O4N; X-ray; 1.60 A; A=145-252.',\n",
       " 'DR   PDB; 1O4O; X-ray; 1.70 A; A=145-252.',\n",
       " 'DR   PDB; 1O4P; X-ray; 1.90 A; A=145-252.',\n",
       " 'DR   PDB; 1O4Q; X-ray; 1.70 A; A=145-252.',\n",
       " 'DR   PDB; 1O4R; X-ray; 1.50 A; A=145-252.',\n",
       " 'DR   PDB; 1SHD; X-ray; 2.00 A; A=144-249.',\n",
       " 'DR   PDB; 1Y57; X-ray; 1.91 A; A=86-536.',\n",
       " 'DR   PDB; 1YI6; X-ray; 2.00 A; A/B=261-536.',\n",
       " 'DR   PDB; 1YOJ; X-ray; 1.95 A; A/B=254-536.',\n",
       " 'DR   PDB; 1YOL; X-ray; 2.30 A; A/B=254-536.',\n",
       " 'DR   PDB; 1YOM; X-ray; 2.90 A; A/B=254-536.',\n",
       " 'DR   PDB; 2BDF; X-ray; 2.10 A; A/B=258-536.',\n",
       " 'DR   PDB; 2BDJ; X-ray; 2.50 A; A=258-536.',\n",
       " 'DR   PDB; 2H8H; X-ray; 2.20 A; A=2-536.',\n",
       " 'DR   PDB; 2SRC; X-ray; 1.50 A; A=86-536.',\n",
       " 'DR   PDB; 3VRO; X-ray; 1.80 A; B=412-424.',\n",
       " 'DR   PDB; 3ZMP; X-ray; 2.62 A; C/D=527-536.',\n",
       " 'DR   PDB; 3ZMQ; X-ray; 3.30 A; C=527-536.',\n",
       " 'DR   PDB; 4F59; X-ray; 1.71 A; A=144-252.',\n",
       " 'DR   PDB; 4F5A; X-ray; 1.80 A; A=144-252.',\n",
       " 'DR   PDB; 4F5B; X-ray; 1.57 A; A=144-252.',\n",
       " 'DR   PDB; 4HXJ; X-ray; 2.00 A; A/B=87-144.',\n",
       " 'DR   PDB; 4K11; X-ray; 2.30 A; A=87-534.',\n",
       " 'DR   PDB; 4MXO; X-ray; 2.10 A; A/B=254-536.',\n",
       " 'DR   PDB; 4MXX; X-ray; 2.60 A; A/B=254-536.',\n",
       " 'DR   PDB; 4MXY; X-ray; 2.58 A; A/B=254-536.',\n",
       " 'DR   PDB; 4MXZ; X-ray; 2.58 A; A/B=254-536.',\n",
       " 'DR   PDB; 6ATE; X-ray; 2.40 A; A=254-536.',\n",
       " 'DR   PDB; 6C4S; X-ray; 1.50 A; A/B=87-144.',\n",
       " 'DR   PDB; 6E6E; X-ray; 2.15 A; A/B/C/D/E/F/G/H=261-536.',\n",
       " 'DR   PDB; 6EHJ; X-ray; 2.10 A; D/F=2-9.',\n",
       " 'DR   PDB; 7NG7; X-ray; 1.50 A; A=254-536.',\n",
       " 'DR   PDB; 7OTE; X-ray; 2.49 A; A/B=254-536.',\n",
       " 'DR   PDB; 7T1U; X-ray; 2.65 A; A/B=147-251.',\n",
       " 'DR   PDB; 7YQE; X-ray; 3.50 A; A/B=85-247.']"
      ]
     },
     "execution_count": 85,
     "metadata": {},
     "output_type": "execute_result"
    }
   ],
   "source": [
    "dms_id = \"SRC_HUMAN_Ahler_2019\"\n",
    "uniprot_id = gym.reference_information.loc[gym.reference_information[\"DMS_id\"] == dms_id, \"UniProt_ID\"].values[0]\n",
    "active_site = gym.reference_information.loc[\n",
    "    gym.reference_information[\"DMS_id\"] == dms_id, \"active_site\"\n",
    "].map(lambda x: [int(pos) for pos in x.split(\"-\")]).values[0]\n",
    "data_dir = DATA_ROOT / f\"{dms_id}\"\n",
    "data_dir.mkdir(parents=True, exist_ok=True)\n",
    "data = gym.prepare_dataset(dms_id)\n",
    "data.to_csv(data_dir / \"data.csv\")\n",
    "gym.available_pdbs[uniprot_id]"
   ]
  },
  {
   "cell_type": "code",
   "execution_count": 86,
   "metadata": {},
   "outputs": [
    {
     "name": "stderr",
     "output_type": "stream",
     "text": [
      "@> 3840 atoms and 1 coordinate set(s) were parsed in 0.02s.\n"
     ]
    }
   ],
   "source": [
    "pdb_id = \"2H8H\"\n",
    "pdb_file_path = data_dir / f\"{pdb_id}.pdb\"\n",
    "download_pdb(pdb_id, data_dir)\n",
    "sc = StructuralCharacterizer(str(pdb_file_path), active_site_residues=active_site)\n",
    "sc.residue_characteristics.to_csv(data_dir / \"structural_characteristics.csv\")\n",
    "colorings = get_ngl_colorings(sc.residue_characteristics, color_map)"
   ]
  },
  {
   "cell_type": "code",
   "execution_count": 87,
   "metadata": {},
   "outputs": [
    {
     "data": {
      "application/vnd.jupyter.widget-view+json": {
       "model_id": "0dc27c9dfe6d44bfbd0e9e2ef7cab7f2",
       "version_major": 2,
       "version_minor": 0
      },
      "text/plain": [
       "NGLWidget()"
      ]
     },
     "metadata": {},
     "output_type": "display_data"
    }
   ],
   "source": [
    "view = show_structure(pdb_file_path, colorings[\"is_buried\"])\n",
    "view"
   ]
  },
  {
   "cell_type": "code",
   "execution_count": 88,
   "metadata": {},
   "outputs": [
    {
     "data": {
      "application/vnd.jupyter.widget-view+json": {
       "model_id": "20b89a9bb5c949cfa3e99d5ba4782272",
       "version_major": 2,
       "version_minor": 0
      },
      "text/plain": [
       "NGLWidget()"
      ]
     },
     "metadata": {},
     "output_type": "display_data"
    }
   ],
   "source": [
    "view = show_structure(pdb_file_path, colorings[\"is_connected\"])\n",
    "view"
   ]
  },
  {
   "cell_type": "code",
   "execution_count": 89,
   "metadata": {},
   "outputs": [
    {
     "data": {
      "application/vnd.jupyter.widget-view+json": {
       "model_id": "1fc0e4e85b344de0861d4bac25d14ed7",
       "version_major": 2,
       "version_minor": 0
      },
      "text/plain": [
       "NGLWidget()"
      ]
     },
     "metadata": {},
     "output_type": "display_data"
    }
   ],
   "source": [
    "view = show_structure(pdb_file_path, colorings[\"is_close_to_as\"])\n",
    "view"
   ]
  },
  {
   "cell_type": "code",
   "execution_count": 90,
   "metadata": {},
   "outputs": [
    {
     "data": {
      "application/vnd.jupyter.widget-view+json": {
       "model_id": "1ee3fcaff0d140088168e134108cd75b",
       "version_major": 2,
       "version_minor": 0
      },
      "text/plain": [
       "NGLWidget()"
      ]
     },
     "metadata": {},
     "output_type": "display_data"
    }
   ],
   "source": [
    "view = show_structure(pdb_file_path, colorings[\"is_secondary\"])\n",
    "view"
   ]
  },
  {
   "cell_type": "markdown",
   "metadata": {},
   "source": [
    "# UBC9_HUMAN_Weile_2017"
   ]
  },
  {
   "cell_type": "code",
   "execution_count": 91,
   "metadata": {},
   "outputs": [
    {
     "data": {
      "text/plain": [
       "['DR   PDB; 1A3S; X-ray; 2.80 A; A=1-158.',\n",
       " 'DR   PDB; 1KPS; X-ray; 2.50 A; A/C=1-158.',\n",
       " 'DR   PDB; 1Z5S; X-ray; 3.01 A; A=1-158.',\n",
       " 'DR   PDB; 2GRN; X-ray; 1.80 A; A=1-158.',\n",
       " 'DR   PDB; 2GRO; X-ray; 1.70 A; A=1-158.',\n",
       " 'DR   PDB; 2GRP; X-ray; 2.05 A; A=1-158.',\n",
       " 'DR   PDB; 2GRQ; X-ray; 1.70 A; A=1-158.',\n",
       " 'DR   PDB; 2GRR; X-ray; 1.30 A; A=1-158.',\n",
       " 'DR   PDB; 2O25; X-ray; 2.60 A; C/D=1-158.',\n",
       " 'DR   PDB; 2PE6; X-ray; 2.40 A; A=1-158.',\n",
       " 'DR   PDB; 2PX9; NMR; -; B=1-158.',\n",
       " 'DR   PDB; 2XWU; X-ray; 2.80 A; A=1-158.',\n",
       " 'DR   PDB; 3A4S; X-ray; 2.70 A; A/B=1-158.',\n",
       " 'DR   PDB; 3UIN; X-ray; 2.60 A; A=1-158.',\n",
       " 'DR   PDB; 3UIO; X-ray; 2.60 A; A=1-158.',\n",
       " 'DR   PDB; 3UIP; X-ray; 2.29 A; A=1-158.',\n",
       " 'DR   PDB; 4W5V; X-ray; 2.50 A; A=1-158.',\n",
       " 'DR   PDB; 4Y1L; X-ray; 2.70 A; A/B=1-158.',\n",
       " 'DR   PDB; 5D2M; X-ray; 2.40 A; A/D=1-158.',\n",
       " 'DR   PDB; 5F6D; X-ray; 1.55 A; A=2-158.',\n",
       " 'DR   PDB; 5F6E; X-ray; 1.12 A; A=2-158.',\n",
       " 'DR   PDB; 5F6U; X-ray; 1.55 A; A=2-158.',\n",
       " 'DR   PDB; 5F6V; X-ray; 1.49 A; A=2-158.',\n",
       " 'DR   PDB; 5F6W; X-ray; 1.70 A; A=2-158.',\n",
       " 'DR   PDB; 5F6X; X-ray; 1.56 A; A=2-158.',\n",
       " 'DR   PDB; 5F6Y; X-ray; 1.14 A; A=2-158.',\n",
       " 'DR   PDB; 5FQ2; X-ray; 2.20 A; A=1-158.',\n",
       " 'DR   PDB; 6SYF; X-ray; 1.90 A; A/B/C/D=2-158.',\n",
       " 'DR   PDB; 8ODR; X-ray; 2.85 A; A=2-158.']"
      ]
     },
     "execution_count": 91,
     "metadata": {},
     "output_type": "execute_result"
    }
   ],
   "source": [
    "dms_id = \"UBC9_HUMAN_Weile_2017\"\n",
    "uniprot_id = gym.reference_information.loc[gym.reference_information[\"DMS_id\"] == dms_id, \"UniProt_ID\"].values[0]\n",
    "active_site = gym.reference_information.loc[\n",
    "    gym.reference_information[\"DMS_id\"] == dms_id, \"active_site\"\n",
    "].map(lambda x: [int(pos) for pos in x.split(\"-\")]).values[0]\n",
    "data_dir = DATA_ROOT / f\"{dms_id}\"\n",
    "data_dir.mkdir(parents=True, exist_ok=True)\n",
    "data = gym.prepare_dataset(dms_id)\n",
    "data.to_csv(data_dir / \"data.csv\")\n",
    "gym.available_pdbs[uniprot_id]"
   ]
  },
  {
   "cell_type": "code",
   "execution_count": 101,
   "metadata": {},
   "outputs": [
    {
     "name": "stderr",
     "output_type": "stream",
     "text": [
      "@> 2797 atoms and 1 coordinate set(s) were parsed in 0.01s.\n"
     ]
    }
   ],
   "source": [
    "pdb_id = \"2GRN\"\n",
    "pdb_file_path = data_dir / f\"{pdb_id}.pdb\"\n",
    "download_pdb(pdb_id, data_dir)\n",
    "sc = StructuralCharacterizer(str(pdb_file_path), active_site_residues=active_site)\n",
    "sc.residue_characteristics.to_csv(data_dir / \"structural_characteristics.csv\")\n",
    "colorings = get_ngl_colorings(sc.residue_characteristics, color_map)"
   ]
  },
  {
   "cell_type": "code",
   "execution_count": 102,
   "metadata": {},
   "outputs": [
    {
     "data": {
      "application/vnd.jupyter.widget-view+json": {
       "model_id": "0abee820fb8a4dcd80f877f1ad7b72ad",
       "version_major": 2,
       "version_minor": 0
      },
      "text/plain": [
       "NGLWidget()"
      ]
     },
     "metadata": {},
     "output_type": "display_data"
    }
   ],
   "source": [
    "view = show_structure(pdb_file_path, colorings[\"is_buried\"])\n",
    "view"
   ]
  },
  {
   "cell_type": "code",
   "execution_count": 103,
   "metadata": {},
   "outputs": [
    {
     "data": {
      "application/vnd.jupyter.widget-view+json": {
       "model_id": "c834f88094434f0cacf4d19cbedbc345",
       "version_major": 2,
       "version_minor": 0
      },
      "text/plain": [
       "NGLWidget()"
      ]
     },
     "metadata": {},
     "output_type": "display_data"
    }
   ],
   "source": [
    "view = show_structure(pdb_file_path, colorings[\"is_connected\"])\n",
    "view"
   ]
  },
  {
   "cell_type": "code",
   "execution_count": 104,
   "metadata": {},
   "outputs": [
    {
     "data": {
      "application/vnd.jupyter.widget-view+json": {
       "model_id": "fa1b422f4754447a80f755771ae46f12",
       "version_major": 2,
       "version_minor": 0
      },
      "text/plain": [
       "NGLWidget()"
      ]
     },
     "metadata": {},
     "output_type": "display_data"
    }
   ],
   "source": [
    "view = show_structure(pdb_file_path, colorings[\"is_close_to_as\"])\n",
    "view"
   ]
  },
  {
   "cell_type": "code",
   "execution_count": 105,
   "metadata": {},
   "outputs": [
    {
     "data": {
      "application/vnd.jupyter.widget-view+json": {
       "model_id": "ace28092c98b4b5cba6db2a768bdebb0",
       "version_major": 2,
       "version_minor": 0
      },
      "text/plain": [
       "NGLWidget()"
      ]
     },
     "metadata": {},
     "output_type": "display_data"
    }
   ],
   "source": [
    "view = show_structure(pdb_file_path, colorings[\"is_secondary\"])\n",
    "view"
   ]
  }
 ],
 "metadata": {
  "kernelspec": {
   "display_name": "Python 3 (ipykernel)",
   "language": "python",
   "name": "python3"
  },
  "language_info": {
   "codemirror_mode": {
    "name": "ipython",
    "version": 3
   },
   "file_extension": ".py",
   "mimetype": "text/x-python",
   "name": "python",
   "nbconvert_exporter": "python",
   "pygments_lexer": "ipython3",
   "version": "3.8.17"
  }
 },
 "nbformat": 4,
 "nbformat_minor": 4
}
