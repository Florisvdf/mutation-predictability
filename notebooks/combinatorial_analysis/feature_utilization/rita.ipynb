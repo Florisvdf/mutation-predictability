{
 "cells": [
  {
   "cell_type": "code",
   "execution_count": 1,
   "metadata": {
    "collapsed": true
   },
   "outputs": [],
   "source": [
    "from pathlib import Path\n",
    "import joblib\n",
    "\n",
    "import pandas as pd\n",
    "import numpy as np\n",
    "from scipy.stats import spearmanr\n",
    "\n",
    "from sklearn.model_selection import KFold\n",
    "\n",
    "from predictability.models import RITARegressor\n",
    "from predictability.constants import PROJECT_ROOT, DATA_ROOT"
   ]
  },
  {
   "cell_type": "code",
   "execution_count": 2,
   "outputs": [],
   "source": [
    "results_dir = Path(PROJECT_ROOT / \"results/AMY_BACSU/feature_utilization/potts\")\n",
    "results_dir.mkdir(exist_ok=True, parents=True)\n",
    "seed = 42"
   ],
   "metadata": {
    "collapsed": false
   }
  },
  {
   "cell_type": "code",
   "execution_count": null,
   "outputs": [],
   "source": [
    "data = pd.read_csv(DATA_ROOT / \"AMY_BACSU/combinatorials.csv\")\n",
    "property = \"stain_activity\""
   ],
   "metadata": {
    "collapsed": false
   }
  },
  {
   "cell_type": "code",
   "execution_count": 3,
   "outputs": [
    {
     "name": "stderr",
     "output_type": "stream",
     "text": [
      "/var/folders/d8/bxgj52rj3w934zctbjr8v2hh0000gn/T/ipykernel_59352/2052589334.py:2: FutureWarning: arrays to stack must be passed as a \"sequence\" type such as list or tuple. Support for non-sequence iterables such as generators is deprecated as of NumPy 1.16 and will raise an error in the future.\n",
      "  embeddings = np.vstack(embeddings.values())\n"
     ]
    }
   ],
   "source": [
    "# Uncomment to generate embeddings\n",
    "#embeddings = rita_model.embed(data)\n",
    "#sequence_embeddings = {sequence: embedding for sequence, embedding in zip(data[\"sequence\"], embeddings)}\n",
    "#joblib.dump(sequence_embeddings, DATA_ROOT / \"AMY_BACSU/combinatorial_sequence_embeddings.joblib\")\n",
    "\n",
    "embeddings = joblib.load(DATA_ROOT / \"AMY_BACSU/combinatorial_sequence_embeddings.joblib\")\n",
    "embeddings = np.vstack(embeddings.values())\n",
    "data[\"embedding_index\"] = np.arange(len(data))"
   ],
   "metadata": {
    "collapsed": false
   }
  },
  {
   "cell_type": "code",
   "execution_count": 4,
   "outputs": [
    {
     "name": "stderr",
     "output_type": "stream",
     "text": [
      "Explicitly passing a `revision` is encouraged when loading a configuration with custom code to ensure no malicious code has been contributed in a newer revision.\n",
      "Explicitly passing a `revision` is encouraged when loading a model with custom code to ensure no malicious code has been contributed in a newer revision.\n"
     ]
    }
   ],
   "source": [
    "rita_model = RITARegressor()"
   ],
   "metadata": {
    "collapsed": false
   }
  },
  {
   "cell_type": "markdown",
   "source": [
    "# Eval on held out bins"
   ],
   "metadata": {
    "collapsed": false
   }
  },
  {
   "cell_type": "code",
   "execution_count": 9,
   "outputs": [
    {
     "name": "stderr",
     "output_type": "stream",
     "text": [
      "2023-06-13 15:37:33.564 | INFO     | unpredictability.models:fit:82 - Fitting ridge\n",
      "2023-06-13 15:37:34.173 | INFO     | unpredictability.models:fit:82 - Fitting ridge\n",
      "2023-06-13 15:37:34.877 | INFO     | unpredictability.models:fit:82 - Fitting ridge\n",
      "2023-06-13 15:37:35.628 | INFO     | unpredictability.models:fit:82 - Fitting ridge\n",
      "2023-06-13 15:37:36.437 | INFO     | unpredictability.models:fit:82 - Fitting ridge\n",
      "2023-06-13 15:37:37.147 | INFO     | unpredictability.models:fit:82 - Fitting ridge\n",
      "2023-06-13 15:37:37.872 | INFO     | unpredictability.models:fit:82 - Fitting ridge\n",
      "2023-06-13 15:37:38.695 | INFO     | unpredictability.models:fit:82 - Fitting ridge\n",
      "2023-06-13 15:37:39.466 | INFO     | unpredictability.models:fit:82 - Fitting ridge\n",
      "2023-06-13 15:37:40.393 | INFO     | unpredictability.models:fit:82 - Fitting ridge\n",
      "2023-06-13 15:37:41.153 | INFO     | unpredictability.models:fit:82 - Fitting ridge\n",
      "2023-06-13 15:37:41.913 | INFO     | unpredictability.models:fit:82 - Fitting ridge\n",
      "2023-06-13 15:37:42.726 | INFO     | unpredictability.models:fit:82 - Fitting ridge\n",
      "2023-06-13 15:37:44.274 | INFO     | unpredictability.models:fit:82 - Fitting ridge\n",
      "2023-06-13 15:37:45.051 | INFO     | unpredictability.models:fit:82 - Fitting ridge\n",
      "2023-06-13 15:37:45.807 | INFO     | unpredictability.models:fit:82 - Fitting ridge\n"
     ]
    }
   ],
   "source": [
    "experiment_results_extrapolate = {\n",
    "    \"n_val_samples\": [],\n",
    "    \"spearman_train\": [],\n",
    "    \"spearman_val\": [],\n",
    "    \"eval\": []\n",
    "}\n",
    "df = data\n",
    "\n",
    "for bin in df[\"bin_label\"].unique():\n",
    "    df[\"split\"] = df[\"bin_label\"].map(lambda x: \"valid\" if x==bin else \"train\")\n",
    "    train_embeddings_indices = df[df[\"split\"] == \"train\"][\"embeding_index\"].values\n",
    "    fold_train_embeddings = embeddings[train_embeddings_indices]\n",
    "    valid_embeddings_indices = df[df[\"split\"] == \"valid\"][\"embeding_index\"].values\n",
    "    fold_valid_embeddings = embeddings[valid_embeddings_indices]\n",
    "    rita_model.fit(df[df[\"split\"] == \"train\"], property, embeddings=fold_train_embeddings)\n",
    "    predictions_train = rita_model.predict(df[df[\"split\"] == \"train\"], embeddings=fold_train_embeddings)\n",
    "    predictions_val = rita_model.predict(df[df[\"split\"] == \"valid\"], embeddings=fold_valid_embeddings)\n",
    "    spearman_train = spearmanr(df[df[\"split\"] == \"train\"][property].values, predictions_train)[0]\n",
    "    spearman_val = spearmanr(df[df[\"split\"] == \"valid\"][property].values, predictions_val)[0]\n",
    "    experiment_results_extrapolate[\"n_val_samples\"].append(len(df[df[\"split\"] == \"valid\"]))\n",
    "    experiment_results_extrapolate[\"spearman_train\"].append(spearman_train)\n",
    "    experiment_results_extrapolate[\"spearman_val\"].append(spearman_val)\n",
    "    experiment_results_extrapolate[\"eval\"] = \"extrapolate\""
   ],
   "metadata": {
    "collapsed": false
   }
  },
  {
   "cell_type": "markdown",
   "source": [
    "# Eval on randomly held out data"
   ],
   "metadata": {
    "collapsed": false
   }
  },
  {
   "cell_type": "code",
   "execution_count": 10,
   "outputs": [
    {
     "name": "stderr",
     "output_type": "stream",
     "text": [
      "2023-06-13 15:37:46.500 | INFO     | unpredictability.models:fit:82 - Fitting ridge\n"
     ]
    },
    {
     "name": "stdout",
     "output_type": "stream",
     "text": [
      "KFold(n_splits=16, random_state=42, shuffle=True)\n"
     ]
    },
    {
     "name": "stderr",
     "output_type": "stream",
     "text": [
      "2023-06-13 15:37:47.232 | INFO     | unpredictability.models:fit:82 - Fitting ridge\n",
      "2023-06-13 15:37:47.970 | INFO     | unpredictability.models:fit:82 - Fitting ridge\n",
      "2023-06-13 15:37:48.734 | INFO     | unpredictability.models:fit:82 - Fitting ridge\n",
      "2023-06-13 15:37:49.550 | INFO     | unpredictability.models:fit:82 - Fitting ridge\n",
      "2023-06-13 15:37:50.285 | INFO     | unpredictability.models:fit:82 - Fitting ridge\n",
      "2023-06-13 15:37:51.082 | INFO     | unpredictability.models:fit:82 - Fitting ridge\n",
      "2023-06-13 15:37:51.831 | INFO     | unpredictability.models:fit:82 - Fitting ridge\n",
      "2023-06-13 15:37:52.593 | INFO     | unpredictability.models:fit:82 - Fitting ridge\n",
      "2023-06-13 15:37:53.313 | INFO     | unpredictability.models:fit:82 - Fitting ridge\n",
      "2023-06-13 15:37:54.039 | INFO     | unpredictability.models:fit:82 - Fitting ridge\n",
      "2023-06-13 15:37:54.804 | INFO     | unpredictability.models:fit:82 - Fitting ridge\n",
      "2023-06-13 15:37:55.561 | INFO     | unpredictability.models:fit:82 - Fitting ridge\n",
      "2023-06-13 15:37:56.297 | INFO     | unpredictability.models:fit:82 - Fitting ridge\n",
      "2023-06-13 15:37:57.033 | INFO     | unpredictability.models:fit:82 - Fitting ridge\n",
      "2023-06-13 15:37:57.712 | INFO     | unpredictability.models:fit:82 - Fitting ridge\n"
     ]
    }
   ],
   "source": [
    "experiment_results_random = {\n",
    "    \"n_val_samples\": [],\n",
    "    \"spearman_train\": [],\n",
    "    \"spearman_val\": [],\n",
    "    \"eval\": []\n",
    "}\n",
    "df = data\n",
    "\n",
    "kfold = KFold(n_splits=16, random_state=42, shuffle=True)\n",
    "kfold.get_n_splits(df)\n",
    "print(kfold)\n",
    "\n",
    "for i, (train_index, val_index) in enumerate(kfold.split(df)):\n",
    "    df.loc[train_index, \"split\"] = \"train\"\n",
    "    df.loc[val_index, \"split\"] = \"valid\"\n",
    "    train_embeddings_indices = df[df[\"split\"] == \"train\"][\"embeding_index\"].values\n",
    "    fold_train_embeddings = embeddings[train_embeddings_indices]\n",
    "    valid_embeddings_indices = df[df[\"split\"] == \"valid\"][\"embeding_index\"].values\n",
    "    fold_valid_embeddings = embeddings[valid_embeddings_indices]\n",
    "    rita_model.fit(df[df[\"split\"] == \"train\"], property, embeddings=fold_train_embeddings)\n",
    "    predictions_train = rita_model.predict(df[df[\"split\"] == \"train\"], embeddings=fold_train_embeddings)\n",
    "    predictions_val = rita_model.predict(df[df[\"split\"] == \"valid\"], embeddings=fold_valid_embeddings)\n",
    "    spearman_train = spearmanr(df[df[\"split\"] == \"train\"][property].values, predictions_train)[0]\n",
    "    spearman_val = spearmanr(df[df[\"split\"] == \"valid\"][property].values, predictions_val)[0]\n",
    "    experiment_results_random[\"n_val_samples\"].append(len(df[df[\"split\"] == \"valid\"]))\n",
    "    experiment_results_random[\"spearman_train\"].append(spearman_train)\n",
    "    experiment_results_random[\"spearman_val\"].append(spearman_val)\n",
    "    experiment_results_random[\"eval\"] = \"random\""
   ],
   "metadata": {
    "collapsed": false
   }
  },
  {
   "cell_type": "code",
   "execution_count": 11,
   "outputs": [],
   "source": [
    "results_df = pd.concat([pd.DataFrame(experiment_results_extrapolate), pd.DataFrame(experiment_results_random)])"
   ],
   "metadata": {
    "collapsed": false
   }
  },
  {
   "cell_type": "code",
   "execution_count": 12,
   "outputs": [],
   "source": [
    "results_df.to_csv(results_dir / \"scores.csv\")"
   ],
   "metadata": {
    "collapsed": false
   }
  }
 ],
 "metadata": {
  "kernelspec": {
   "display_name": "Python 3",
   "language": "python",
   "name": "python3"
  },
  "language_info": {
   "codemirror_mode": {
    "name": "ipython",
    "version": 2
   },
   "file_extension": ".py",
   "mimetype": "text/x-python",
   "name": "python",
   "nbconvert_exporter": "python",
   "pygments_lexer": "ipython2",
   "version": "2.7.6"
  }
 },
 "nbformat": 4,
 "nbformat_minor": 0
}
