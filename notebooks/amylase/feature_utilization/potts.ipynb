{
 "cells": [
  {
   "cell_type": "code",
   "execution_count": 1,
   "metadata": {
    "collapsed": true
   },
   "outputs": [],
   "source": [
    "from pathlib import Path\n",
    "\n",
    "import pandas as pd\n",
    "from scipy.stats import spearmanr\n",
    "\n",
    "from sklearn.model_selection import KFold\n",
    "\n",
    "\n",
    "from predictability.models import PottsRegressor\n",
    "from predictability.constants import PROJECT_ROOT, DATA_ROOT"
   ]
  },
  {
   "cell_type": "code",
   "execution_count": 2,
   "outputs": [
    {
     "name": "stderr",
     "output_type": "stream",
     "text": [
      "2023-06-13 15:18:39.506 | INFO     | unpredictability.models:__init__:24 - Downloading Potts model from: s3://sagemaker-us-east-1-118749263921/ecnet-25-09-05-01/output/model.tar.gz\n"
     ]
    }
   ],
   "source": [
    "potts_model = PottsRegressor(msa_path=str(DATA_ROOT / \"amylase/msa.a3m\"))"
   ],
   "metadata": {
    "collapsed": false
   }
  },
  {
   "cell_type": "code",
   "execution_count": 4,
   "outputs": [],
   "source": [
    "seed = 42"
   ],
   "metadata": {
    "collapsed": false
   }
  },
  {
   "cell_type": "code",
   "execution_count": 12,
   "outputs": [],
   "source": [
    "results_dir = Path(PROJECT_ROOT / \"results/amylase/feature_utilization/potts\")\n",
    "results_dir.mkdir(exist_ok=True, parents=True)"
   ],
   "metadata": {
    "collapsed": false
   }
  },
  {
   "cell_type": "code",
   "execution_count": 5,
   "outputs": [],
   "source": [
    "data = pd.read_csv(DATA_ROOT / \"amylase/combinatorials.csv\")"
   ],
   "metadata": {
    "collapsed": false
   }
  },
  {
   "cell_type": "code",
   "execution_count": 7,
   "outputs": [
    {
     "name": "stdout",
     "output_type": "stream",
     "text": [
      "Removed 0 samples\n",
      "Removed 0 samples\n"
     ]
    }
   ],
   "source": [
    "property = \"stain_activity\""
   ],
   "metadata": {
    "collapsed": false
   }
  },
  {
   "cell_type": "markdown",
   "source": [
    "# Eval on held out bins"
   ],
   "metadata": {
    "collapsed": false
   }
  },
  {
   "cell_type": "code",
   "execution_count": 8,
   "outputs": [],
   "source": [
    "experiment_results_extrapolate = {\n",
    "    \"n_val_samples\": [],\n",
    "    \"spearman_train\": [],\n",
    "    \"spearman_val\": [],\n",
    "    \"eval\": []\n",
    "}\n",
    "df = data\n",
    "\n",
    "for bin in df[\"bin_label\"].unique():\n",
    "    df[\"split\"] = df[\"bin_label\"].map(lambda x: \"valid\" if x==bin else \"train\")\n",
    "    potts_model.fit(df[df[\"split\"] == \"train\"], property)\n",
    "    predictions_train = potts_model.predict(df[df[\"split\"] == \"train\"])\n",
    "    predictions_val = potts_model.predict(df[df[\"split\"] == \"valid\"])\n",
    "    spearman_train = spearmanr(df[df[\"split\"] == \"train\"][property].values, predictions_train)[0]\n",
    "    spearman_val = spearmanr(df[df[\"split\"] == \"valid\"][property].values, predictions_val)[0]\n",
    "    experiment_results_extrapolate[\"n_val_samples\"].append(len(df[df[\"split\"] == \"valid\"]))\n",
    "    experiment_results_extrapolate[\"spearman_train\"].append(spearman_train)\n",
    "    experiment_results_extrapolate[\"spearman_val\"].append(spearman_val)\n",
    "    experiment_results_extrapolate[\"eval\"].append(\"extrapolate\")"
   ],
   "metadata": {
    "collapsed": false
   }
  },
  {
   "cell_type": "markdown",
   "source": [
    "# Eval on randomly held out data"
   ],
   "metadata": {
    "collapsed": false
   }
  },
  {
   "cell_type": "code",
   "execution_count": 10,
   "outputs": [
    {
     "name": "stdout",
     "output_type": "stream",
     "text": [
      "KFold(n_splits=16, random_state=42, shuffle=True)\n",
      "Spearman val: 0.6461914879920567\n",
      "Spearman val: 0.6606661453218562\n",
      "Spearman val: 0.641316289893166\n",
      "Spearman val: 0.6382357852208708\n",
      "Spearman val: 0.7542822985993629\n",
      "Spearman val: 0.6398999401057925\n",
      "Spearman val: 0.7134431185778108\n",
      "Spearman val: 0.684934455697177\n",
      "Spearman val: 0.6900011844420536\n",
      "Spearman val: 0.731132528782788\n",
      "Spearman val: 0.6644320669606\n",
      "Spearman val: 0.6970879967912958\n",
      "Spearman val: 0.7799279239033368\n",
      "Spearman val: 0.6367418126457061\n",
      "Spearman val: 0.7190344032314469\n",
      "Spearman val: 0.702015448634204\n"
     ]
    }
   ],
   "source": [
    "experiment_results_random = {\n",
    "    \"n_val_samples\": [],\n",
    "    \"spearman_train\": [],\n",
    "    \"spearman_val\": [],\n",
    "    \"eval\": []\n",
    "}\n",
    "df = data\n",
    "\n",
    "kfold = KFold(n_splits=16, shuffle=True, random_state=42)\n",
    "kfold.get_n_splits(df)\n",
    "print(kfold)\n",
    "\n",
    "for i, (train_index, val_index) in enumerate(kfold.split(df)):\n",
    "    df.loc[train_index, \"split\"] = \"train\"\n",
    "    df.loc[val_index, \"split\"] = \"valid\"\n",
    "    potts_model.fit(df[df[\"split\"] == \"train\"], property)\n",
    "    predictions_train = potts_model.predict(df[df[\"split\"] == \"train\"])\n",
    "    predictions_val = potts_model.predict(df[df[\"split\"] == \"valid\"])\n",
    "    spearman_train = spearmanr(df[df[\"split\"] == \"train\"][property].values, predictions_train)[0]\n",
    "    spearman_val = spearmanr(df[df[\"split\"] == \"valid\"][property].values, predictions_val)[0]\n",
    "    print(f\"Spearman val: {spearman_val}\")\n",
    "    experiment_results_random[\"n_val_samples\"].append(len(df[df[\"split\"] == \"valid\"]))\n",
    "    experiment_results_random[\"spearman_train\"].append(spearman_train)\n",
    "    experiment_results_random[\"spearman_val\"].append(spearman_val)\n",
    "    experiment_results_random[\"eval\"].append(\"random\")"
   ],
   "metadata": {
    "collapsed": false
   }
  },
  {
   "cell_type": "code",
   "execution_count": 11,
   "outputs": [],
   "source": [
    "results_df = pd.concat([pd.DataFrame(experiment_results_extrapolate), pd.DataFrame(experiment_results_random)])"
   ],
   "metadata": {
    "collapsed": false
   }
  },
  {
   "cell_type": "code",
   "execution_count": 15,
   "outputs": [],
   "source": [
    "results_df.to_csv(results_dir / \"scores.csv\")"
   ],
   "metadata": {
    "collapsed": false
   }
  },
  {
   "cell_type": "code",
   "execution_count": 14,
   "outputs": [
    {
     "data": {
      "text/plain": "    n_val_samples  spearman_train  spearman_val         eval\n0             278        0.748775      0.092019  extrapolate\n1             233        0.746026      0.148118  extrapolate\n2             196        0.737634      0.396480  extrapolate\n3             247        0.728730      0.496700  extrapolate\n4             209        0.741309      0.121375  extrapolate\n5             255        0.721690     -0.053535  extrapolate\n6             250        0.730354      0.196031  extrapolate\n7             148        0.734280      0.338443  extrapolate\n8             153        0.733104      0.181231  extrapolate\n9             290        0.705252      0.082375  extrapolate\n10            264        0.744600      0.140412  extrapolate\n11            187        0.735113      0.119827  extrapolate\n12            224        0.733056      0.513814  extrapolate\n13            256        0.732750      0.383193  extrapolate\n14            225        0.734156      0.135772  extrapolate\n15            291        0.739469      0.081829  extrapolate\n0             232        0.735655      0.646191       random\n1             232        0.733606      0.660666       random\n2             232        0.734630      0.641316       random\n3             232        0.734988      0.638236       random\n4             232        0.730523      0.754282       random\n5             232        0.735719      0.639900       random\n6             232        0.731757      0.713443       random\n7             232        0.733927      0.684934       random\n8             232        0.733852      0.690001       random\n9             232        0.730157      0.731133       random\n10            231        0.732130      0.664432       random\n11            231        0.733078      0.697088       random\n12            231        0.726940      0.779928       random\n13            231        0.735053      0.636742       random\n14            231        0.729862      0.719034       random\n15            231        0.731778      0.702015       random",
      "text/html": "<div>\n<style scoped>\n    .dataframe tbody tr th:only-of-type {\n        vertical-align: middle;\n    }\n\n    .dataframe tbody tr th {\n        vertical-align: top;\n    }\n\n    .dataframe thead th {\n        text-align: right;\n    }\n</style>\n<table border=\"1\" class=\"dataframe\">\n  <thead>\n    <tr style=\"text-align: right;\">\n      <th></th>\n      <th>n_val_samples</th>\n      <th>spearman_train</th>\n      <th>spearman_val</th>\n      <th>eval</th>\n    </tr>\n  </thead>\n  <tbody>\n    <tr>\n      <th>0</th>\n      <td>278</td>\n      <td>0.748775</td>\n      <td>0.092019</td>\n      <td>extrapolate</td>\n    </tr>\n    <tr>\n      <th>1</th>\n      <td>233</td>\n      <td>0.746026</td>\n      <td>0.148118</td>\n      <td>extrapolate</td>\n    </tr>\n    <tr>\n      <th>2</th>\n      <td>196</td>\n      <td>0.737634</td>\n      <td>0.396480</td>\n      <td>extrapolate</td>\n    </tr>\n    <tr>\n      <th>3</th>\n      <td>247</td>\n      <td>0.728730</td>\n      <td>0.496700</td>\n      <td>extrapolate</td>\n    </tr>\n    <tr>\n      <th>4</th>\n      <td>209</td>\n      <td>0.741309</td>\n      <td>0.121375</td>\n      <td>extrapolate</td>\n    </tr>\n    <tr>\n      <th>5</th>\n      <td>255</td>\n      <td>0.721690</td>\n      <td>-0.053535</td>\n      <td>extrapolate</td>\n    </tr>\n    <tr>\n      <th>6</th>\n      <td>250</td>\n      <td>0.730354</td>\n      <td>0.196031</td>\n      <td>extrapolate</td>\n    </tr>\n    <tr>\n      <th>7</th>\n      <td>148</td>\n      <td>0.734280</td>\n      <td>0.338443</td>\n      <td>extrapolate</td>\n    </tr>\n    <tr>\n      <th>8</th>\n      <td>153</td>\n      <td>0.733104</td>\n      <td>0.181231</td>\n      <td>extrapolate</td>\n    </tr>\n    <tr>\n      <th>9</th>\n      <td>290</td>\n      <td>0.705252</td>\n      <td>0.082375</td>\n      <td>extrapolate</td>\n    </tr>\n    <tr>\n      <th>10</th>\n      <td>264</td>\n      <td>0.744600</td>\n      <td>0.140412</td>\n      <td>extrapolate</td>\n    </tr>\n    <tr>\n      <th>11</th>\n      <td>187</td>\n      <td>0.735113</td>\n      <td>0.119827</td>\n      <td>extrapolate</td>\n    </tr>\n    <tr>\n      <th>12</th>\n      <td>224</td>\n      <td>0.733056</td>\n      <td>0.513814</td>\n      <td>extrapolate</td>\n    </tr>\n    <tr>\n      <th>13</th>\n      <td>256</td>\n      <td>0.732750</td>\n      <td>0.383193</td>\n      <td>extrapolate</td>\n    </tr>\n    <tr>\n      <th>14</th>\n      <td>225</td>\n      <td>0.734156</td>\n      <td>0.135772</td>\n      <td>extrapolate</td>\n    </tr>\n    <tr>\n      <th>15</th>\n      <td>291</td>\n      <td>0.739469</td>\n      <td>0.081829</td>\n      <td>extrapolate</td>\n    </tr>\n    <tr>\n      <th>0</th>\n      <td>232</td>\n      <td>0.735655</td>\n      <td>0.646191</td>\n      <td>random</td>\n    </tr>\n    <tr>\n      <th>1</th>\n      <td>232</td>\n      <td>0.733606</td>\n      <td>0.660666</td>\n      <td>random</td>\n    </tr>\n    <tr>\n      <th>2</th>\n      <td>232</td>\n      <td>0.734630</td>\n      <td>0.641316</td>\n      <td>random</td>\n    </tr>\n    <tr>\n      <th>3</th>\n      <td>232</td>\n      <td>0.734988</td>\n      <td>0.638236</td>\n      <td>random</td>\n    </tr>\n    <tr>\n      <th>4</th>\n      <td>232</td>\n      <td>0.730523</td>\n      <td>0.754282</td>\n      <td>random</td>\n    </tr>\n    <tr>\n      <th>5</th>\n      <td>232</td>\n      <td>0.735719</td>\n      <td>0.639900</td>\n      <td>random</td>\n    </tr>\n    <tr>\n      <th>6</th>\n      <td>232</td>\n      <td>0.731757</td>\n      <td>0.713443</td>\n      <td>random</td>\n    </tr>\n    <tr>\n      <th>7</th>\n      <td>232</td>\n      <td>0.733927</td>\n      <td>0.684934</td>\n      <td>random</td>\n    </tr>\n    <tr>\n      <th>8</th>\n      <td>232</td>\n      <td>0.733852</td>\n      <td>0.690001</td>\n      <td>random</td>\n    </tr>\n    <tr>\n      <th>9</th>\n      <td>232</td>\n      <td>0.730157</td>\n      <td>0.731133</td>\n      <td>random</td>\n    </tr>\n    <tr>\n      <th>10</th>\n      <td>231</td>\n      <td>0.732130</td>\n      <td>0.664432</td>\n      <td>random</td>\n    </tr>\n    <tr>\n      <th>11</th>\n      <td>231</td>\n      <td>0.733078</td>\n      <td>0.697088</td>\n      <td>random</td>\n    </tr>\n    <tr>\n      <th>12</th>\n      <td>231</td>\n      <td>0.726940</td>\n      <td>0.779928</td>\n      <td>random</td>\n    </tr>\n    <tr>\n      <th>13</th>\n      <td>231</td>\n      <td>0.735053</td>\n      <td>0.636742</td>\n      <td>random</td>\n    </tr>\n    <tr>\n      <th>14</th>\n      <td>231</td>\n      <td>0.729862</td>\n      <td>0.719034</td>\n      <td>random</td>\n    </tr>\n    <tr>\n      <th>15</th>\n      <td>231</td>\n      <td>0.731778</td>\n      <td>0.702015</td>\n      <td>random</td>\n    </tr>\n  </tbody>\n</table>\n</div>"
     },
     "execution_count": 14,
     "metadata": {},
     "output_type": "execute_result"
    }
   ],
   "source": [
    "results_df"
   ],
   "metadata": {
    "collapsed": false
   }
  }
 ],
 "metadata": {
  "kernelspec": {
   "display_name": "Python 3",
   "language": "python",
   "name": "python3"
  },
  "language_info": {
   "codemirror_mode": {
    "name": "ipython",
    "version": 2
   },
   "file_extension": ".py",
   "mimetype": "text/x-python",
   "name": "python",
   "nbconvert_exporter": "python",
   "pygments_lexer": "ipython2",
   "version": "2.7.6"
  }
 },
 "nbformat": 4,
 "nbformat_minor": 0
}
