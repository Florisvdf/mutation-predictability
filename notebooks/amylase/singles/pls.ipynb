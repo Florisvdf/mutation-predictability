{
 "cells": [
  {
   "cell_type": "code",
   "execution_count": 1,
   "metadata": {
    "collapsed": true
   },
   "outputs": [],
   "source": [
    "from pathlib import Path\n",
    "\n",
    "import pandas as pd\n",
    "import numpy as np\n",
    "from scipy.stats import spearmanr\n",
    "\n",
    "from predictability.models import PartialLeastSquares\n",
    "from predictability.utils import sel_kfold\n",
    "from predictability.constants import BINARY_RESIDUE_FEATURES, PROJECT_ROOT, DATA_ROOT"
   ]
  },
  {
   "cell_type": "code",
   "execution_count": 2,
   "outputs": [],
   "source": [
    "results_dir = Path(PROJECT_ROOT / \"results/amylase/singles/pls\")\n",
    "results_dir.mkdir(exist_ok=True, parents=True)\n",
    "seed = 42"
   ],
   "metadata": {
    "collapsed": false
   }
  },
  {
   "cell_type": "code",
   "execution_count": 3,
   "outputs": [],
   "source": [
    "property = \"activity_dp3\"\n",
    "data = pd.read_csv(DATA_ROOT / \"amylase/singles.csv\").dropna(subset=BINARY_RESIDUE_FEATURES + [property])"
   ],
   "metadata": {
    "collapsed": false
   }
  },
  {
   "cell_type": "code",
   "execution_count": 4,
   "outputs": [
    {
     "name": "stderr",
     "output_type": "stream",
     "text": [
      "/Users/floris/work/phd/projects/mutation-predictability/conda_env/lib/python3.8/site-packages/sklearn/cross_decomposition/_pls.py:305: UserWarning: Y residual is constant at iteration 7\n",
      "  warnings.warn(f\"Y residual is constant at iteration {k}\")\n"
     ]
    }
   ],
   "source": [
    "experiment_results = {\n",
    "    \"fold\": [],\n",
    "    \"feature\": [],\n",
    "    \"belongs\": [],\n",
    "    \"spearman_val\": [],\n",
    "    \"model\": [],\n",
    "}\n",
    "prediction_dfs = []\n",
    "for feature in BINARY_RESIDUE_FEATURES:\n",
    "    for belongs in [0, 1]:\n",
    "        df = data[data[feature]==belongs].reset_index()\n",
    "        for i, (train_inds, test_inds) in enumerate(sel_kfold(df, position_col=\"residue_number\", k=10)):\n",
    "            split_ids = np.empty(len(df), dtype=object)\n",
    "            split_ids[train_inds] = \"train\"\n",
    "            split_ids[test_inds] = \"valid\"\n",
    "            df[\"split\"] = split_ids\n",
    "            model = PartialLeastSquares()\n",
    "            model.fit(df[df[\"split\"] == \"train\"], property)\n",
    "            predictions_val = model.predict(df[df[\"split\"] == \"valid\"])\n",
    "            spearman_val, _ = spearmanr(df[df[\"split\"] == \"valid\"][property].values, predictions_val)\n",
    "            experiment_results[\"fold\"].append(i)\n",
    "            experiment_results[\"feature\"].append(feature)\n",
    "            experiment_results[\"belongs\"].append(belongs)\n",
    "            experiment_results[\"spearman_val\"].append(spearman_val)\n",
    "            experiment_results[\"model\"].append(\"PLS\")"
   ],
   "metadata": {
    "collapsed": false
   }
  },
  {
   "cell_type": "code",
   "execution_count": 5,
   "outputs": [],
   "source": [
    "results_df = pd.DataFrame(experiment_results)\n",
    "results_df.to_csv(results_dir / \"scores.csv\")"
   ],
   "metadata": {
    "collapsed": false
   }
  }
 ],
 "metadata": {
  "kernelspec": {
   "display_name": "Python 3",
   "language": "python",
   "name": "python3"
  },
  "language_info": {
   "codemirror_mode": {
    "name": "ipython",
    "version": 2
   },
   "file_extension": ".py",
   "mimetype": "text/x-python",
   "name": "python",
   "nbconvert_exporter": "python",
   "pygments_lexer": "ipython2",
   "version": "2.7.6"
  }
 },
 "nbformat": 4,
 "nbformat_minor": 0
}
