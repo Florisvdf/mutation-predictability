{
 "cells": [
  {
   "cell_type": "code",
   "execution_count": 2,
   "metadata": {
    "collapsed": true
   },
   "outputs": [],
   "source": [
    "from pathlib import Path\n",
    "import joblib\n",
    "\n",
    "import pandas as pd\n",
    "import numpy as np\n",
    "from scipy.stats import spearmanr\n",
    "\n",
    "from predictability.models import RITARegressor\n",
    "from predictability.utils import sel_kfold\n",
    "from predictability.constants import BINARY_RESIDUE_FEATURES, PROJECT_ROOT, DATA_ROOT"
   ]
  },
  {
   "cell_type": "code",
   "execution_count": 3,
   "outputs": [],
   "source": [
    "results_dir = Path(PROJECT_ROOT / \"results/amylase/singles/rita\")\n",
    "results_dir.mkdir(exist_ok=True, parents=True)\n",
    "seed = 42"
   ],
   "metadata": {
    "collapsed": false
   }
  },
  {
   "cell_type": "code",
   "execution_count": 4,
   "outputs": [],
   "source": [
    "data = pd.read_csv(DATA_ROOT / \"amylase/singles.csv\")\n",
    "property = \"stain_activity\""
   ],
   "metadata": {
    "collapsed": false
   }
  },
  {
   "cell_type": "code",
   "execution_count": 5,
   "outputs": [],
   "source": [
    "rita_model = RITARegressor()"
   ],
   "metadata": {
    "collapsed": false
   }
  },
  {
   "cell_type": "code",
   "execution_count": 6,
   "outputs": [
    {
     "name": "stderr",
     "output_type": "stream",
     "text": [
      "8500it [24:23:29, 10.33s/it]  \n",
      "/var/folders/d8/bxgj52rj3w934zctbjr8v2hh0000gn/T/ipykernel_57995/3906801740.py:7: FutureWarning: arrays to stack must be passed as a \"sequence\" type such as list or tuple. Support for non-sequence iterables such as generators is deprecated as of NumPy 1.16 and will raise an error in the future.\n",
      "  embeddings = np.vstack(embeddings.values())\n"
     ]
    }
   ],
   "source": [
    "# Uncomment to generate embeddings\n",
    "embeddings = rita_model.embed(data)\n",
    "sequence_embeddings = {sequence: embedding for sequence, embedding in zip(data[\"sequence\"], embeddings)}\n",
    "joblib.dump(sequence_embeddings, DATA_ROOT / \"amylase/single_sequence_embeddings.joblib\")\n",
    "\n",
    "embeddings = joblib.load(DATA_ROOT / \"amylase/single_sequence_embeddings.joblib\")\n",
    "embeddings = np.vstack(embeddings.values())\n",
    "data[\"embedding_index\"] = np.arange(len(data))"
   ],
   "metadata": {
    "collapsed": false
   }
  },
  {
   "cell_type": "code",
   "execution_count": 6,
   "outputs": [
    {
     "name": "stderr",
     "output_type": "stream",
     "text": [
      "\u001B[32m2023-09-27 09:38:11.435\u001B[0m | \u001B[1mINFO    \u001B[0m | \u001B[36mpredictability.models\u001B[0m:\u001B[36mfit\u001B[0m:\u001B[36m182\u001B[0m - \u001B[1mFitting ridge\u001B[0m\n",
      "\u001B[32m2023-09-27 09:38:11.853\u001B[0m | \u001B[1mINFO    \u001B[0m | \u001B[36mpredictability.models\u001B[0m:\u001B[36mfit\u001B[0m:\u001B[36m182\u001B[0m - \u001B[1mFitting ridge\u001B[0m\n",
      "\u001B[32m2023-09-27 09:38:12.315\u001B[0m | \u001B[1mINFO    \u001B[0m | \u001B[36mpredictability.models\u001B[0m:\u001B[36mfit\u001B[0m:\u001B[36m182\u001B[0m - \u001B[1mFitting ridge\u001B[0m\n",
      "\u001B[32m2023-09-27 09:38:12.764\u001B[0m | \u001B[1mINFO    \u001B[0m | \u001B[36mpredictability.models\u001B[0m:\u001B[36mfit\u001B[0m:\u001B[36m182\u001B[0m - \u001B[1mFitting ridge\u001B[0m\n",
      "\u001B[32m2023-09-27 09:38:13.238\u001B[0m | \u001B[1mINFO    \u001B[0m | \u001B[36mpredictability.models\u001B[0m:\u001B[36mfit\u001B[0m:\u001B[36m182\u001B[0m - \u001B[1mFitting ridge\u001B[0m\n",
      "\u001B[32m2023-09-27 09:38:13.691\u001B[0m | \u001B[1mINFO    \u001B[0m | \u001B[36mpredictability.models\u001B[0m:\u001B[36mfit\u001B[0m:\u001B[36m182\u001B[0m - \u001B[1mFitting ridge\u001B[0m\n",
      "\u001B[32m2023-09-27 09:38:14.153\u001B[0m | \u001B[1mINFO    \u001B[0m | \u001B[36mpredictability.models\u001B[0m:\u001B[36mfit\u001B[0m:\u001B[36m182\u001B[0m - \u001B[1mFitting ridge\u001B[0m\n",
      "\u001B[32m2023-09-27 09:38:14.617\u001B[0m | \u001B[1mINFO    \u001B[0m | \u001B[36mpredictability.models\u001B[0m:\u001B[36mfit\u001B[0m:\u001B[36m182\u001B[0m - \u001B[1mFitting ridge\u001B[0m\n",
      "\u001B[32m2023-09-27 09:38:15.089\u001B[0m | \u001B[1mINFO    \u001B[0m | \u001B[36mpredictability.models\u001B[0m:\u001B[36mfit\u001B[0m:\u001B[36m182\u001B[0m - \u001B[1mFitting ridge\u001B[0m\n",
      "\u001B[32m2023-09-27 09:38:15.539\u001B[0m | \u001B[1mINFO    \u001B[0m | \u001B[36mpredictability.models\u001B[0m:\u001B[36mfit\u001B[0m:\u001B[36m182\u001B[0m - \u001B[1mFitting ridge\u001B[0m\n",
      "\u001B[32m2023-09-27 09:38:15.967\u001B[0m | \u001B[1mINFO    \u001B[0m | \u001B[36mpredictability.models\u001B[0m:\u001B[36mfit\u001B[0m:\u001B[36m182\u001B[0m - \u001B[1mFitting ridge\u001B[0m\n",
      "\u001B[32m2023-09-27 09:38:16.405\u001B[0m | \u001B[1mINFO    \u001B[0m | \u001B[36mpredictability.models\u001B[0m:\u001B[36mfit\u001B[0m:\u001B[36m182\u001B[0m - \u001B[1mFitting ridge\u001B[0m\n",
      "\u001B[32m2023-09-27 09:38:16.829\u001B[0m | \u001B[1mINFO    \u001B[0m | \u001B[36mpredictability.models\u001B[0m:\u001B[36mfit\u001B[0m:\u001B[36m182\u001B[0m - \u001B[1mFitting ridge\u001B[0m\n",
      "\u001B[32m2023-09-27 09:38:17.293\u001B[0m | \u001B[1mINFO    \u001B[0m | \u001B[36mpredictability.models\u001B[0m:\u001B[36mfit\u001B[0m:\u001B[36m182\u001B[0m - \u001B[1mFitting ridge\u001B[0m\n",
      "\u001B[32m2023-09-27 09:38:17.742\u001B[0m | \u001B[1mINFO    \u001B[0m | \u001B[36mpredictability.models\u001B[0m:\u001B[36mfit\u001B[0m:\u001B[36m182\u001B[0m - \u001B[1mFitting ridge\u001B[0m\n",
      "\u001B[32m2023-09-27 09:38:18.212\u001B[0m | \u001B[1mINFO    \u001B[0m | \u001B[36mpredictability.models\u001B[0m:\u001B[36mfit\u001B[0m:\u001B[36m182\u001B[0m - \u001B[1mFitting ridge\u001B[0m\n",
      "\u001B[32m2023-09-27 09:38:18.668\u001B[0m | \u001B[1mINFO    \u001B[0m | \u001B[36mpredictability.models\u001B[0m:\u001B[36mfit\u001B[0m:\u001B[36m182\u001B[0m - \u001B[1mFitting ridge\u001B[0m\n",
      "\u001B[32m2023-09-27 09:38:19.078\u001B[0m | \u001B[1mINFO    \u001B[0m | \u001B[36mpredictability.models\u001B[0m:\u001B[36mfit\u001B[0m:\u001B[36m182\u001B[0m - \u001B[1mFitting ridge\u001B[0m\n",
      "\u001B[32m2023-09-27 09:38:19.521\u001B[0m | \u001B[1mINFO    \u001B[0m | \u001B[36mpredictability.models\u001B[0m:\u001B[36mfit\u001B[0m:\u001B[36m182\u001B[0m - \u001B[1mFitting ridge\u001B[0m\n",
      "\u001B[32m2023-09-27 09:38:19.897\u001B[0m | \u001B[1mINFO    \u001B[0m | \u001B[36mpredictability.models\u001B[0m:\u001B[36mfit\u001B[0m:\u001B[36m182\u001B[0m - \u001B[1mFitting ridge\u001B[0m\n",
      "\u001B[32m2023-09-27 09:38:20.419\u001B[0m | \u001B[1mINFO    \u001B[0m | \u001B[36mpredictability.models\u001B[0m:\u001B[36mfit\u001B[0m:\u001B[36m182\u001B[0m - \u001B[1mFitting ridge\u001B[0m\n",
      "\u001B[32m2023-09-27 09:38:20.896\u001B[0m | \u001B[1mINFO    \u001B[0m | \u001B[36mpredictability.models\u001B[0m:\u001B[36mfit\u001B[0m:\u001B[36m182\u001B[0m - \u001B[1mFitting ridge\u001B[0m\n",
      "\u001B[32m2023-09-27 09:38:21.339\u001B[0m | \u001B[1mINFO    \u001B[0m | \u001B[36mpredictability.models\u001B[0m:\u001B[36mfit\u001B[0m:\u001B[36m182\u001B[0m - \u001B[1mFitting ridge\u001B[0m\n",
      "\u001B[32m2023-09-27 09:38:21.812\u001B[0m | \u001B[1mINFO    \u001B[0m | \u001B[36mpredictability.models\u001B[0m:\u001B[36mfit\u001B[0m:\u001B[36m182\u001B[0m - \u001B[1mFitting ridge\u001B[0m\n",
      "\u001B[32m2023-09-27 09:38:22.304\u001B[0m | \u001B[1mINFO    \u001B[0m | \u001B[36mpredictability.models\u001B[0m:\u001B[36mfit\u001B[0m:\u001B[36m182\u001B[0m - \u001B[1mFitting ridge\u001B[0m\n",
      "\u001B[32m2023-09-27 09:38:22.797\u001B[0m | \u001B[1mINFO    \u001B[0m | \u001B[36mpredictability.models\u001B[0m:\u001B[36mfit\u001B[0m:\u001B[36m182\u001B[0m - \u001B[1mFitting ridge\u001B[0m\n",
      "\u001B[32m2023-09-27 09:38:23.301\u001B[0m | \u001B[1mINFO    \u001B[0m | \u001B[36mpredictability.models\u001B[0m:\u001B[36mfit\u001B[0m:\u001B[36m182\u001B[0m - \u001B[1mFitting ridge\u001B[0m\n",
      "\u001B[32m2023-09-27 09:38:23.777\u001B[0m | \u001B[1mINFO    \u001B[0m | \u001B[36mpredictability.models\u001B[0m:\u001B[36mfit\u001B[0m:\u001B[36m182\u001B[0m - \u001B[1mFitting ridge\u001B[0m\n",
      "\u001B[32m2023-09-27 09:38:24.255\u001B[0m | \u001B[1mINFO    \u001B[0m | \u001B[36mpredictability.models\u001B[0m:\u001B[36mfit\u001B[0m:\u001B[36m182\u001B[0m - \u001B[1mFitting ridge\u001B[0m\n",
      "\u001B[32m2023-09-27 09:38:24.775\u001B[0m | \u001B[1mINFO    \u001B[0m | \u001B[36mpredictability.models\u001B[0m:\u001B[36mfit\u001B[0m:\u001B[36m182\u001B[0m - \u001B[1mFitting ridge\u001B[0m\n",
      "\u001B[32m2023-09-27 09:38:25.250\u001B[0m | \u001B[1mINFO    \u001B[0m | \u001B[36mpredictability.models\u001B[0m:\u001B[36mfit\u001B[0m:\u001B[36m182\u001B[0m - \u001B[1mFitting ridge\u001B[0m\n",
      "\u001B[32m2023-09-27 09:38:25.720\u001B[0m | \u001B[1mINFO    \u001B[0m | \u001B[36mpredictability.models\u001B[0m:\u001B[36mfit\u001B[0m:\u001B[36m182\u001B[0m - \u001B[1mFitting ridge\u001B[0m\n",
      "\u001B[32m2023-09-27 09:38:26.168\u001B[0m | \u001B[1mINFO    \u001B[0m | \u001B[36mpredictability.models\u001B[0m:\u001B[36mfit\u001B[0m:\u001B[36m182\u001B[0m - \u001B[1mFitting ridge\u001B[0m\n",
      "\u001B[32m2023-09-27 09:38:26.622\u001B[0m | \u001B[1mINFO    \u001B[0m | \u001B[36mpredictability.models\u001B[0m:\u001B[36mfit\u001B[0m:\u001B[36m182\u001B[0m - \u001B[1mFitting ridge\u001B[0m\n",
      "\u001B[32m2023-09-27 09:38:27.067\u001B[0m | \u001B[1mINFO    \u001B[0m | \u001B[36mpredictability.models\u001B[0m:\u001B[36mfit\u001B[0m:\u001B[36m182\u001B[0m - \u001B[1mFitting ridge\u001B[0m\n",
      "\u001B[32m2023-09-27 09:38:27.530\u001B[0m | \u001B[1mINFO    \u001B[0m | \u001B[36mpredictability.models\u001B[0m:\u001B[36mfit\u001B[0m:\u001B[36m182\u001B[0m - \u001B[1mFitting ridge\u001B[0m\n",
      "\u001B[32m2023-09-27 09:38:27.987\u001B[0m | \u001B[1mINFO    \u001B[0m | \u001B[36mpredictability.models\u001B[0m:\u001B[36mfit\u001B[0m:\u001B[36m182\u001B[0m - \u001B[1mFitting ridge\u001B[0m\n",
      "\u001B[32m2023-09-27 09:38:28.455\u001B[0m | \u001B[1mINFO    \u001B[0m | \u001B[36mpredictability.models\u001B[0m:\u001B[36mfit\u001B[0m:\u001B[36m182\u001B[0m - \u001B[1mFitting ridge\u001B[0m\n",
      "\u001B[32m2023-09-27 09:38:28.899\u001B[0m | \u001B[1mINFO    \u001B[0m | \u001B[36mpredictability.models\u001B[0m:\u001B[36mfit\u001B[0m:\u001B[36m182\u001B[0m - \u001B[1mFitting ridge\u001B[0m\n",
      "\u001B[32m2023-09-27 09:38:29.336\u001B[0m | \u001B[1mINFO    \u001B[0m | \u001B[36mpredictability.models\u001B[0m:\u001B[36mfit\u001B[0m:\u001B[36m182\u001B[0m - \u001B[1mFitting ridge\u001B[0m\n",
      "\u001B[32m2023-09-27 09:38:29.827\u001B[0m | \u001B[1mINFO    \u001B[0m | \u001B[36mpredictability.models\u001B[0m:\u001B[36mfit\u001B[0m:\u001B[36m182\u001B[0m - \u001B[1mFitting ridge\u001B[0m\n",
      "\u001B[32m2023-09-27 09:38:30.399\u001B[0m | \u001B[1mINFO    \u001B[0m | \u001B[36mpredictability.models\u001B[0m:\u001B[36mfit\u001B[0m:\u001B[36m182\u001B[0m - \u001B[1mFitting ridge\u001B[0m\n",
      "\u001B[32m2023-09-27 09:38:31.135\u001B[0m | \u001B[1mINFO    \u001B[0m | \u001B[36mpredictability.models\u001B[0m:\u001B[36mfit\u001B[0m:\u001B[36m182\u001B[0m - \u001B[1mFitting ridge\u001B[0m\n",
      "\u001B[32m2023-09-27 09:38:31.834\u001B[0m | \u001B[1mINFO    \u001B[0m | \u001B[36mpredictability.models\u001B[0m:\u001B[36mfit\u001B[0m:\u001B[36m182\u001B[0m - \u001B[1mFitting ridge\u001B[0m\n",
      "\u001B[32m2023-09-27 09:38:32.414\u001B[0m | \u001B[1mINFO    \u001B[0m | \u001B[36mpredictability.models\u001B[0m:\u001B[36mfit\u001B[0m:\u001B[36m182\u001B[0m - \u001B[1mFitting ridge\u001B[0m\n",
      "\u001B[32m2023-09-27 09:38:32.884\u001B[0m | \u001B[1mINFO    \u001B[0m | \u001B[36mpredictability.models\u001B[0m:\u001B[36mfit\u001B[0m:\u001B[36m182\u001B[0m - \u001B[1mFitting ridge\u001B[0m\n",
      "\u001B[32m2023-09-27 09:38:33.351\u001B[0m | \u001B[1mINFO    \u001B[0m | \u001B[36mpredictability.models\u001B[0m:\u001B[36mfit\u001B[0m:\u001B[36m182\u001B[0m - \u001B[1mFitting ridge\u001B[0m\n",
      "\u001B[32m2023-09-27 09:38:33.803\u001B[0m | \u001B[1mINFO    \u001B[0m | \u001B[36mpredictability.models\u001B[0m:\u001B[36mfit\u001B[0m:\u001B[36m182\u001B[0m - \u001B[1mFitting ridge\u001B[0m\n",
      "\u001B[32m2023-09-27 09:38:34.280\u001B[0m | \u001B[1mINFO    \u001B[0m | \u001B[36mpredictability.models\u001B[0m:\u001B[36mfit\u001B[0m:\u001B[36m182\u001B[0m - \u001B[1mFitting ridge\u001B[0m\n",
      "\u001B[32m2023-09-27 09:38:34.785\u001B[0m | \u001B[1mINFO    \u001B[0m | \u001B[36mpredictability.models\u001B[0m:\u001B[36mfit\u001B[0m:\u001B[36m182\u001B[0m - \u001B[1mFitting ridge\u001B[0m\n",
      "\u001B[32m2023-09-27 09:38:35.260\u001B[0m | \u001B[1mINFO    \u001B[0m | \u001B[36mpredictability.models\u001B[0m:\u001B[36mfit\u001B[0m:\u001B[36m182\u001B[0m - \u001B[1mFitting ridge\u001B[0m\n",
      "\u001B[32m2023-09-27 09:38:35.773\u001B[0m | \u001B[1mINFO    \u001B[0m | \u001B[36mpredictability.models\u001B[0m:\u001B[36mfit\u001B[0m:\u001B[36m182\u001B[0m - \u001B[1mFitting ridge\u001B[0m\n",
      "\u001B[32m2023-09-27 09:38:36.223\u001B[0m | \u001B[1mINFO    \u001B[0m | \u001B[36mpredictability.models\u001B[0m:\u001B[36mfit\u001B[0m:\u001B[36m182\u001B[0m - \u001B[1mFitting ridge\u001B[0m\n",
      "\u001B[32m2023-09-27 09:38:36.655\u001B[0m | \u001B[1mINFO    \u001B[0m | \u001B[36mpredictability.models\u001B[0m:\u001B[36mfit\u001B[0m:\u001B[36m182\u001B[0m - \u001B[1mFitting ridge\u001B[0m\n",
      "\u001B[32m2023-09-27 09:38:37.113\u001B[0m | \u001B[1mINFO    \u001B[0m | \u001B[36mpredictability.models\u001B[0m:\u001B[36mfit\u001B[0m:\u001B[36m182\u001B[0m - \u001B[1mFitting ridge\u001B[0m\n",
      "\u001B[32m2023-09-27 09:38:37.530\u001B[0m | \u001B[1mINFO    \u001B[0m | \u001B[36mpredictability.models\u001B[0m:\u001B[36mfit\u001B[0m:\u001B[36m182\u001B[0m - \u001B[1mFitting ridge\u001B[0m\n",
      "\u001B[32m2023-09-27 09:38:37.957\u001B[0m | \u001B[1mINFO    \u001B[0m | \u001B[36mpredictability.models\u001B[0m:\u001B[36mfit\u001B[0m:\u001B[36m182\u001B[0m - \u001B[1mFitting ridge\u001B[0m\n",
      "\u001B[32m2023-09-27 09:38:38.382\u001B[0m | \u001B[1mINFO    \u001B[0m | \u001B[36mpredictability.models\u001B[0m:\u001B[36mfit\u001B[0m:\u001B[36m182\u001B[0m - \u001B[1mFitting ridge\u001B[0m\n",
      "\u001B[32m2023-09-27 09:38:38.837\u001B[0m | \u001B[1mINFO    \u001B[0m | \u001B[36mpredictability.models\u001B[0m:\u001B[36mfit\u001B[0m:\u001B[36m182\u001B[0m - \u001B[1mFitting ridge\u001B[0m\n",
      "\u001B[32m2023-09-27 09:38:39.292\u001B[0m | \u001B[1mINFO    \u001B[0m | \u001B[36mpredictability.models\u001B[0m:\u001B[36mfit\u001B[0m:\u001B[36m182\u001B[0m - \u001B[1mFitting ridge\u001B[0m\n",
      "\u001B[32m2023-09-27 09:38:39.724\u001B[0m | \u001B[1mINFO    \u001B[0m | \u001B[36mpredictability.models\u001B[0m:\u001B[36mfit\u001B[0m:\u001B[36m182\u001B[0m - \u001B[1mFitting ridge\u001B[0m\n",
      "\u001B[32m2023-09-27 09:38:40.164\u001B[0m | \u001B[1mINFO    \u001B[0m | \u001B[36mpredictability.models\u001B[0m:\u001B[36mfit\u001B[0m:\u001B[36m182\u001B[0m - \u001B[1mFitting ridge\u001B[0m\n",
      "\u001B[32m2023-09-27 09:38:40.599\u001B[0m | \u001B[1mINFO    \u001B[0m | \u001B[36mpredictability.models\u001B[0m:\u001B[36mfit\u001B[0m:\u001B[36m182\u001B[0m - \u001B[1mFitting ridge\u001B[0m\n",
      "\u001B[32m2023-09-27 09:38:41.044\u001B[0m | \u001B[1mINFO    \u001B[0m | \u001B[36mpredictability.models\u001B[0m:\u001B[36mfit\u001B[0m:\u001B[36m182\u001B[0m - \u001B[1mFitting ridge\u001B[0m\n",
      "\u001B[32m2023-09-27 09:38:41.467\u001B[0m | \u001B[1mINFO    \u001B[0m | \u001B[36mpredictability.models\u001B[0m:\u001B[36mfit\u001B[0m:\u001B[36m182\u001B[0m - \u001B[1mFitting ridge\u001B[0m\n",
      "\u001B[32m2023-09-27 09:38:41.899\u001B[0m | \u001B[1mINFO    \u001B[0m | \u001B[36mpredictability.models\u001B[0m:\u001B[36mfit\u001B[0m:\u001B[36m182\u001B[0m - \u001B[1mFitting ridge\u001B[0m\n",
      "\u001B[32m2023-09-27 09:38:42.363\u001B[0m | \u001B[1mINFO    \u001B[0m | \u001B[36mpredictability.models\u001B[0m:\u001B[36mfit\u001B[0m:\u001B[36m182\u001B[0m - \u001B[1mFitting ridge\u001B[0m\n",
      "\u001B[32m2023-09-27 09:38:42.781\u001B[0m | \u001B[1mINFO    \u001B[0m | \u001B[36mpredictability.models\u001B[0m:\u001B[36mfit\u001B[0m:\u001B[36m182\u001B[0m - \u001B[1mFitting ridge\u001B[0m\n",
      "\u001B[32m2023-09-27 09:38:43.220\u001B[0m | \u001B[1mINFO    \u001B[0m | \u001B[36mpredictability.models\u001B[0m:\u001B[36mfit\u001B[0m:\u001B[36m182\u001B[0m - \u001B[1mFitting ridge\u001B[0m\n",
      "\u001B[32m2023-09-27 09:38:43.672\u001B[0m | \u001B[1mINFO    \u001B[0m | \u001B[36mpredictability.models\u001B[0m:\u001B[36mfit\u001B[0m:\u001B[36m182\u001B[0m - \u001B[1mFitting ridge\u001B[0m\n",
      "\u001B[32m2023-09-27 09:38:44.145\u001B[0m | \u001B[1mINFO    \u001B[0m | \u001B[36mpredictability.models\u001B[0m:\u001B[36mfit\u001B[0m:\u001B[36m182\u001B[0m - \u001B[1mFitting ridge\u001B[0m\n",
      "\u001B[32m2023-09-27 09:38:44.636\u001B[0m | \u001B[1mINFO    \u001B[0m | \u001B[36mpredictability.models\u001B[0m:\u001B[36mfit\u001B[0m:\u001B[36m182\u001B[0m - \u001B[1mFitting ridge\u001B[0m\n",
      "\u001B[32m2023-09-27 09:38:45.112\u001B[0m | \u001B[1mINFO    \u001B[0m | \u001B[36mpredictability.models\u001B[0m:\u001B[36mfit\u001B[0m:\u001B[36m182\u001B[0m - \u001B[1mFitting ridge\u001B[0m\n",
      "\u001B[32m2023-09-27 09:38:45.584\u001B[0m | \u001B[1mINFO    \u001B[0m | \u001B[36mpredictability.models\u001B[0m:\u001B[36mfit\u001B[0m:\u001B[36m182\u001B[0m - \u001B[1mFitting ridge\u001B[0m\n",
      "\u001B[32m2023-09-27 09:38:46.084\u001B[0m | \u001B[1mINFO    \u001B[0m | \u001B[36mpredictability.models\u001B[0m:\u001B[36mfit\u001B[0m:\u001B[36m182\u001B[0m - \u001B[1mFitting ridge\u001B[0m\n",
      "\u001B[32m2023-09-27 09:38:46.591\u001B[0m | \u001B[1mINFO    \u001B[0m | \u001B[36mpredictability.models\u001B[0m:\u001B[36mfit\u001B[0m:\u001B[36m182\u001B[0m - \u001B[1mFitting ridge\u001B[0m\n",
      "\u001B[32m2023-09-27 09:38:47.055\u001B[0m | \u001B[1mINFO    \u001B[0m | \u001B[36mpredictability.models\u001B[0m:\u001B[36mfit\u001B[0m:\u001B[36m182\u001B[0m - \u001B[1mFitting ridge\u001B[0m\n",
      "\u001B[32m2023-09-27 09:38:47.530\u001B[0m | \u001B[1mINFO    \u001B[0m | \u001B[36mpredictability.models\u001B[0m:\u001B[36mfit\u001B[0m:\u001B[36m182\u001B[0m - \u001B[1mFitting ridge\u001B[0m\n",
      "\u001B[32m2023-09-27 09:38:48.131\u001B[0m | \u001B[1mINFO    \u001B[0m | \u001B[36mpredictability.models\u001B[0m:\u001B[36mfit\u001B[0m:\u001B[36m182\u001B[0m - \u001B[1mFitting ridge\u001B[0m\n",
      "\u001B[32m2023-09-27 09:38:49.127\u001B[0m | \u001B[1mINFO    \u001B[0m | \u001B[36mpredictability.models\u001B[0m:\u001B[36mfit\u001B[0m:\u001B[36m182\u001B[0m - \u001B[1mFitting ridge\u001B[0m\n"
     ]
    }
   ],
   "source": [
    "experiment_results = {\n",
    "    \"fold\": [],\n",
    "    \"feature\": [],\n",
    "    \"belongs\": [],\n",
    "    \"spearman_val\": [],\n",
    "    \"model\": [],\n",
    "}\n",
    "prediction_dfs = []\n",
    "for feature in BINARY_RESIDUE_FEATURES:\n",
    "    for belongs in [0, 1]:\n",
    "        df = data[data[feature]==belongs].reset_index()\n",
    "        for i, (train_inds, test_inds) in enumerate(sel_kfold(df, position_col=\"residue_number\", k=10)):\n",
    "            split_ids = np.empty(len(df), dtype=object)\n",
    "            split_ids[train_inds] = \"train\"\n",
    "            split_ids[test_inds] = \"valid\"\n",
    "            df[\"split\"] = split_ids\n",
    "            train_embeddings_indices = df[df[\"split\"] == \"train\"][\"embedding_index\"].values\n",
    "            fold_train_embeddings = embeddings[train_embeddings_indices]\n",
    "            valid_embeddings_indices = df[df[\"split\"] == \"valid\"][\"embedding_index\"].values\n",
    "            fold_valid_embeddings = embeddings[valid_embeddings_indices]\n",
    "            rita_model.fit(df[df[\"split\"] == \"train\"], property, embeddings=fold_train_embeddings)\n",
    "            predictions_val = rita_model.predict(df[df[\"split\"] == \"valid\"], embeddings=fold_valid_embeddings)\n",
    "            spearman_val = spearmanr(df[df[\"split\"] == \"valid\"][property].values, predictions_val)[0]\n",
    "            experiment_results[\"fold\"].append(i)\n",
    "            experiment_results[\"feature\"].append(feature)\n",
    "            experiment_results[\"belongs\"].append(belongs)\n",
    "            experiment_results[\"spearman_val\"].append(spearman_val)\n",
    "            experiment_results[\"model\"].append(\"RITARegressor\")"
   ],
   "metadata": {
    "collapsed": false
   }
  },
  {
   "cell_type": "code",
   "execution_count": 9,
   "outputs": [],
   "source": [
    "results_df = pd.DataFrame(experiment_results)\n",
    "results_df.to_csv(results_dir / \"scores.csv\")"
   ],
   "metadata": {
    "collapsed": false
   }
  }
 ],
 "metadata": {
  "kernelspec": {
   "display_name": "Python 3",
   "language": "python",
   "name": "python3"
  },
  "language_info": {
   "codemirror_mode": {
    "name": "ipython",
    "version": 2
   },
   "file_extension": ".py",
   "mimetype": "text/x-python",
   "name": "python",
   "nbconvert_exporter": "python",
   "pygments_lexer": "ipython2",
   "version": "2.7.6"
  }
 },
 "nbformat": 4,
 "nbformat_minor": 0
}
