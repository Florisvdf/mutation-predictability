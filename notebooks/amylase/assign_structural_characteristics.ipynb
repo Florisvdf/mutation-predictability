{
 "cells": [
  {
   "cell_type": "code",
   "execution_count": 39,
   "metadata": {
    "collapsed": true
   },
   "outputs": [],
   "source": [
    "from dataclasses import dataclass\n",
    "\n",
    "import pandas as pd\n",
    "import numpy as np\n",
    "\n",
    "import prody\n",
    "from biopandas.pdb import PandasPdb\n",
    "from biotite.sequence import ProteinSequence\n",
    "\n",
    "\n",
    "from predictability.constants import DATA_ROOT\n",
    "from predictability.utils import (\n",
    "    read_fasta,\n",
    "    coord_distance,\n",
    "    dist_to_active_site,\n",
    "    get_buriedness,\n",
    "    assign_mutations,\n",
    "    assign_classes,\n",
    ")"
   ]
  },
  {
   "cell_type": "code",
   "execution_count": 40,
   "outputs": [],
   "source": [
    "data_dir = DATA_ROOT / \"amylase\"\n",
    "data_dir.mkdir(exist_ok=True)\n",
    "pdb_id = \"1ua7\""
   ],
   "metadata": {
    "collapsed": false
   }
  },
  {
   "cell_type": "code",
   "execution_count": 41,
   "outputs": [],
   "source": [
    "filename = data_dir / f\"{pdb_id}.pdb\"\n",
    "structure = PandasPdb().read_pdb(str(data_dir / f\"{pdb_id}.pdb\")).df[\"ATOM\"].query('alt_loc == \"\" or alt_loc == \"A\"')\n",
    "residue_characteristics = (\n",
    "    structure[[\"residue_number\", \"residue_name\"]]\n",
    "    .drop_duplicates()\n",
    "    .assign(\n",
    "    residue_name=lambda d: d.residue_name.apply(ProteinSequence.convert_letter_3to1)\n",
    "))"
   ],
   "metadata": {
    "collapsed": false
   }
  },
  {
   "cell_type": "code",
   "execution_count": 42,
   "outputs": [],
   "source": [
    "reference_sequence = [value for _, value in read_fasta(data_dir / \"reference.fasta\").items()][0]"
   ],
   "metadata": {
    "collapsed": false
   }
  },
  {
   "cell_type": "markdown",
   "source": [
    "# Calculating buriedness"
   ],
   "metadata": {
    "collapsed": false
   }
  },
  {
   "cell_type": "code",
   "execution_count": 43,
   "outputs": [],
   "source": [
    "buriedness = get_buriedness(filename).loc[\n",
    "    lambda d: (d.chain_id == \"A\") & (~d.residue_name.isin([\"HOH\", \"ACI\", \"CA\"]))\n",
    "]\n",
    "\n",
    "residue_characteristics = residue_characteristics.merge(buriedness[[\"residue_number\", \"buriedness\"]], on=[\"residue_number\"])"
   ],
   "metadata": {
    "collapsed": false
   }
  },
  {
   "cell_type": "markdown",
   "source": [
    "# Calculating number of contacts"
   ],
   "metadata": {
    "collapsed": false
   }
  },
  {
   "cell_type": "code",
   "execution_count": 44,
   "outputs": [],
   "source": [
    "ca_atoms = (\n",
    "    structure.loc[lambda d: d.atom_name == \"CA\"] .copy()\n",
    "    .assign(contacts=np.nan)[\n",
    "            [\"residue_number\", \"contacts\", \"x_coord\", \"y_coord\", \"z_coord\"]\n",
    "        ].set_index(\"residue_number\")\n",
    ")\n",
    "for ca in ca_atoms.itertuples():\n",
    "    contacts = 0\n",
    "    for other in ca_atoms.itertuples():\n",
    "        if ca.Index != other.Index:\n",
    "            dist = distance(ca, other)\n",
    "            if dist < 7.3:\n",
    "                contacts += 1\n",
    "    ca_atoms.loc[ca.Index, \"contacts\"] = contacts\n",
    "residue_characteristics = residue_characteristics.merge(ca_atoms.reset_index()[[\"residue_number\", \"contacts\"]])"
   ],
   "metadata": {
    "collapsed": false
   }
  },
  {
   "cell_type": "markdown",
   "source": [
    "# Calculating distance to the active site"
   ],
   "metadata": {
    "collapsed": false
   }
  },
  {
   "cell_type": "code",
   "execution_count": 45,
   "outputs": [],
   "source": [
    "active_site_residues = [176, 208]\n",
    "active_site = list(structure.loc[lambda d: (d.residue_number.isin(active_site_residues)) & (d.atom_name == \"CA\")].itertuples())\n",
    "as_distances = (\n",
    "    structure.loc[lambda d: d.atom_name == \"CA\"] .copy()\n",
    "    [\n",
    "        [\"residue_number\", \"x_coord\", \"y_coord\", \"z_coord\"]\n",
    "    ].set_index(\"residue_number\")\n",
    ")\n",
    "as_distances[\"distance_to_active_site\"] = [dist_to_active_site(ca, active_site) for ca in as_distances.itertuples()]\n",
    "residue_characteristics = residue_characteristics.merge(as_distances.reset_index()[[\"residue_number\", \"distance_to_active_site\"]])"
   ],
   "metadata": {
    "collapsed": false
   }
  },
  {
   "cell_type": "markdown",
   "source": [
    "# Determining secondary structure"
   ],
   "metadata": {
    "collapsed": false
   }
  },
  {
   "cell_type": "code",
   "execution_count": 46,
   "outputs": [
    {
     "name": "stderr",
     "output_type": "stream",
     "text": [
      "@> 3808 atoms and 1 coordinate set(s) were parsed in 0.02s.\n"
     ]
    }
   ],
   "source": [
    "_, header = prody.parsePDB(str(data_dir / f\"{pdb_id}.pdb\"), header=True)\n",
    "residues = structure.loc[lambda d: d.atom_name == \"CA\"].copy()[[\"residue_number\"]]\n",
    "\n",
    "@dataclass\n",
    "class Range:\n",
    "    start: int\n",
    "    stop: int\n",
    "\n",
    "    def __contains__(self, value):\n",
    "        return self.stop >= value >= self.start\n",
    "\n",
    "ranges = [Range(start, stop) for _, _, _, _, start, stop in header[\"helix_range\"] + header[\"sheet_range\"]]\n",
    "\n",
    "residues[\"is_secondary\"] = [any(v in r for r in ranges) for v in structure.residue_number.unique()]\n",
    "residue_characteristics = residue_characteristics.merge(residues)"
   ],
   "metadata": {
    "collapsed": false
   }
  },
  {
   "cell_type": "code",
   "execution_count": 47,
   "outputs": [],
   "source": [
    "# Binarize\n",
    "residue_characteristics[\"is_buried\"] = (residue_characteristics.buriedness > residue_characteristics.buriedness.quantile(1 - 1/2)).astype(bool)\n",
    "residue_characteristics[\"is_connected\"] = (residue_characteristics.contacts > residue_characteristics.contacts.quantile(1 - 1/2)).astype(bool)\n",
    "residue_characteristics[\"is_close_to_as\"] = (residue_characteristics.distance_to_active_site < residue_characteristics.distance_to_active_site.quantile(1 - 1/2)).astype(bool)"
   ],
   "metadata": {
    "collapsed": false
   }
  },
  {
   "cell_type": "code",
   "execution_count": 48,
   "outputs": [],
   "source": [
    "# Save\n",
    "residue_characteristics.to_csv(data_dir / \"structural_characteristics.csv\", index=False)"
   ],
   "metadata": {
    "collapsed": false
   }
  },
  {
   "cell_type": "code",
   "execution_count": 49,
   "outputs": [
    {
     "data": {
      "text/plain": "     residue_number residue_name  buriedness  contacts  \\\n0                 4            P    2.122458       4.0   \n1                 5            S    3.177263       5.0   \n2                 6            I    6.574809       9.0   \n3                 7            K    6.422451       6.0   \n4                 8            S    5.470014       9.0   \n..              ...          ...         ...       ...   \n417             421            V   10.350866      13.0   \n418             422            L    9.082451      11.0   \n419             423            Y    6.608980       8.0   \n420             424            P    2.867646       4.0   \n421             425            D    0.469759       2.0   \n\n     distance_to_active_site  is_secondary  is_buried  is_connected  \\\n0                  34.299691         False      False         False   \n1                  30.524442         False      False         False   \n2                  28.138897         False       True         False   \n3                  27.714115         False       True         False   \n4                  31.516398         False       True         False   \n..                       ...           ...        ...           ...   \n417                46.579590          True       True          True   \n418                49.025293          True       True          True   \n419                49.148367         False       True         False   \n420                51.569397         False      False         False   \n421                51.492330         False      False         False   \n\n     is_close_to_as  \n0             False  \n1             False  \n2              True  \n3              True  \n4             False  \n..              ...  \n417           False  \n418           False  \n419           False  \n420           False  \n421           False  \n\n[422 rows x 9 columns]",
      "text/html": "<div>\n<style scoped>\n    .dataframe tbody tr th:only-of-type {\n        vertical-align: middle;\n    }\n\n    .dataframe tbody tr th {\n        vertical-align: top;\n    }\n\n    .dataframe thead th {\n        text-align: right;\n    }\n</style>\n<table border=\"1\" class=\"dataframe\">\n  <thead>\n    <tr style=\"text-align: right;\">\n      <th></th>\n      <th>residue_number</th>\n      <th>residue_name</th>\n      <th>buriedness</th>\n      <th>contacts</th>\n      <th>distance_to_active_site</th>\n      <th>is_secondary</th>\n      <th>is_buried</th>\n      <th>is_connected</th>\n      <th>is_close_to_as</th>\n    </tr>\n  </thead>\n  <tbody>\n    <tr>\n      <th>0</th>\n      <td>4</td>\n      <td>P</td>\n      <td>2.122458</td>\n      <td>4.0</td>\n      <td>34.299691</td>\n      <td>False</td>\n      <td>False</td>\n      <td>False</td>\n      <td>False</td>\n    </tr>\n    <tr>\n      <th>1</th>\n      <td>5</td>\n      <td>S</td>\n      <td>3.177263</td>\n      <td>5.0</td>\n      <td>30.524442</td>\n      <td>False</td>\n      <td>False</td>\n      <td>False</td>\n      <td>False</td>\n    </tr>\n    <tr>\n      <th>2</th>\n      <td>6</td>\n      <td>I</td>\n      <td>6.574809</td>\n      <td>9.0</td>\n      <td>28.138897</td>\n      <td>False</td>\n      <td>True</td>\n      <td>False</td>\n      <td>True</td>\n    </tr>\n    <tr>\n      <th>3</th>\n      <td>7</td>\n      <td>K</td>\n      <td>6.422451</td>\n      <td>6.0</td>\n      <td>27.714115</td>\n      <td>False</td>\n      <td>True</td>\n      <td>False</td>\n      <td>True</td>\n    </tr>\n    <tr>\n      <th>4</th>\n      <td>8</td>\n      <td>S</td>\n      <td>5.470014</td>\n      <td>9.0</td>\n      <td>31.516398</td>\n      <td>False</td>\n      <td>True</td>\n      <td>False</td>\n      <td>False</td>\n    </tr>\n    <tr>\n      <th>...</th>\n      <td>...</td>\n      <td>...</td>\n      <td>...</td>\n      <td>...</td>\n      <td>...</td>\n      <td>...</td>\n      <td>...</td>\n      <td>...</td>\n      <td>...</td>\n    </tr>\n    <tr>\n      <th>417</th>\n      <td>421</td>\n      <td>V</td>\n      <td>10.350866</td>\n      <td>13.0</td>\n      <td>46.579590</td>\n      <td>True</td>\n      <td>True</td>\n      <td>True</td>\n      <td>False</td>\n    </tr>\n    <tr>\n      <th>418</th>\n      <td>422</td>\n      <td>L</td>\n      <td>9.082451</td>\n      <td>11.0</td>\n      <td>49.025293</td>\n      <td>True</td>\n      <td>True</td>\n      <td>True</td>\n      <td>False</td>\n    </tr>\n    <tr>\n      <th>419</th>\n      <td>423</td>\n      <td>Y</td>\n      <td>6.608980</td>\n      <td>8.0</td>\n      <td>49.148367</td>\n      <td>False</td>\n      <td>True</td>\n      <td>False</td>\n      <td>False</td>\n    </tr>\n    <tr>\n      <th>420</th>\n      <td>424</td>\n      <td>P</td>\n      <td>2.867646</td>\n      <td>4.0</td>\n      <td>51.569397</td>\n      <td>False</td>\n      <td>False</td>\n      <td>False</td>\n      <td>False</td>\n    </tr>\n    <tr>\n      <th>421</th>\n      <td>425</td>\n      <td>D</td>\n      <td>0.469759</td>\n      <td>2.0</td>\n      <td>51.492330</td>\n      <td>False</td>\n      <td>False</td>\n      <td>False</td>\n      <td>False</td>\n    </tr>\n  </tbody>\n</table>\n<p>422 rows × 9 columns</p>\n</div>"
     },
     "execution_count": 49,
     "metadata": {},
     "output_type": "execute_result"
    }
   ],
   "source": [
    "residue_characteristics"
   ],
   "metadata": {
    "collapsed": false
   }
  },
  {
   "cell_type": "markdown",
   "source": [
    "# Assigning structural characteristics to singles"
   ],
   "metadata": {
    "collapsed": false
   }
  },
  {
   "cell_type": "code",
   "execution_count": 50,
   "outputs": [],
   "source": [
    "data = pd.read_csv(data_dir / \"raw_singles_data.csv\")\n",
    "data = assign_mutations(data, str(reference_sequence))\n",
    "feature_table = pd.read_csv(data_dir / \"structural_characteristics.csv\")\n",
    "data = assign_classes(data, feature_table, mutation_col=\"mutations\", features=[\"is_buried\", \"is_connected\", \"is_close_to_as\", \"is_secondary\"])\n",
    "data.to_csv(data_dir / \"singles.csv\")"
   ],
   "metadata": {
    "collapsed": false
   }
  }
 ],
 "metadata": {
  "kernelspec": {
   "display_name": "Python 3",
   "language": "python",
   "name": "python3"
  },
  "language_info": {
   "codemirror_mode": {
    "name": "ipython",
    "version": 2
   },
   "file_extension": ".py",
   "mimetype": "text/x-python",
   "name": "python",
   "nbconvert_exporter": "python",
   "pygments_lexer": "ipython2",
   "version": "2.7.6"
  }
 },
 "nbformat": 4,
 "nbformat_minor": 0
}
