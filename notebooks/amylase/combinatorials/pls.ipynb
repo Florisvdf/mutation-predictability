{
 "cells": [
  {
   "cell_type": "code",
   "execution_count": 1,
   "metadata": {
    "collapsed": true
   },
   "outputs": [],
   "source": [
    "from pathlib import Path\n",
    "\n",
    "import pandas as pd\n",
    "import numpy as np\n",
    "from scipy.stats import spearmanr\n",
    "from sklearn.model_selection import KFold\n",
    "\n",
    "from predictability.models import PartialLeastSquares\n",
    "from predictability.constants import BINARY_RESIDUE_FEATURES, PROJECT_ROOT, DATA_ROOT"
   ]
  },
  {
   "cell_type": "code",
   "execution_count": 2,
   "outputs": [],
   "source": [
    "results_dir = Path(PROJECT_ROOT / \"results/amylase/combinatorials/pls\")\n",
    "results_dir.mkdir(exist_ok=True, parents=True)\n",
    "seed = 42"
   ],
   "metadata": {
    "collapsed": false
   }
  },
  {
   "cell_type": "code",
   "execution_count": 3,
   "outputs": [],
   "source": [
    "data = pd.read_csv(DATA_ROOT / \"amylase/combinatorials.csv\")\n",
    "property = \"stain_activity\""
   ],
   "metadata": {
    "collapsed": false
   }
  },
  {
   "cell_type": "code",
   "execution_count": 4,
   "outputs": [
    {
     "data": {
      "text/plain": "      Unnamed: 0                                           sequence  \\\n0              0  LTAPSIKSGVILHAWNWSFNTLKHNMKDIHDAGYTAIQTSPINQVK...   \n1              1  LTAPSIKSGTILHAWNWSFNTLKHNMKDIHDAGYTAIQTSPINQVK...   \n2              2  LTAPSIKSGTILHAWNWSFNTLKHNMKDIHDAGYTAIQTSPINQVK...   \n3              3  LTAPSIKSGTILHAWNWSFNTLKHNMKDIHDAGYTAIQTSPINQVK...   \n4              4  LTAPSIKSGTILHAWNWSFNTLKHNMKDIHDAGYTAIQTSPINQVK...   \n...          ...                                                ...   \n3701        3701  LTAPSIKSGTILHAWNWSFNTLKHNMKDIHDAGYTAIQTSPINQVK...   \n3702        3702  LTAPSIKSGTILHAWNWSFNTLKHNMKDIHDAGYTAIQTSPINQVK...   \n3703        3703  LTAPSIKSGTQLHAWNWSFNTLKHNMKDIHDAGYTAIQTSPINQVK...   \n3704        3704  LTAPSIKSGTILHAWNWSFNTLKHNMKDIHDAGYTAIQTSPINQVK...   \n3705        3705  LTAPSIKSGTILHAWNWSFNTLKHNMKDIHDAGYTAIQTSPINQVK...   \n\n      stain_activity sampler                mutations  is_buried  \\\n0           0.006936      lm        T010V-T103P-I209W       True   \n1           0.139217      lm                    A098V       True   \n2           0.017767  random        R296H-P307Q-G326N       True   \n3           0.025117      lm              R133D-R164K      False   \n4           0.009967      lm  W130Y-L141W-G143S-Y252W       True   \n...              ...     ...                      ...        ...   \n3701        0.004417      lm  V099I-E182G-Q211N-Y252R       True   \n3702        0.131417  random                    P424S      False   \n3703        0.005050  random              I011Q-A178Q       True   \n3704        0.029917      lm              F161V-H233Q       True   \n3705        0.067183      lm                    V292Y       True   \n\n      is_connected  is_close_to_as  is_secondary  \n0             True            True         False  \n1            False            True          True  \n2            False           False         False  \n3            False            True          True  \n4            False            True         False  \n...            ...             ...           ...  \n3701         False            True         False  \n3702         False           False         False  \n3703          True            True          True  \n3704         False            True          True  \n3705         False           False          True  \n\n[3706 rows x 9 columns]",
      "text/html": "<div>\n<style scoped>\n    .dataframe tbody tr th:only-of-type {\n        vertical-align: middle;\n    }\n\n    .dataframe tbody tr th {\n        vertical-align: top;\n    }\n\n    .dataframe thead th {\n        text-align: right;\n    }\n</style>\n<table border=\"1\" class=\"dataframe\">\n  <thead>\n    <tr style=\"text-align: right;\">\n      <th></th>\n      <th>Unnamed: 0</th>\n      <th>sequence</th>\n      <th>stain_activity</th>\n      <th>sampler</th>\n      <th>mutations</th>\n      <th>is_buried</th>\n      <th>is_connected</th>\n      <th>is_close_to_as</th>\n      <th>is_secondary</th>\n    </tr>\n  </thead>\n  <tbody>\n    <tr>\n      <th>0</th>\n      <td>0</td>\n      <td>LTAPSIKSGVILHAWNWSFNTLKHNMKDIHDAGYTAIQTSPINQVK...</td>\n      <td>0.006936</td>\n      <td>lm</td>\n      <td>T010V-T103P-I209W</td>\n      <td>True</td>\n      <td>True</td>\n      <td>True</td>\n      <td>False</td>\n    </tr>\n    <tr>\n      <th>1</th>\n      <td>1</td>\n      <td>LTAPSIKSGTILHAWNWSFNTLKHNMKDIHDAGYTAIQTSPINQVK...</td>\n      <td>0.139217</td>\n      <td>lm</td>\n      <td>A098V</td>\n      <td>True</td>\n      <td>False</td>\n      <td>True</td>\n      <td>True</td>\n    </tr>\n    <tr>\n      <th>2</th>\n      <td>2</td>\n      <td>LTAPSIKSGTILHAWNWSFNTLKHNMKDIHDAGYTAIQTSPINQVK...</td>\n      <td>0.017767</td>\n      <td>random</td>\n      <td>R296H-P307Q-G326N</td>\n      <td>True</td>\n      <td>False</td>\n      <td>False</td>\n      <td>False</td>\n    </tr>\n    <tr>\n      <th>3</th>\n      <td>3</td>\n      <td>LTAPSIKSGTILHAWNWSFNTLKHNMKDIHDAGYTAIQTSPINQVK...</td>\n      <td>0.025117</td>\n      <td>lm</td>\n      <td>R133D-R164K</td>\n      <td>False</td>\n      <td>False</td>\n      <td>True</td>\n      <td>True</td>\n    </tr>\n    <tr>\n      <th>4</th>\n      <td>4</td>\n      <td>LTAPSIKSGTILHAWNWSFNTLKHNMKDIHDAGYTAIQTSPINQVK...</td>\n      <td>0.009967</td>\n      <td>lm</td>\n      <td>W130Y-L141W-G143S-Y252W</td>\n      <td>True</td>\n      <td>False</td>\n      <td>True</td>\n      <td>False</td>\n    </tr>\n    <tr>\n      <th>...</th>\n      <td>...</td>\n      <td>...</td>\n      <td>...</td>\n      <td>...</td>\n      <td>...</td>\n      <td>...</td>\n      <td>...</td>\n      <td>...</td>\n      <td>...</td>\n    </tr>\n    <tr>\n      <th>3701</th>\n      <td>3701</td>\n      <td>LTAPSIKSGTILHAWNWSFNTLKHNMKDIHDAGYTAIQTSPINQVK...</td>\n      <td>0.004417</td>\n      <td>lm</td>\n      <td>V099I-E182G-Q211N-Y252R</td>\n      <td>True</td>\n      <td>False</td>\n      <td>True</td>\n      <td>False</td>\n    </tr>\n    <tr>\n      <th>3702</th>\n      <td>3702</td>\n      <td>LTAPSIKSGTILHAWNWSFNTLKHNMKDIHDAGYTAIQTSPINQVK...</td>\n      <td>0.131417</td>\n      <td>random</td>\n      <td>P424S</td>\n      <td>False</td>\n      <td>False</td>\n      <td>False</td>\n      <td>False</td>\n    </tr>\n    <tr>\n      <th>3703</th>\n      <td>3703</td>\n      <td>LTAPSIKSGTQLHAWNWSFNTLKHNMKDIHDAGYTAIQTSPINQVK...</td>\n      <td>0.005050</td>\n      <td>random</td>\n      <td>I011Q-A178Q</td>\n      <td>True</td>\n      <td>True</td>\n      <td>True</td>\n      <td>True</td>\n    </tr>\n    <tr>\n      <th>3704</th>\n      <td>3704</td>\n      <td>LTAPSIKSGTILHAWNWSFNTLKHNMKDIHDAGYTAIQTSPINQVK...</td>\n      <td>0.029917</td>\n      <td>lm</td>\n      <td>F161V-H233Q</td>\n      <td>True</td>\n      <td>False</td>\n      <td>True</td>\n      <td>True</td>\n    </tr>\n    <tr>\n      <th>3705</th>\n      <td>3705</td>\n      <td>LTAPSIKSGTILHAWNWSFNTLKHNMKDIHDAGYTAIQTSPINQVK...</td>\n      <td>0.067183</td>\n      <td>lm</td>\n      <td>V292Y</td>\n      <td>True</td>\n      <td>False</td>\n      <td>False</td>\n      <td>True</td>\n    </tr>\n  </tbody>\n</table>\n<p>3706 rows × 9 columns</p>\n</div>"
     },
     "execution_count": 4,
     "metadata": {},
     "output_type": "execute_result"
    }
   ],
   "source": [
    "data"
   ],
   "metadata": {
    "collapsed": false
   }
  },
  {
   "cell_type": "code",
   "execution_count": 5,
   "outputs": [],
   "source": [
    "experiment_results = {\n",
    "    \"fold\": [],\n",
    "    \"feature\": [],\n",
    "    \"belongs\": [],\n",
    "    \"spearman_val\": [],\n",
    "    \"model\": [],\n",
    "}\n",
    "prediction_dfs = []\n",
    "for feature in BINARY_RESIDUE_FEATURES:\n",
    "    for belongs in [0, 1]:\n",
    "        df = data[data[feature]==belongs].reset_index()\n",
    "        k_fold = KFold(n_splits=10, shuffle=True, random_state=seed)\n",
    "        for i, (train_inds, test_inds) in enumerate(k_fold.split(np.arange(len(df)))):\n",
    "            split_ids = np.empty(len(df), dtype=object)\n",
    "            split_ids[train_inds] = \"train\"\n",
    "            split_ids[test_inds] = \"valid\"\n",
    "            df[\"split\"] = split_ids\n",
    "            model = PartialLeastSquares()\n",
    "            model.fit(df[df[\"split\"] == \"train\"], property)\n",
    "            predictions_val = model.predict(df[df[\"split\"] == \"valid\"])\n",
    "            spearman_val, _ = spearmanr(df[df[\"split\"] == \"valid\"][property].values, predictions_val)\n",
    "            experiment_results[\"fold\"].append(i)\n",
    "            experiment_results[\"feature\"].append(feature)\n",
    "            experiment_results[\"belongs\"].append(belongs)\n",
    "            experiment_results[\"spearman_val\"].append(spearman_val)\n",
    "            experiment_results[\"model\"].append(\"PLS\")"
   ],
   "metadata": {
    "collapsed": false
   }
  },
  {
   "cell_type": "code",
   "execution_count": 6,
   "outputs": [],
   "source": [
    "results_df = pd.DataFrame(experiment_results)\n",
    "results_df.to_csv(results_dir / \"scores.csv\")"
   ],
   "metadata": {
    "collapsed": false
   }
  }
 ],
 "metadata": {
  "kernelspec": {
   "display_name": "Python 3",
   "language": "python",
   "name": "python3"
  },
  "language_info": {
   "codemirror_mode": {
    "name": "ipython",
    "version": 2
   },
   "file_extension": ".py",
   "mimetype": "text/x-python",
   "name": "python",
   "nbconvert_exporter": "python",
   "pygments_lexer": "ipython2",
   "version": "2.7.6"
  }
 },
 "nbformat": 4,
 "nbformat_minor": 0
}
