{
 "cells": [
  {
   "cell_type": "code",
   "execution_count": 7,
   "metadata": {
    "collapsed": true
   },
   "outputs": [],
   "source": [
    "from pathlib import Path\n",
    "\n",
    "import pandas as pd\n",
    "import numpy as np\n",
    "from scipy.stats import spearmanr\n",
    "from sklearn.model_selection import KFold\n",
    "\n",
    "from predictability.models import ResidueAgnosticRegressor\n",
    "from predictability.utils import read_fasta\n",
    "from predictability.constants import BINARY_RESIDUE_FEATURES, PROJECT_ROOT, DATA_ROOT"
   ]
  },
  {
   "cell_type": "code",
   "execution_count": 8,
   "outputs": [],
   "source": [
    "results_dir = Path(PROJECT_ROOT / \"results/amylase/combinatorials/rar\")\n",
    "results_dir.mkdir(exist_ok=True, parents=True)\n",
    "seed = 42"
   ],
   "metadata": {
    "collapsed": false
   }
  },
  {
   "cell_type": "code",
   "execution_count": 9,
   "outputs": [],
   "source": [
    "data = pd.read_csv(DATA_ROOT / \"amylase/combinatorials.csv\")\n",
    "property = \"stain_activity\"\n",
    "reference = [sequence for key, sequence in read_fasta(DATA_ROOT / \"amylase/reference.fasta\").items()][0]"
   ],
   "metadata": {
    "collapsed": false
   }
  },
  {
   "cell_type": "code",
   "execution_count": 10,
   "outputs": [],
   "source": [
    "model = ResidueAgnosticRegressor(wildtype_sequence=reference)"
   ],
   "metadata": {
    "collapsed": false
   }
  },
  {
   "cell_type": "markdown",
   "source": [
    "# Stain activity"
   ],
   "metadata": {
    "collapsed": false
   }
  },
  {
   "cell_type": "code",
   "execution_count": 11,
   "outputs": [],
   "source": [
    "experiment_results = {\n",
    "    \"fold\": [],\n",
    "    \"feature\": [],\n",
    "    \"belongs\": [],\n",
    "    \"spearman_val\": [],\n",
    "    \"model\": [],\n",
    "}\n",
    "prediction_dfs = []\n",
    "for feature in BINARY_RESIDUE_FEATURES:\n",
    "    for belongs in [0, 1]:\n",
    "        df = data[data[feature]==belongs].reset_index()\n",
    "        k_fold = KFold(n_splits=10, shuffle=True, random_state=seed)\n",
    "        for i, (train_inds, test_inds) in enumerate(k_fold.split(np.arange(len(df)))):\n",
    "            split_ids = np.empty(len(df), dtype=object)\n",
    "            split_ids[train_inds] = \"train\"\n",
    "            split_ids[test_inds] = \"valid\"\n",
    "            df[\"split\"] = split_ids\n",
    "            model.fit(df[df[\"split\"] == \"train\"], property)\n",
    "            predictions_val = model.predict(df[df[\"split\"] == \"valid\"])\n",
    "            spearman_val = spearmanr(df[df[\"split\"] == \"valid\"][property].values, predictions_val)[0]\n",
    "            experiment_results[\"fold\"].append(i)\n",
    "            experiment_results[\"feature\"].append(feature)\n",
    "            experiment_results[\"belongs\"].append(belongs)\n",
    "            experiment_results[\"spearman_val\"].append(spearman_val)\n",
    "            experiment_results[\"model\"].append(\"ResidueAgnosticRegressor\")"
   ],
   "metadata": {
    "collapsed": false
   }
  },
  {
   "cell_type": "code",
   "execution_count": 12,
   "outputs": [],
   "source": [
    "results_df = pd.DataFrame(experiment_results)\n",
    "results_df.to_csv(results_dir / \"scores.csv\")"
   ],
   "metadata": {
    "collapsed": false
   }
  }
 ],
 "metadata": {
  "kernelspec": {
   "display_name": "Python 3",
   "language": "python",
   "name": "python3"
  },
  "language_info": {
   "codemirror_mode": {
    "name": "ipython",
    "version": 2
   },
   "file_extension": ".py",
   "mimetype": "text/x-python",
   "name": "python",
   "nbconvert_exporter": "python",
   "pygments_lexer": "ipython2",
   "version": "2.7.6"
  }
 },
 "nbformat": 4,
 "nbformat_minor": 0
}
